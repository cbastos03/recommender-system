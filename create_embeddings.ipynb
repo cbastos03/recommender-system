{
 "cells": [
  {
   "cell_type": "code",
   "execution_count": 6,
   "id": "340fff4c-5e00-4d55-8946-a9bb96d16e1b",
   "metadata": {},
   "outputs": [
    {
     "name": "stderr",
     "output_type": "stream",
     "text": [
      "C:\\Users\\alunoDEI\\AppData\\Local\\Temp\\ipykernel_4816\\1185503818.py:15: SettingWithCopyWarning: \n",
      "A value is trying to be set on a copy of a slice from a DataFrame.\n",
      "Try using .loc[row_indexer,col_indexer] = value instead\n",
      "\n",
      "See the caveats in the documentation: https://pandas.pydata.org/pandas-docs/stable/user_guide/indexing.html#returning-a-view-versus-a-copy\n",
      "  unique_items['combined_text'] = unique_items['title'] + \": \" + unique_items['features']\n"
     ]
    },
    {
     "name": "stdout",
     "output_type": "stream",
     "text": [
      "creating embeddings with all-mpnet-base-v2\n"
     ]
    }
   ],
   "source": [
    "import pandas as pd\n",
    "import torch\n",
    "from transformers import AutoTokenizer, AutoModel\n",
    "from rank_bm25 import BM25Okapi\n",
    "from sentence_transformers import SentenceTransformer\n",
    "import numpy as np\n",
    "import os\n",
    "from sklearn.preprocessing import normalize\n",
    "\n",
    "data = pd.read_csv('Data/serenlens_with_features_cleaned_filtered.csv', dtype={'item_id': str}, sep=\";\")\n",
    "\n",
    "unique_items = data.drop_duplicates(subset=['item_id'])\n",
    "\n",
    "# This can be changed to different approachs to include other texts like description\n",
    "unique_items['combined_text'] = unique_items['title'] + \": \" + unique_items['features']\n",
    "\n",
    "embedding_dir = 'embeddings'\n",
    "os.makedirs(embedding_dir, exist_ok=True)\n",
    "\n",
    "print(\"creating embeddings with all-mpnet-base-v2\")\n",
    "model_mpnet_base = SentenceTransformer('all-mpnet-base-v2')\n",
    "embeddings_mpnet_base = model_mpnet_base.encode(unique_items['combined_text'].tolist())\n",
    "embeddings_mpnet_base = normalize(embeddings_mpnet_base, norm='l2')\n",
    "np.save(os.path.join(embedding_dir, 'all_mpnet_base_embeddings.npy'), embeddings_mpnet_base)\n",
    "\n",
    "print(\"All embeddings salved\")"
   ]
  },
  {
   "cell_type": "code",
   "execution_count": 10,
   "id": "27329e40-4d65-4708-a759-9cab12e03d39",
   "metadata": {},
   "outputs": [
    {
     "name": "stderr",
     "output_type": "stream",
     "text": [
      "C:\\Users\\alunoDEI\\AppData\\Local\\Temp\\ipykernel_4816\\3773021674.py:6: SettingWithCopyWarning: \n",
      "A value is trying to be set on a copy of a slice from a DataFrame.\n",
      "Try using .loc[row_indexer,col_indexer] = value instead\n",
      "\n",
      "See the caveats in the documentation: https://pandas.pydata.org/pandas-docs/stable/user_guide/indexing.html#returning-a-view-versus-a-copy\n",
      "  unique_items['combined_text'] = unique_items['title'] + \": \" + unique_items['features']\n"
     ]
    },
    {
     "name": "stdout",
     "output_type": "stream",
     "text": [
      "creating embeddings with bert-base-nli-mean-tokens\n",
      "creating embeddings with all-distilroberta-v1\n",
      "creating embeddings with BM25...\n",
      "All embeddings salved\n"
     ]
    }
   ],
   "source": [
    "data = pd.read_csv('Data/serenlens_with_features_cleaned_filtered.csv', dtype={'item_id': str}, sep=\";\")\n",
    "\n",
    "unique_items = data.drop_duplicates(subset=['item_id'])\n",
    "\n",
    "# This can be changed to different approachs to include other texts like description\n",
    "unique_items['combined_text'] = unique_items['title'] + \": \" + unique_items['features']\n",
    "\n",
    "embedding_dir = 'embeddings'\n",
    "os.makedirs(embedding_dir, exist_ok=True)\n",
    "\n",
    "print(\"creating embeddings with bert-base-nli-mean-tokens\")\n",
    "model_bert_base = SentenceTransformer('bert-base-nli-mean-tokens')\n",
    "embeddings_bert_base = model_bert_base.encode(unique_items['combined_text'].tolist())\n",
    "embeddings_bert_base = normalize(embeddings_bert_base, norm='l2')\n",
    "np.save(os.path.join(embedding_dir, 'bert_base_embeddings.npy'), embeddings_bert_base)\n",
    "\n",
    "print(\"creating embeddings with all-distilroberta-v1\")\n",
    "model_distilroberta = SentenceTransformer('all-distilroberta-v1')\n",
    "embeddings_distilroberta = model_distilroberta.encode(unique_items['combined_text'].tolist())\n",
    "embeddings_distilroberta = normalize(embeddings_distilroberta, norm='l2')\n",
    "np.save(os.path.join(embedding_dir, 'distilroberta_embeddings.npy'), embeddings_distilroberta)\n",
    "\n",
    "print(\"creating embeddings with BM25...\")\n",
    "tokenized_texts = [text.split() for text in unique_items['combined_text'].tolist()]\n",
    "bm25 = BM25Okapi(tokenized_texts)\n",
    "bm25_embeddings = np.array([bm25.get_scores(text.split()) for text in unique_items['combined_text'].tolist()])\n",
    "bm25_embeddings = normalize(bm25_embeddings, norm='l2')\n",
    "np.save(os.path.join(embedding_dir, 'bm25_embeddings.npy'), bm25_embeddings)\n",
    "\n",
    "print(\"All embeddings salved\")"
   ]
  },
  {
   "cell_type": "code",
   "execution_count": 9,
   "id": "6555cf07-9b25-462e-821c-6ee9ccc9cb38",
   "metadata": {},
   "outputs": [],
   "source": [
    "# divide train and test dataset\n",
    "from sklearn.model_selection import train_test_split\n",
    "import pandas as pd\n",
    "import numpy as np\n",
    "\n",
    "data = pd.read_csv('Data/serenlens_with_features_cleaned_filtered.csv', dtype={'item_id': str}, sep=\";\")\n",
    "\n",
    "data.drop(['description', 'features', 'title'], axis=1, inplace=True)\n",
    "\n",
    "# consider serendipity is important\n",
    "train_data, test_data = train_test_split(data, test_size=0.2, random_state=42, stratify=data['serendipity'])\n",
    "\n",
    "train_data.to_csv('train_data.csv', index=False, sep=';')\n",
    "test_data.to_csv('test_data.csv', index=False, sep=';')\n"
   ]
  }
 ],
 "metadata": {
  "kernelspec": {
   "display_name": "Python 3 (ipykernel)",
   "language": "python",
   "name": "python3"
  },
  "language_info": {
   "codemirror_mode": {
    "name": "ipython",
    "version": 3
   },
   "file_extension": ".py",
   "mimetype": "text/x-python",
   "name": "python",
   "nbconvert_exporter": "python",
   "pygments_lexer": "ipython3",
   "version": "3.12.4"
  }
 },
 "nbformat": 4,
 "nbformat_minor": 5
}
