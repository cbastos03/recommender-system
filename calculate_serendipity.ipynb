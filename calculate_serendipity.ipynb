{
 "cells": [
  {
   "cell_type": "code",
   "execution_count": 2,
   "id": "ab821b0b-4681-4103-9142-012eea43e439",
   "metadata": {},
   "outputs": [
    {
     "name": "stdout",
     "output_type": "stream",
     "text": [
      "Serendipity calculated and saved.\n"
     ]
    }
   ],
   "source": [
    "import pandas as pd\n",
    "import numpy as np\n",
    "from sklearn.metrics.pairwise import cosine_similarity\n",
    "\n",
    "data = pd.read_csv('Data/serenlens_with_features_cleaned_filtered.csv', dtype={'item_id': str}, sep=\";\")\n",
    "data.drop(['title','description','features'], axis=1, inplace=True)\n",
    "\n",
    "def load_embeddings(file_path):\n",
    "    return np.load(file_path)\n",
    "\n",
    "all_mpnet_base_embeddings = load_embeddings('embeddings/all_mpnet_base_embeddings.npy')\n",
    "bm25_embeddings = load_embeddings('embeddings/bm25_embeddings.npy')\n",
    "bert_base_embeddings = load_embeddings('embeddings/bert_base_embeddings.npy')\n",
    "distilroberta_embeddings = load_embeddings('embeddings/distilroberta_embeddings.npy')\n",
    "\n",
    "item_id_map = {item_id: idx for idx, item_id in enumerate(data['item_id'].unique())}\n",
    "\n",
    "def calculate_serendipity(history_embeddings, item_embedding):\n",
    "    similarities = cosine_similarity(history_embeddings, item_embedding.reshape(1, -1))\n",
    "    avg_similarity = np.mean(similarities)\n",
    "    return 1 - avg_similarity\n",
    "\n",
    "data['serendipity_mpnet'] = np.nan\n",
    "data['serendipity_bm25'] = np.nan\n",
    "data['serendipity_bert'] = np.nan\n",
    "data['serendipity_distilroberta'] = np.nan\n",
    "\n",
    "for user_id in data['user_id'].unique():\n",
    "    user_data = data[data['user_id'] == user_id]\n",
    "    item_ids = user_data['item_id'].tolist()\n",
    "    \n",
    "    history_indices = [item_id_map[item_id] for item_id in item_ids]\n",
    "    \n",
    "    history_embeddings_all_mpnet = all_mpnet_base_embeddings[history_indices]\n",
    "    history_embeddings_bm25 = bm25_embeddings[history_indices]\n",
    "    history_embeddings_bert = bert_base_embeddings[history_indices]\n",
    "    history_embeddings_distilroberta = distilroberta_embeddings[history_indices]\n",
    "\n",
    "    for item_id in item_ids:\n",
    "        item_idx = item_id_map[item_id]\n",
    "\n",
    "        item_embedding_all_mpnet = all_mpnet_base_embeddings[item_idx]\n",
    "        item_embedding_bm25 = bm25_embeddings[item_idx]\n",
    "        item_embedding_bert = bert_base_embeddings[item_idx]\n",
    "        item_embedding_distilroberta = distilroberta_embeddings[item_idx]\n",
    "\n",
    "        serendipity_all_mpnet = calculate_serendipity(history_embeddings_all_mpnet, item_embedding_all_mpnet)\n",
    "        serendipity_bm25 = calculate_serendipity(history_embeddings_bm25, item_embedding_bm25)\n",
    "        serendipity_bert = calculate_serendipity(history_embeddings_bert, item_embedding_bert)\n",
    "        serendipity_distilroberta = calculate_serendipity(history_embeddings_distilroberta, item_embedding_distilroberta)\n",
    "\n",
    "        data.loc[(data['user_id'] == user_id) & (data['item_id'] == item_id), 'serendipity_mpnet'] = serendipity_all_mpnet\n",
    "        data.loc[(data['user_id'] == user_id) & (data['item_id'] == item_id), 'serendipity_bm25'] = serendipity_bm25\n",
    "        data.loc[(data['user_id'] == user_id) & (data['item_id'] == item_id), 'serendipity_bert'] = serendipity_bert\n",
    "        data.loc[(data['user_id'] == user_id) & (data['item_id'] == item_id), 'serendipity_distilroberta'] = serendipity_distilroberta\n",
    "\n",
    "data.to_csv('serendipity_comparison_with_embeddings.csv', index=False, sep=\";\")\n",
    "print(\"Serendipity calculated and saved.\")"
   ]
  },
  {
   "cell_type": "code",
   "execution_count": null,
   "id": "27193e8d-1d34-431c-a816-96149220f5c1",
   "metadata": {},
   "outputs": [],
   "source": []
  }
 ],
 "metadata": {
  "kernelspec": {
   "display_name": "Python 3 (ipykernel)",
   "language": "python",
   "name": "python3"
  },
  "language_info": {
   "codemirror_mode": {
    "name": "ipython",
    "version": 3
   },
   "file_extension": ".py",
   "mimetype": "text/x-python",
   "name": "python",
   "nbconvert_exporter": "python",
   "pygments_lexer": "ipython3",
   "version": "3.12.4"
  }
 },
 "nbformat": 4,
 "nbformat_minor": 5
}
