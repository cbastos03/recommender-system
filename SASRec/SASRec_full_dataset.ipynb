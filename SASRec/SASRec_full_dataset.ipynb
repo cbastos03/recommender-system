{
 "cells": [
  {
   "cell_type": "code",
   "execution_count": 1,
   "id": "f099cbe8",
   "metadata": {},
   "outputs": [
    {
     "name": "stdout",
     "output_type": "stream",
     "text": [
      "System version: 3.9.19 (main, Mar 21 2024, 17:21:27) [MSC v.1916 64 bit (AMD64)]\n",
      "Tensorflow version: 2.12.0\n"
     ]
    }
   ],
   "source": [
    "import sys\n",
    "import os\n",
    "import pandas as pd \n",
    "import tensorflow as tf\n",
    "tf.get_logger().setLevel('ERROR') # only show error messages\n",
    "\n",
    "from recommenders.datasets.amazon_reviews import get_review_data\n",
    "from recommenders.models.sasrec.ssept import SSEPT\n",
    "from recommenders.models.sasrec.sampler import WarpSampler\n",
    "from util_seren import SASRecDataSet\n",
    "from recommenders.utils.notebook_utils import store_metadata\n",
    "from recommenders.utils.timer import Timer\n",
    "\n",
    "from model_seren import SASREC \n",
    "\n",
    "print(f\"System version: {sys.version}\")\n",
    "print(f\"Tensorflow version: {tf.__version__}\")"
   ]
  },
  {
   "cell_type": "code",
   "execution_count": 2,
   "id": "945ebede",
   "metadata": {},
   "outputs": [],
   "source": [
    "num_epochs = 10\n",
    "batch_size = 128\n",
    "seed = 100  # Set None for non-deterministic result\n",
    "\n",
    "# data_dir = os.path.join(\"tests\", \"recsys_data\", \"RecSys\", \"SASRec-tf2\", \"data\")\n",
    "data_dir = os.path.join(\"./\")\n",
    "\n",
    "# Amazon Electronics Data\n",
    "dataset = \"reviews_Books_5_full\"\n",
    "\n",
    "lr = 0.0001  # learning rate\n",
    "maxlen = 150  # maximum sequence length for each user\n",
    "num_blocks = 3  # number of transformer blocks\n",
    "hidden_units = 128  # number of units in the attention calculation\n",
    "num_heads = 2  # number of attention heads\n",
    "dropout_rate = 0.2  # dropout rate\n",
    "l2_emb = 0.001  # L2 regularization coefficient (adjusted to 0.001)\n",
    "num_neg_test = 20  # number of negative examples per positive example\n",
    "model_name = 'sasrec'  # 'sasrec' or 'ssept'"
   ]
  },
  {
   "cell_type": "code",
   "execution_count": 3,
   "id": "de6e30cc-712a-4619-8ece-1cfa5871d810",
   "metadata": {},
   "outputs": [
    {
     "name": "stdout",
     "output_type": "stream",
     "text": [
      "./reviews_Books_5_full.txt\n",
      "2346 Users and 113876 items\n",
      "average sequence length: 110.97\n"
     ]
    }
   ],
   "source": [
    "inp_file = os.path.join(data_dir, dataset + \".txt\")\n",
    "print(inp_file)\n",
    "\n",
    "# initiate a dataset class \n",
    "data = SASRecDataSet(filename=inp_file, col_sep=\"\\t\")\n",
    "\n",
    "# create train, validation and test splits\n",
    "data.split()\n",
    "\n",
    "# some statistics\n",
    "num_steps = int(len(data.user_train) / batch_size)\n",
    "cc = 0.0\n",
    "for u in data.user_train:\n",
    "    cc += len(data.user_train[u])\n",
    "print('%g Users and %g items' % (data.usernum, data.itemnum))\n",
    "print('average sequence length: %.2f' % (cc / len(data.user_train)))"
   ]
  },
  {
   "cell_type": "code",
   "execution_count": 4,
   "id": "b0f12f34-4bf8-4797-a63e-be354f859fff",
   "metadata": {},
   "outputs": [],
   "source": [
    "model = SASREC(item_num=data.itemnum,\n",
    "               seq_max_len=maxlen,\n",
    "               num_blocks=num_blocks,\n",
    "               embedding_dim=hidden_units,\n",
    "               attention_dim=hidden_units,\n",
    "               attention_num_heads=num_heads,\n",
    "               dropout_rate=dropout_rate,\n",
    "               conv_dims = [128, 128],\n",
    "               l2_reg=l2_emb,\n",
    "               num_neg_test=num_neg_test\n",
    ")\n",
    "\n",
    "optimizer = tf.keras.optimizers.Adam(learning_rate=lr)\n",
    "model.compile(optimizer=optimizer)"
   ]
  },
  {
   "cell_type": "code",
   "execution_count": 5,
   "id": "20b55063-49f4-4bf1-af51-fa4bce77fef4",
   "metadata": {},
   "outputs": [],
   "source": [
    "sampler = WarpSampler(data.user_train, data.usernum, data.itemnum, batch_size=batch_size, maxlen=maxlen, n_workers=3)\n"
   ]
  },
  {
   "cell_type": "code",
   "execution_count": 6,
   "id": "7f7b78ed-2c56-4a36-a818-afaed4e3c551",
   "metadata": {},
   "outputs": [
    {
     "name": "stderr",
     "output_type": "stream",
     "text": [
      "                                                                      \r"
     ]
    },
    {
     "name": "stdout",
     "output_type": "stream",
     "text": [
      "Evaluating...\n"
     ]
    },
    {
     "name": "stderr",
     "output_type": "stream",
     "text": [
      "                                                                      \r"
     ]
    },
    {
     "name": "stdout",
     "output_type": "stream",
     "text": [
      "\n",
      "epoch: 10, time: 245.8755755, valid: {'HT': {5: 0.4019607843137255, 10: 0.5302642796248934}, 'NDCG': {5: 0.2976117364981973, 10: 0.3387590662316224}, 'HRseren': {5: 0.5932203389830508, 10: 0.7288135593220338}, 'NDCGseren': {5: 0.472156784128777, 10: 0.5158637496066631}})\n",
      "epoch: 10, time: 245.8755755,  test: {'HT': {5: 0.37382779198635974, 10: 0.5174765558397272}, 'NDCG': {5: 0.2748279422549639, 10: 0.32102331566700787}, 'HRseren': {5: 0.5416666666666666, 10: 0.7083333333333334}, 'NDCGseren': {5: 0.4091503022352871, 10: 0.46129883618845796}})\n"
     ]
    },
    {
     "name": "stderr",
     "output_type": "stream",
     "text": [
      "                                                                      \r"
     ]
    },
    {
     "name": "stdout",
     "output_type": "stream",
     "text": [
      "Results:\n",
      "HT@5: 0.3832054560954817\n",
      "HT@10: 0.5208866155157715\n",
      "NDCG@5: 0.2777044150803018\n",
      "NDCG@10: 0.3215899861589714\n",
      "HRseren@5: 0.5208333333333334\n",
      "HRseren@10: 0.7291666666666666\n",
      "NDCGseren@5: 0.42233176953473245\n",
      "NDCGseren@10: 0.4870232199739027\n",
      "Time cost for training is 9.24 mins\n"
     ]
    }
   ],
   "source": [
    "with Timer() as train_time:\n",
    "    results = model.train(data, sampler, num_epochs=num_epochs, batch_size=batch_size, lr=lr, val_epoch=10)\n",
    "\n",
    "print('Time cost for training is {0:.2f} mins'.format(train_time.interval/60.0))"
   ]
  },
  {
   "cell_type": "code",
   "execution_count": 7,
   "id": "015df5fd-fc11-47a4-9d6b-d7369b16612e",
   "metadata": {
    "scrolled": true
   },
   "outputs": [
    {
     "name": "stdout",
     "output_type": "stream",
     "text": [
      "{'HT': {5: 0.3832054560954817, 10: 0.5208866155157715}, 'NDCG': {5: 0.2777044150803018, 10: 0.3215899861589714}, 'HRseren': {5: 0.5208333333333334, 10: 0.7291666666666666}, 'NDCGseren': {5: 0.42233176953473245, 10: 0.4870232199739027}}\n"
     ]
    }
   ],
   "source": [
    "print(results)"
   ]
  },
  {
   "cell_type": "code",
   "execution_count": 8,
   "id": "665c712c-d0a9-42cd-9c47-e0eadc5d222c",
   "metadata": {},
   "outputs": [
    {
     "name": "stderr",
     "output_type": "stream",
     "text": [
      "  0%|                              | 3/2346 [00:00<04:21,  8.97user/s]"
     ]
    },
    {
     "name": "stdout",
     "output_type": "stream",
     "text": [
      "user 1 processed. 134 interactions.\n",
      "user 2 processed. 18 interactions.\n",
      "user 3 processed. 82 interactions.\n",
      "user 4 processed. 19 interactions.\n"
     ]
    },
    {
     "name": "stderr",
     "output_type": "stream",
     "text": [
      "  0%|                              | 5/2346 [00:00<03:54,  9.97user/s]"
     ]
    },
    {
     "name": "stdout",
     "output_type": "stream",
     "text": [
      "user 5 processed. 117 interactions.\n",
      "user 6 processed. 13 interactions.\n"
     ]
    },
    {
     "name": "stderr",
     "output_type": "stream",
     "text": [
      "  0%|                              | 7/2346 [00:00<04:11,  9.28user/s]"
     ]
    },
    {
     "name": "stdout",
     "output_type": "stream",
     "text": [
      "user 7 processed. 165 interactions.\n",
      "user 8 processed. 191 interactions.\n"
     ]
    },
    {
     "name": "stderr",
     "output_type": "stream",
     "text": [
      "  0%|                              | 9/2346 [00:01<06:40,  5.83user/s]"
     ]
    },
    {
     "name": "stdout",
     "output_type": "stream",
     "text": [
      "user 9 processed. 169 interactions.\n",
      "user 10 processed. 71 interactions.\n"
     ]
    },
    {
     "name": "stderr",
     "output_type": "stream",
     "text": [
      "  0%|▏                            | 11/2346 [00:01<05:53,  6.61user/s]"
     ]
    },
    {
     "name": "stdout",
     "output_type": "stream",
     "text": [
      "user 11 processed. 102 interactions.\n",
      "user 12 processed. 11 interactions.\n",
      "user 13 processed. 13 interactions.\n"
     ]
    },
    {
     "name": "stderr",
     "output_type": "stream",
     "text": [
      "  1%|▏                            | 18/2346 [00:02<05:11,  7.47user/s]"
     ]
    },
    {
     "name": "stdout",
     "output_type": "stream",
     "text": [
      "user 14 processed. 701 interactions.\n",
      "user 15 processed. 11 interactions.\n",
      "user 16 processed. 55 interactions.\n",
      "user 17 processed. 10 interactions.\n",
      "user 18 processed. 56 interactions.\n",
      "user 19 processed. 61 interactions.\n"
     ]
    },
    {
     "name": "stderr",
     "output_type": "stream",
     "text": [
      "  1%|▎                            | 23/2346 [00:03<05:09,  7.51user/s]"
     ]
    },
    {
     "name": "stdout",
     "output_type": "stream",
     "text": [
      "user 20 processed. 477 interactions.\n",
      "user 21 processed. 39 interactions.\n",
      "user 22 processed. 44 interactions.\n",
      "user 23 processed. 67 interactions.\n"
     ]
    },
    {
     "name": "stderr",
     "output_type": "stream",
     "text": [
      "  1%|▎                            | 25/2346 [00:03<05:41,  6.79user/s]"
     ]
    },
    {
     "name": "stdout",
     "output_type": "stream",
     "text": [
      "user 24 processed. 177 interactions.\n",
      "user 25 processed. 85 interactions.\n",
      "user 26 processed. 59 interactions.\n"
     ]
    },
    {
     "name": "stderr",
     "output_type": "stream",
     "text": [
      "  1%|▍                            | 31/2346 [00:04<03:24, 11.31user/s]"
     ]
    },
    {
     "name": "stdout",
     "output_type": "stream",
     "text": [
      "user 27 processed. 115 interactions.\n",
      "user 28 processed. 13 interactions.\n",
      "user 29 processed. 30 interactions.\n",
      "user 30 processed. 72 interactions.\n",
      "user 31 processed. 20 interactions.\n",
      "user 32 processed. 23 interactions.\n",
      "user 33 processed. 16 interactions.\n",
      "user 34 processed. 25 interactions.\n"
     ]
    },
    {
     "name": "stderr",
     "output_type": "stream",
     "text": [
      "  2%|▍                            | 38/2346 [00:04<02:23, 16.07user/s]"
     ]
    },
    {
     "name": "stdout",
     "output_type": "stream",
     "text": [
      "user 35 processed. 26 interactions.\n",
      "user 36 processed. 25 interactions.\n",
      "user 37 processed. 77 interactions.\n",
      "user 38 processed. 70 interactions.\n"
     ]
    },
    {
     "name": "stderr",
     "output_type": "stream",
     "text": [
      "  2%|▌                            | 41/2346 [00:04<02:43, 14.07user/s]"
     ]
    },
    {
     "name": "stdout",
     "output_type": "stream",
     "text": [
      "user 39 processed. 173 interactions.\n",
      "user 40 processed. 38 interactions.\n",
      "user 41 processed. 41 interactions.\n",
      "user 42 processed. 63 interactions.\n",
      "user 43 processed. 24 interactions.\n",
      "user 44 processed. 15 interactions.\n"
     ]
    },
    {
     "name": "stderr",
     "output_type": "stream",
     "text": [
      "  2%|▌                            | 50/2346 [00:05<02:46, 13.79user/s]"
     ]
    },
    {
     "name": "stdout",
     "output_type": "stream",
     "text": [
      "user 45 processed. 336 interactions.\n",
      "user 46 processed. 22 interactions.\n",
      "user 47 processed. 20 interactions.\n",
      "user 48 processed. 23 interactions.\n",
      "user 49 processed. 20 interactions.\n",
      "user 50 processed. 83 interactions.\n"
     ]
    },
    {
     "name": "stderr",
     "output_type": "stream",
     "text": [
      "  2%|▋                            | 54/2346 [00:06<05:22,  7.11user/s]"
     ]
    },
    {
     "name": "stdout",
     "output_type": "stream",
     "text": [
      "user 51 processed. 432 interactions.\n",
      "user 52 processed. 17 interactions.\n",
      "user 53 processed. 27 interactions.\n",
      "user 54 processed. 19 interactions.\n"
     ]
    },
    {
     "name": "stderr",
     "output_type": "stream",
     "text": [
      "  2%|▋                            | 56/2346 [00:08<10:40,  3.58user/s]"
     ]
    },
    {
     "name": "stdout",
     "output_type": "stream",
     "text": [
      "user 55 processed. 845 interactions.\n",
      "user 56 processed. 14 interactions.\n",
      "user 57 processed. 240 interactions.\n"
     ]
    },
    {
     "name": "stderr",
     "output_type": "stream",
     "text": [
      "  2%|▋                            | 58/2346 [00:08<10:54,  3.50user/s]"
     ]
    },
    {
     "name": "stdout",
     "output_type": "stream",
     "text": [
      "user 58 processed. 263 interactions.\n",
      "user 59 processed. 30 interactions.\n"
     ]
    },
    {
     "name": "stderr",
     "output_type": "stream",
     "text": [
      "  3%|▋                            | 60/2346 [00:09<09:45,  3.91user/s]"
     ]
    },
    {
     "name": "stdout",
     "output_type": "stream",
     "text": [
      "user 60 processed. 253 interactions.\n",
      "user 61 processed. 28 interactions.\n",
      "user 62 processed. 40 interactions.\n"
     ]
    },
    {
     "name": "stderr",
     "output_type": "stream",
     "text": [
      "  3%|▊                            | 63/2346 [00:09<07:19,  5.20user/s]"
     ]
    },
    {
     "name": "stdout",
     "output_type": "stream",
     "text": [
      "user 63 processed. 136 interactions.\n",
      "user 64 processed. 63 interactions.\n"
     ]
    },
    {
     "name": "stderr",
     "output_type": "stream",
     "text": [
      "  3%|▊                            | 65/2346 [00:09<07:58,  4.77user/s]"
     ]
    },
    {
     "name": "stdout",
     "output_type": "stream",
     "text": [
      "user 65 processed. 322 interactions.\n",
      "user 66 processed. 32 interactions.\n"
     ]
    },
    {
     "name": "stderr",
     "output_type": "stream",
     "text": [
      "  3%|▊                            | 69/2346 [00:10<06:14,  6.07user/s]"
     ]
    },
    {
     "name": "stdout",
     "output_type": "stream",
     "text": [
      "user 67 processed. 294 interactions.\n",
      "user 68 processed. 18 interactions.\n",
      "user 69 processed. 85 interactions.\n",
      "user 70 processed. 20 interactions.\n"
     ]
    },
    {
     "name": "stderr",
     "output_type": "stream",
     "text": [
      "  3%|▉                            | 71/2346 [00:11<11:47,  3.22user/s]"
     ]
    },
    {
     "name": "stdout",
     "output_type": "stream",
     "text": [
      "user 71 processed. 919 interactions.\n"
     ]
    },
    {
     "name": "stderr",
     "output_type": "stream",
     "text": [
      "  3%|▉                            | 72/2346 [00:12<16:01,  2.37user/s]"
     ]
    },
    {
     "name": "stdout",
     "output_type": "stream",
     "text": [
      "user 72 processed. 756 interactions.\n",
      "user 73 processed. 11 interactions.\n",
      "user 74 processed. 20 interactions.\n",
      "user 75 processed. 27 interactions.\n",
      "user 76 processed. 27 interactions.\n"
     ]
    },
    {
     "name": "stderr",
     "output_type": "stream",
     "text": [
      "  3%|▉                            | 77/2346 [00:12<08:10,  4.62user/s]"
     ]
    },
    {
     "name": "stdout",
     "output_type": "stream",
     "text": [
      "user 77 processed. 128 interactions.\n",
      "user 78 processed. 66 interactions.\n",
      "user 79 processed. 11 interactions.\n",
      "user 80 processed. 13 interactions.\n"
     ]
    },
    {
     "name": "stderr",
     "output_type": "stream",
     "text": [
      "  3%|█                            | 81/2346 [00:13<06:21,  5.93user/s]"
     ]
    },
    {
     "name": "stdout",
     "output_type": "stream",
     "text": [
      "user 81 processed. 178 interactions.\n",
      "user 82 processed. 22 interactions.\n",
      "user 83 processed. 25 interactions.\n"
     ]
    },
    {
     "name": "stderr",
     "output_type": "stream",
     "text": [
      "  4%|█                            | 86/2346 [00:13<05:39,  6.66user/s]"
     ]
    },
    {
     "name": "stdout",
     "output_type": "stream",
     "text": [
      "user 84 processed. 323 interactions.\n",
      "user 85 processed. 60 interactions.\n",
      "user 86 processed. 16 interactions.\n",
      "user 87 processed. 64 interactions.\n",
      "user 88 processed. 27 interactions.\n"
     ]
    },
    {
     "name": "stderr",
     "output_type": "stream",
     "text": [
      "  4%|█                            | 89/2346 [00:14<04:17,  8.75user/s]"
     ]
    },
    {
     "name": "stdout",
     "output_type": "stream",
     "text": [
      "user 89 processed. 19 interactions.\n",
      "user 90 processed. 15 interactions.\n"
     ]
    },
    {
     "name": "stderr",
     "output_type": "stream",
     "text": [
      "  4%|█                            | 91/2346 [00:14<05:05,  7.38user/s]"
     ]
    },
    {
     "name": "stdout",
     "output_type": "stream",
     "text": [
      "user 91 processed. 288 interactions.\n",
      "user 92 processed. 28 interactions.\n"
     ]
    },
    {
     "name": "stderr",
     "output_type": "stream",
     "text": [
      "  4%|█▏                           | 95/2346 [00:14<04:24,  8.51user/s]"
     ]
    },
    {
     "name": "stdout",
     "output_type": "stream",
     "text": [
      "user 93 processed. 137 interactions.\n",
      "user 94 processed. 122 interactions.\n",
      "user 95 processed. 25 interactions.\n",
      "user 96 processed. 85 interactions.\n"
     ]
    },
    {
     "name": "stderr",
     "output_type": "stream",
     "text": [
      "  4%|█▏                           | 97/2346 [00:16<09:08,  4.10user/s]"
     ]
    },
    {
     "name": "stdout",
     "output_type": "stream",
     "text": [
      "user 97 processed. 613 interactions.\n"
     ]
    },
    {
     "name": "stderr",
     "output_type": "stream",
     "text": [
      "  4%|█▏                           | 99/2346 [00:16<08:19,  4.50user/s]"
     ]
    },
    {
     "name": "stdout",
     "output_type": "stream",
     "text": [
      "user 98 processed. 201 interactions.\n",
      "user 99 processed. 141 interactions.\n",
      "user 100 processed. 24 interactions.\n"
     ]
    },
    {
     "name": "stderr",
     "output_type": "stream",
     "text": [
      "  4%|█▏                          | 101/2346 [00:16<07:48,  4.79user/s]"
     ]
    },
    {
     "name": "stdout",
     "output_type": "stream",
     "text": [
      "user 101 processed. 305 interactions.\n",
      "user 102 processed. 42 interactions.\n",
      "user 103 processed. 21 interactions.\n",
      "user 104 processed. 11 interactions.\n",
      "user 105 processed. 15 interactions.\n"
     ]
    },
    {
     "name": "stderr",
     "output_type": "stream",
     "text": [
      "  5%|█▎                          | 106/2346 [00:17<04:41,  7.96user/s]"
     ]
    },
    {
     "name": "stdout",
     "output_type": "stream",
     "text": [
      "user 106 processed. 186 interactions.\n"
     ]
    },
    {
     "name": "stderr",
     "output_type": "stream",
     "text": [
      "  5%|█▎                          | 107/2346 [00:17<05:14,  7.11user/s]"
     ]
    },
    {
     "name": "stdout",
     "output_type": "stream",
     "text": [
      "user 107 processed. 198 interactions.\n",
      "user 108 processed. 34 interactions.\n",
      "user 109 processed. 15 interactions.\n"
     ]
    },
    {
     "name": "stderr",
     "output_type": "stream",
     "text": [
      "  5%|█▎                          | 110/2346 [00:18<06:53,  5.40user/s]"
     ]
    },
    {
     "name": "stdout",
     "output_type": "stream",
     "text": [
      "user 110 processed. 493 interactions.\n",
      "user 111 processed. 31 interactions.\n",
      "user 112 processed. 38 interactions.\n",
      "user 113 processed. 36 interactions.\n"
     ]
    },
    {
     "name": "stderr",
     "output_type": "stream",
     "text": [
      "  5%|█▎                          | 114/2346 [00:18<06:25,  5.79user/s]"
     ]
    },
    {
     "name": "stdout",
     "output_type": "stream",
     "text": [
      "user 114 processed. 401 interactions.\n",
      "user 115 processed. 13 interactions.\n",
      "user 116 processed. 30 interactions.\n",
      "user 117 processed. 24 interactions.\n"
     ]
    },
    {
     "name": "stderr",
     "output_type": "stream",
     "text": [
      "  5%|█▍                          | 118/2346 [00:21<13:06,  2.83user/s]"
     ]
    },
    {
     "name": "stdout",
     "output_type": "stream",
     "text": [
      "user 118 processed. 1550 interactions.\n"
     ]
    },
    {
     "name": "stderr",
     "output_type": "stream",
     "text": [
      "  5%|█▍                          | 122/2346 [00:21<09:42,  3.82user/s]"
     ]
    },
    {
     "name": "stdout",
     "output_type": "stream",
     "text": [
      "user 119 processed. 175 interactions.\n",
      "user 120 processed. 11 interactions.\n",
      "user 121 processed. 22 interactions.\n",
      "user 122 processed. 100 interactions.\n"
     ]
    },
    {
     "name": "stderr",
     "output_type": "stream",
     "text": [
      "  5%|█▌                          | 126/2346 [00:22<06:19,  5.86user/s]"
     ]
    },
    {
     "name": "stdout",
     "output_type": "stream",
     "text": [
      "user 123 processed. 13 interactions.\n",
      "user 124 processed. 20 interactions.\n",
      "user 125 processed. 37 interactions.\n",
      "user 126 processed. 12 interactions.\n"
     ]
    },
    {
     "name": "stderr",
     "output_type": "stream",
     "text": [
      "  5%|█▌                          | 128/2346 [00:22<06:23,  5.78user/s]"
     ]
    },
    {
     "name": "stdout",
     "output_type": "stream",
     "text": [
      "user 127 processed. 170 interactions.\n",
      "user 128 processed. 73 interactions.\n",
      "user 129 processed. 18 interactions.\n",
      "user 130 processed. 44 interactions.\n"
     ]
    },
    {
     "name": "stderr",
     "output_type": "stream",
     "text": [
      "  6%|█▌                          | 131/2346 [00:22<05:13,  7.07user/s]"
     ]
    },
    {
     "name": "stdout",
     "output_type": "stream",
     "text": [
      "user 131 processed. 78 interactions.\n",
      "user 132 processed. 60 interactions.\n",
      "user 133 processed. 24 interactions.\n"
     ]
    },
    {
     "name": "stderr",
     "output_type": "stream",
     "text": [
      "  6%|█▌                          | 134/2346 [00:23<05:16,  6.98user/s]"
     ]
    },
    {
     "name": "stdout",
     "output_type": "stream",
     "text": [
      "user 134 processed. 185 interactions.\n",
      "user 135 processed. 62 interactions.\n"
     ]
    },
    {
     "name": "stderr",
     "output_type": "stream",
     "text": [
      "  6%|█▌                          | 136/2346 [00:23<06:08,  5.99user/s]"
     ]
    },
    {
     "name": "stdout",
     "output_type": "stream",
     "text": [
      "user 136 processed. 319 interactions.\n",
      "user 137 processed. 20 interactions.\n",
      "user 138 processed. 21 interactions.\n",
      "user 139 processed. 11 interactions.\n",
      "user 140 processed. 24 interactions.\n",
      "user 141 processed. 22 interactions.\n"
     ]
    },
    {
     "name": "stderr",
     "output_type": "stream",
     "text": [
      "  6%|█▋                          | 142/2346 [00:24<05:01,  7.30user/s]"
     ]
    },
    {
     "name": "stdout",
     "output_type": "stream",
     "text": [
      "user 142 processed. 426 interactions.\n",
      "user 143 processed. 13 interactions.\n",
      "user 144 processed. 43 interactions.\n"
     ]
    },
    {
     "name": "stderr",
     "output_type": "stream",
     "text": [
      "  6%|█▊                          | 149/2346 [00:24<03:27, 10.59user/s]"
     ]
    },
    {
     "name": "stdout",
     "output_type": "stream",
     "text": [
      "user 145 processed. 219 interactions.\n",
      "user 146 processed. 17 interactions.\n",
      "user 147 processed. 15 interactions.\n",
      "user 148 processed. 35 interactions.\n",
      "user 149 processed. 31 interactions.\n",
      "user 150 processed. 13 interactions.\n"
     ]
    },
    {
     "name": "stderr",
     "output_type": "stream",
     "text": [
      "  7%|█▊                          | 153/2346 [00:24<02:58, 12.31user/s]"
     ]
    },
    {
     "name": "stdout",
     "output_type": "stream",
     "text": [
      "user 151 processed. 99 interactions.\n",
      "user 152 processed. 16 interactions.\n",
      "user 153 processed. 54 interactions.\n",
      "user 154 processed. 27 interactions.\n",
      "user 155 processed. 14 interactions.\n"
     ]
    },
    {
     "name": "stderr",
     "output_type": "stream",
     "text": [
      "  7%|█▊                          | 156/2346 [00:24<02:27, 14.87user/s]"
     ]
    },
    {
     "name": "stdout",
     "output_type": "stream",
     "text": [
      "user 156 processed. 30 interactions.\n",
      "user 157 processed. 56 interactions.\n"
     ]
    },
    {
     "name": "stderr",
     "output_type": "stream",
     "text": [
      "  7%|█▉                          | 158/2346 [00:25<03:00, 12.10user/s]"
     ]
    },
    {
     "name": "stdout",
     "output_type": "stream",
     "text": [
      "user 158 processed. 158 interactions.\n"
     ]
    },
    {
     "name": "stderr",
     "output_type": "stream",
     "text": [
      "  7%|█▉                          | 165/2346 [00:25<02:19, 15.64user/s]"
     ]
    },
    {
     "name": "stdout",
     "output_type": "stream",
     "text": [
      "user 159 processed. 215 interactions.\n",
      "user 160 processed. 27 interactions.\n",
      "user 161 processed. 37 interactions.\n",
      "user 162 processed. 13 interactions.\n",
      "user 163 processed. 43 interactions.\n",
      "user 164 processed. 14 interactions.\n",
      "user 165 processed. 23 interactions.\n",
      "user 166 processed. 28 interactions.\n"
     ]
    },
    {
     "name": "stderr",
     "output_type": "stream",
     "text": [
      "  7%|██                          | 168/2346 [00:27<09:24,  3.86user/s]"
     ]
    },
    {
     "name": "stdout",
     "output_type": "stream",
     "text": [
      "user 167 processed. 1339 interactions.\n",
      "user 168 processed. 29 interactions.\n",
      "user 169 processed. 22 interactions.\n",
      "user 170 processed. 31 interactions.\n"
     ]
    },
    {
     "name": "stderr",
     "output_type": "stream",
     "text": [
      "  7%|██                          | 174/2346 [00:28<05:37,  6.44user/s]"
     ]
    },
    {
     "name": "stdout",
     "output_type": "stream",
     "text": [
      "user 171 processed. 131 interactions.\n",
      "user 172 processed. 47 interactions.\n",
      "user 173 processed. 22 interactions.\n",
      "user 174 processed. 61 interactions.\n",
      "user 175 processed. 51 interactions.\n",
      "user 176 processed. 13 interactions.\n",
      "user 177 processed. 32 interactions.\n",
      "user 178 processed. 29 interactions.\n"
     ]
    },
    {
     "name": "stderr",
     "output_type": "stream",
     "text": [
      "  8%|██▏                         | 179/2346 [00:28<04:43,  7.63user/s]"
     ]
    },
    {
     "name": "stdout",
     "output_type": "stream",
     "text": [
      "user 179 processed. 293 interactions.\n",
      "user 180 processed. 23 interactions.\n",
      "user 181 processed. 43 interactions.\n"
     ]
    },
    {
     "name": "stderr",
     "output_type": "stream",
     "text": [
      "  8%|██▏                         | 184/2346 [00:29<04:22,  8.23user/s]"
     ]
    },
    {
     "name": "stdout",
     "output_type": "stream",
     "text": [
      "user 182 processed. 279 interactions.\n",
      "user 183 processed. 31 interactions.\n",
      "user 184 processed. 124 interactions.\n",
      "user 185 processed. 10 interactions.\n"
     ]
    },
    {
     "name": "stderr",
     "output_type": "stream",
     "text": [
      "  8%|██▏                         | 188/2346 [00:29<03:56,  9.12user/s]"
     ]
    },
    {
     "name": "stdout",
     "output_type": "stream",
     "text": [
      "user 186 processed. 163 interactions.\n",
      "user 187 processed. 76 interactions.\n",
      "user 188 processed. 18 interactions.\n",
      "user 189 processed. 11 interactions.\n"
     ]
    },
    {
     "name": "stderr",
     "output_type": "stream",
     "text": [
      "  8%|██▎                         | 192/2346 [00:37<28:21,  1.27user/s]"
     ]
    },
    {
     "name": "stdout",
     "output_type": "stream",
     "text": [
      "user 190 processed. 2910 interactions.\n",
      "user 191 processed. 79 interactions.\n",
      "user 192 processed. 10 interactions.\n"
     ]
    },
    {
     "name": "stderr",
     "output_type": "stream",
     "text": [
      "  8%|██▎                         | 194/2346 [00:37<22:31,  1.59user/s]"
     ]
    },
    {
     "name": "stdout",
     "output_type": "stream",
     "text": [
      "user 193 processed. 115 interactions.\n",
      "user 194 processed. 59 interactions.\n",
      "user 195 processed. 72 interactions.\n"
     ]
    },
    {
     "name": "stderr",
     "output_type": "stream",
     "text": [
      "  8%|██▎                         | 196/2346 [00:38<19:04,  1.88user/s]"
     ]
    },
    {
     "name": "stdout",
     "output_type": "stream",
     "text": [
      "user 196 processed. 239 interactions.\n"
     ]
    },
    {
     "name": "stderr",
     "output_type": "stream",
     "text": [
      "  8%|██▎                         | 197/2346 [00:38<17:56,  2.00user/s]"
     ]
    },
    {
     "name": "stdout",
     "output_type": "stream",
     "text": [
      "user 197 processed. 176 interactions.\n",
      "user 198 processed. 11 interactions.\n"
     ]
    },
    {
     "name": "stderr",
     "output_type": "stream",
     "text": [
      "  9%|██▍                         | 205/2346 [00:40<08:21,  4.27user/s]"
     ]
    },
    {
     "name": "stdout",
     "output_type": "stream",
     "text": [
      "user 199 processed. 701 interactions.\n",
      "user 200 processed. 47 interactions.\n",
      "user 201 processed. 10 interactions.\n",
      "user 202 processed. 13 interactions.\n",
      "user 203 processed. 13 interactions.\n",
      "user 204 processed. 15 interactions.\n",
      "user 205 processed. 18 interactions.\n",
      "user 206 processed. 57 interactions.\n",
      "user 207 processed. 12 interactions.\n"
     ]
    },
    {
     "name": "stderr",
     "output_type": "stream",
     "text": [
      "  9%|██▍                         | 208/2346 [00:40<06:20,  5.62user/s]"
     ]
    },
    {
     "name": "stdout",
     "output_type": "stream",
     "text": [
      "user 208 processed. 73 interactions.\n"
     ]
    },
    {
     "name": "stderr",
     "output_type": "stream",
     "text": [
      "  9%|██▌                         | 213/2346 [00:40<05:19,  6.67user/s]"
     ]
    },
    {
     "name": "stdout",
     "output_type": "stream",
     "text": [
      "user 209 processed. 337 interactions.\n",
      "user 210 processed. 23 interactions.\n",
      "user 211 processed. 10 interactions.\n",
      "user 212 processed. 34 interactions.\n",
      "user 213 processed. 100 interactions.\n"
     ]
    },
    {
     "name": "stderr",
     "output_type": "stream",
     "text": [
      "  9%|██▌                         | 215/2346 [00:41<09:04,  3.92user/s]"
     ]
    },
    {
     "name": "stdout",
     "output_type": "stream",
     "text": [
      "user 214 processed. 817 interactions.\n",
      "user 215 processed. 10 interactions.\n",
      "user 216 processed. 44 interactions.\n"
     ]
    },
    {
     "name": "stderr",
     "output_type": "stream",
     "text": [
      "  9%|██▌                         | 217/2346 [00:42<09:49,  3.61user/s]"
     ]
    },
    {
     "name": "stdout",
     "output_type": "stream",
     "text": [
      "user 217 processed. 552 interactions.\n",
      "user 218 processed. 22 interactions.\n"
     ]
    },
    {
     "name": "stderr",
     "output_type": "stream",
     "text": [
      "  9%|██▌                         | 219/2346 [00:43<09:30,  3.73user/s]"
     ]
    },
    {
     "name": "stdout",
     "output_type": "stream",
     "text": [
      "user 219 processed. 395 interactions.\n",
      "user 220 processed. 26 interactions.\n"
     ]
    },
    {
     "name": "stderr",
     "output_type": "stream",
     "text": [
      " 10%|██▋                         | 223/2346 [00:43<07:01,  5.03user/s]"
     ]
    },
    {
     "name": "stdout",
     "output_type": "stream",
     "text": [
      "user 221 processed. 250 interactions.\n",
      "user 222 processed. 31 interactions.\n",
      "user 223 processed. 126 interactions.\n",
      "user 224 processed. 23 interactions.\n",
      "user 225 processed. 16 interactions.\n"
     ]
    },
    {
     "name": "stderr",
     "output_type": "stream",
     "text": [
      " 10%|██▋                         | 226/2346 [00:43<05:46,  6.13user/s]"
     ]
    },
    {
     "name": "stdout",
     "output_type": "stream",
     "text": [
      "user 226 processed. 220 interactions.\n"
     ]
    },
    {
     "name": "stderr",
     "output_type": "stream",
     "text": [
      " 10%|██▊                         | 231/2346 [00:46<08:39,  4.07user/s]"
     ]
    },
    {
     "name": "stdout",
     "output_type": "stream",
     "text": [
      "user 227 processed. 1212 interactions.\n",
      "user 228 processed. 14 interactions.\n",
      "user 229 processed. 10 interactions.\n",
      "user 230 processed. 58 interactions.\n",
      "user 231 processed. 25 interactions.\n"
     ]
    },
    {
     "name": "stderr",
     "output_type": "stream",
     "text": [
      " 10%|██▊                         | 237/2346 [00:46<04:45,  7.40user/s]"
     ]
    },
    {
     "name": "stdout",
     "output_type": "stream",
     "text": [
      "user 232 processed. 141 interactions.\n",
      "user 233 processed. 34 interactions.\n",
      "user 234 processed. 12 interactions.\n",
      "user 235 processed. 10 interactions.\n",
      "user 236 processed. 30 interactions.\n",
      "user 237 processed. 82 interactions.\n",
      "user 238 processed. 77 interactions.\n"
     ]
    },
    {
     "name": "stderr",
     "output_type": "stream",
     "text": [
      " 10%|██▉                         | 241/2346 [00:46<04:31,  7.75user/s]"
     ]
    },
    {
     "name": "stdout",
     "output_type": "stream",
     "text": [
      "user 239 processed. 200 interactions.\n",
      "user 240 processed. 134 interactions.\n",
      "user 241 processed. 54 interactions.\n",
      "user 242 processed. 40 interactions.\n"
     ]
    },
    {
     "name": "stderr",
     "output_type": "stream",
     "text": [
      " 10%|██▉                         | 246/2346 [00:49<09:01,  3.88user/s]"
     ]
    },
    {
     "name": "stdout",
     "output_type": "stream",
     "text": [
      "user 243 processed. 1436 interactions.\n",
      "user 244 processed. 78 interactions.\n",
      "user 245 processed. 13 interactions.\n",
      "user 246 processed. 22 interactions.\n"
     ]
    },
    {
     "name": "stderr",
     "output_type": "stream",
     "text": [
      " 11%|██▉                         | 248/2346 [00:49<07:17,  4.80user/s]"
     ]
    },
    {
     "name": "stdout",
     "output_type": "stream",
     "text": [
      "user 247 processed. 77 interactions.\n",
      "user 248 processed. 21 interactions.\n",
      "user 249 processed. 30 interactions.\n"
     ]
    },
    {
     "name": "stderr",
     "output_type": "stream",
     "text": [
      " 11%|██▉                         | 250/2346 [00:49<06:16,  5.57user/s]"
     ]
    },
    {
     "name": "stdout",
     "output_type": "stream",
     "text": [
      "user 250 processed. 137 interactions.\n",
      "user 251 processed. 40 interactions.\n",
      "user 252 processed. 60 interactions.\n"
     ]
    },
    {
     "name": "stderr",
     "output_type": "stream",
     "text": [
      " 11%|███                         | 253/2346 [00:49<06:01,  5.80user/s]"
     ]
    },
    {
     "name": "stdout",
     "output_type": "stream",
     "text": [
      "user 253 processed. 320 interactions.\n",
      "user 254 processed. 27 interactions.\n",
      "user 255 processed. 12 interactions.\n",
      "user 256 processed. 11 interactions.\n",
      "user 257 processed. 28 interactions.\n",
      "user 258 processed. 13 interactions.\n"
     ]
    },
    {
     "name": "stderr",
     "output_type": "stream",
     "text": [
      " 11%|███                         | 259/2346 [00:50<03:41,  9.43user/s]"
     ]
    },
    {
     "name": "stdout",
     "output_type": "stream",
     "text": [
      "user 259 processed. 129 interactions.\n",
      "user 260 processed. 13 interactions.\n",
      "user 261 processed. 12 interactions.\n"
     ]
    },
    {
     "name": "stderr",
     "output_type": "stream",
     "text": [
      " 11%|███▏                        | 262/2346 [00:50<03:37,  9.59user/s]"
     ]
    },
    {
     "name": "stdout",
     "output_type": "stream",
     "text": [
      "user 262 processed. 227 interactions.\n",
      "user 263 processed. 132 interactions.\n"
     ]
    },
    {
     "name": "stderr",
     "output_type": "stream",
     "text": [
      " 11%|███▏                        | 264/2346 [00:50<04:11,  8.29user/s]"
     ]
    },
    {
     "name": "stdout",
     "output_type": "stream",
     "text": [
      "user 264 processed. 179 interactions.\n",
      "user 265 processed. 11 interactions.\n",
      "user 266 processed. 10 interactions.\n",
      "user 267 processed. 12 interactions.\n",
      "user 268 processed. 34 interactions.\n",
      "user 269 processed. 19 interactions.\n"
     ]
    },
    {
     "name": "stderr",
     "output_type": "stream",
     "text": [
      " 12%|███▏                        | 270/2346 [00:51<02:59, 11.54user/s]"
     ]
    },
    {
     "name": "stdout",
     "output_type": "stream",
     "text": [
      "user 270 processed. 148 interactions.\n",
      "user 271 processed. 46 interactions.\n",
      "user 272 processed. 11 interactions.\n"
     ]
    },
    {
     "name": "stderr",
     "output_type": "stream",
     "text": [
      " 12%|███▎                        | 273/2346 [00:51<02:59, 11.54user/s]"
     ]
    },
    {
     "name": "stdout",
     "output_type": "stream",
     "text": [
      "user 273 processed. 118 interactions.\n",
      "user 274 processed. 58 interactions.\n"
     ]
    },
    {
     "name": "stderr",
     "output_type": "stream",
     "text": [
      " 12%|███▎                        | 279/2346 [00:51<02:53, 11.93user/s]"
     ]
    },
    {
     "name": "stdout",
     "output_type": "stream",
     "text": [
      "user 275 processed. 261 interactions.\n",
      "user 276 processed. 11 interactions.\n",
      "user 277 processed. 11 interactions.\n",
      "user 278 processed. 21 interactions.\n",
      "user 279 processed. 95 interactions.\n",
      "user 280 processed. 11 interactions.\n",
      "user 281 processed. 19 interactions.\n"
     ]
    },
    {
     "name": "stderr",
     "output_type": "stream",
     "text": [
      " 12%|███▎                        | 282/2346 [00:52<03:20, 10.31user/s]"
     ]
    },
    {
     "name": "stdout",
     "output_type": "stream",
     "text": [
      "user 282 processed. 292 interactions.\n",
      "user 283 processed. 143 interactions.\n"
     ]
    },
    {
     "name": "stderr",
     "output_type": "stream",
     "text": [
      " 12%|███▍                        | 284/2346 [00:53<04:56,  6.96user/s]"
     ]
    },
    {
     "name": "stdout",
     "output_type": "stream",
     "text": [
      "user 284 processed. 359 interactions.\n",
      "user 285 processed. 157 interactions.\n"
     ]
    },
    {
     "name": "stderr",
     "output_type": "stream",
     "text": [
      " 12%|███▍                        | 288/2346 [00:54<06:08,  5.58user/s]"
     ]
    },
    {
     "name": "stdout",
     "output_type": "stream",
     "text": [
      "user 286 processed. 334 interactions.\n",
      "user 287 processed. 48 interactions.\n",
      "user 288 processed. 16 interactions.\n",
      "user 289 processed. 11 interactions.\n",
      "user 290 processed. 12 interactions.\n"
     ]
    },
    {
     "name": "stderr",
     "output_type": "stream",
     "text": [
      " 12%|███▍                        | 291/2346 [00:54<05:16,  6.50user/s]"
     ]
    },
    {
     "name": "stdout",
     "output_type": "stream",
     "text": [
      "user 291 processed. 121 interactions.\n",
      "user 292 processed. 136 interactions.\n"
     ]
    },
    {
     "name": "stderr",
     "output_type": "stream",
     "text": [
      " 12%|███▍                        | 293/2346 [00:55<07:52,  4.35user/s]"
     ]
    },
    {
     "name": "stdout",
     "output_type": "stream",
     "text": [
      "user 293 processed. 328 interactions.\n",
      "user 294 processed. 12 interactions.\n"
     ]
    },
    {
     "name": "stderr",
     "output_type": "stream",
     "text": [
      " 13%|███▌                        | 295/2346 [00:56<12:00,  2.85user/s]"
     ]
    },
    {
     "name": "stdout",
     "output_type": "stream",
     "text": [
      "user 295 processed. 937 interactions.\n",
      "user 296 processed. 15 interactions.\n"
     ]
    },
    {
     "name": "stderr",
     "output_type": "stream",
     "text": [
      " 13%|███▌                        | 297/2346 [00:57<10:08,  3.37user/s]"
     ]
    },
    {
     "name": "stdout",
     "output_type": "stream",
     "text": [
      "user 297 processed. 233 interactions.\n",
      "user 298 processed. 13 interactions.\n"
     ]
    },
    {
     "name": "stderr",
     "output_type": "stream",
     "text": [
      " 13%|███▌                        | 299/2346 [00:57<08:38,  3.95user/s]"
     ]
    },
    {
     "name": "stdout",
     "output_type": "stream",
     "text": [
      "user 299 processed. 214 interactions.\n"
     ]
    },
    {
     "name": "stderr",
     "output_type": "stream",
     "text": [
      " 13%|███▌                        | 302/2346 [00:58<07:55,  4.30user/s]"
     ]
    },
    {
     "name": "stdout",
     "output_type": "stream",
     "text": [
      "user 300 processed. 419 interactions.\n",
      "user 301 processed. 28 interactions.\n",
      "user 302 processed. 114 interactions.\n",
      "user 303 processed. 20 interactions.\n",
      "user 304 processed. 14 interactions.\n"
     ]
    },
    {
     "name": "stderr",
     "output_type": "stream",
     "text": [
      " 13%|███▋                        | 307/2346 [00:58<06:06,  5.56user/s]"
     ]
    },
    {
     "name": "stdout",
     "output_type": "stream",
     "text": [
      "user 305 processed. 477 interactions.\n",
      "user 306 processed. 65 interactions.\n",
      "user 307 processed. 33 interactions.\n",
      "user 308 processed. 26 interactions.\n",
      "user 309 processed. 24 interactions.\n",
      "user 310 processed. 10 interactions.\n"
     ]
    },
    {
     "name": "stderr",
     "output_type": "stream",
     "text": [
      " 13%|███▋                        | 311/2346 [00:59<06:14,  5.44user/s]"
     ]
    },
    {
     "name": "stdout",
     "output_type": "stream",
     "text": [
      "user 311 processed. 499 interactions.\n"
     ]
    },
    {
     "name": "stderr",
     "output_type": "stream",
     "text": [
      " 13%|███▋                        | 313/2346 [01:00<09:35,  3.54user/s]"
     ]
    },
    {
     "name": "stdout",
     "output_type": "stream",
     "text": [
      "user 312 processed. 771 interactions.\n",
      "user 313 processed. 110 interactions.\n",
      "user 314 processed. 16 interactions.\n",
      "user 315 processed. 54 interactions.\n"
     ]
    },
    {
     "name": "stderr",
     "output_type": "stream",
     "text": [
      " 14%|███▊                        | 317/2346 [01:01<05:59,  5.65user/s]"
     ]
    },
    {
     "name": "stdout",
     "output_type": "stream",
     "text": [
      "user 316 processed. 13 interactions.\n",
      "user 317 processed. 158 interactions.\n"
     ]
    },
    {
     "name": "stderr",
     "output_type": "stream",
     "text": [
      " 14%|███▊                        | 320/2346 [01:01<04:41,  7.21user/s]"
     ]
    },
    {
     "name": "stdout",
     "output_type": "stream",
     "text": [
      "user 318 processed. 13 interactions.\n",
      "user 319 processed. 17 interactions.\n",
      "user 320 processed. 126 interactions.\n"
     ]
    },
    {
     "name": "stderr",
     "output_type": "stream",
     "text": [
      " 14%|███▉                        | 327/2346 [01:01<02:26, 13.74user/s]"
     ]
    },
    {
     "name": "stdout",
     "output_type": "stream",
     "text": [
      "user 321 processed. 31 interactions.\n",
      "user 322 processed. 12 interactions.\n",
      "user 323 processed. 10 interactions.\n",
      "user 324 processed. 13 interactions.\n",
      "user 325 processed. 14 interactions.\n",
      "user 326 processed. 18 interactions.\n",
      "user 327 processed. 18 interactions.\n",
      "user 328 processed. 59 interactions.\n",
      "user 329 processed. 55 interactions.\n"
     ]
    },
    {
     "name": "stderr",
     "output_type": "stream",
     "text": [
      " 14%|███▉                        | 330/2346 [01:01<02:11, 15.34user/s]"
     ]
    },
    {
     "name": "stdout",
     "output_type": "stream",
     "text": [
      "user 330 processed. 12 interactions.\n",
      "user 331 processed. 132 interactions.\n",
      "user 332 processed. 75 interactions.\n"
     ]
    },
    {
     "name": "stderr",
     "output_type": "stream",
     "text": [
      " 14%|███▉                        | 333/2346 [01:02<04:28,  7.51user/s]"
     ]
    },
    {
     "name": "stdout",
     "output_type": "stream",
     "text": [
      "user 333 processed. 473 interactions.\n"
     ]
    },
    {
     "name": "stderr",
     "output_type": "stream",
     "text": [
      " 14%|███▉                        | 335/2346 [01:02<04:18,  7.77user/s]"
     ]
    },
    {
     "name": "stdout",
     "output_type": "stream",
     "text": [
      "user 334 processed. 158 interactions.\n",
      "user 335 processed. 19 interactions.\n",
      "user 336 processed. 12 interactions.\n",
      "user 337 processed. 12 interactions.\n",
      "user 338 processed. 11 interactions.\n",
      "user 339 processed. 13 interactions.\n",
      "user 340 processed. 25 interactions.\n",
      "user 341 processed. 10 interactions.\n"
     ]
    },
    {
     "name": "stderr",
     "output_type": "stream",
     "text": [
      " 15%|████                        | 342/2346 [01:03<03:05, 10.78user/s]"
     ]
    },
    {
     "name": "stdout",
     "output_type": "stream",
     "text": [
      "user 342 processed. 229 interactions.\n",
      "user 343 processed. 154 interactions.\n"
     ]
    },
    {
     "name": "stderr",
     "output_type": "stream",
     "text": [
      " 15%|████▏                       | 346/2346 [01:04<04:17,  7.77user/s]"
     ]
    },
    {
     "name": "stdout",
     "output_type": "stream",
     "text": [
      "user 344 processed. 397 interactions.\n",
      "user 345 processed. 22 interactions.\n",
      "user 346 processed. 89 interactions.\n"
     ]
    },
    {
     "name": "stderr",
     "output_type": "stream",
     "text": [
      " 15%|████▏                       | 348/2346 [01:04<04:29,  7.41user/s]"
     ]
    },
    {
     "name": "stdout",
     "output_type": "stream",
     "text": [
      "user 347 processed. 223 interactions.\n",
      "user 348 processed. 52 interactions.\n"
     ]
    },
    {
     "name": "stderr",
     "output_type": "stream",
     "text": [
      " 15%|████▏                       | 350/2346 [01:04<05:06,  6.52user/s]"
     ]
    },
    {
     "name": "stdout",
     "output_type": "stream",
     "text": [
      "user 349 processed. 348 interactions.\n",
      "user 350 processed. 11 interactions.\n",
      "user 351 processed. 34 interactions.\n"
     ]
    },
    {
     "name": "stderr",
     "output_type": "stream",
     "text": [
      " 15%|████▏                       | 352/2346 [01:05<05:17,  6.29user/s]"
     ]
    },
    {
     "name": "stdout",
     "output_type": "stream",
     "text": [
      "user 352 processed. 267 interactions.\n",
      "user 353 processed. 25 interactions.\n",
      "user 354 processed. 21 interactions.\n",
      "user 355 processed. 11 interactions.\n",
      "user 356 processed. 12 interactions.\n"
     ]
    },
    {
     "name": "stderr",
     "output_type": "stream",
     "text": [
      " 15%|████▎                       | 361/2346 [01:05<02:48, 11.78user/s]"
     ]
    },
    {
     "name": "stdout",
     "output_type": "stream",
     "text": [
      "user 357 processed. 152 interactions.\n",
      "user 358 processed. 12 interactions.\n",
      "user 359 processed. 20 interactions.\n",
      "user 360 processed. 48 interactions.\n",
      "user 361 processed. 39 interactions.\n",
      "user 362 processed. 42 interactions.\n"
     ]
    },
    {
     "name": "stderr",
     "output_type": "stream",
     "text": [
      " 16%|████▍                       | 367/2346 [01:05<02:17, 14.37user/s]"
     ]
    },
    {
     "name": "stdout",
     "output_type": "stream",
     "text": [
      "user 363 processed. 125 interactions.\n",
      "user 364 processed. 25 interactions.\n",
      "user 365 processed. 31 interactions.\n",
      "user 366 processed. 27 interactions.\n",
      "user 367 processed. 45 interactions.\n"
     ]
    },
    {
     "name": "stderr",
     "output_type": "stream",
     "text": [
      " 16%|████▍                       | 369/2346 [01:06<04:14,  7.78user/s]"
     ]
    },
    {
     "name": "stdout",
     "output_type": "stream",
     "text": [
      "user 368 processed. 498 interactions.\n",
      "user 369 processed. 36 interactions.\n",
      "user 370 processed. 96 interactions.\n"
     ]
    },
    {
     "name": "stderr",
     "output_type": "stream",
     "text": [
      " 16%|████▍                       | 371/2346 [01:06<04:16,  7.71user/s]"
     ]
    },
    {
     "name": "stdout",
     "output_type": "stream",
     "text": [
      "user 371 processed. 159 interactions.\n"
     ]
    },
    {
     "name": "stderr",
     "output_type": "stream",
     "text": [
      " 16%|████▍                       | 374/2346 [01:07<04:54,  6.70user/s]"
     ]
    },
    {
     "name": "stdout",
     "output_type": "stream",
     "text": [
      "user 372 processed. 297 interactions.\n",
      "user 373 processed. 13 interactions.\n",
      "user 374 processed. 118 interactions.\n"
     ]
    },
    {
     "name": "stderr",
     "output_type": "stream",
     "text": [
      " 16%|████▌                       | 378/2346 [01:07<03:20,  9.82user/s]"
     ]
    },
    {
     "name": "stdout",
     "output_type": "stream",
     "text": [
      "user 375 processed. 66 interactions.\n",
      "user 376 processed. 23 interactions.\n",
      "user 377 processed. 82 interactions.\n",
      "user 378 processed. 14 interactions.\n",
      "user 379 processed. 25 interactions.\n"
     ]
    },
    {
     "name": "stderr",
     "output_type": "stream",
     "text": [
      " 16%|████▌                       | 381/2346 [01:07<02:50, 11.53user/s]"
     ]
    },
    {
     "name": "stdout",
     "output_type": "stream",
     "text": [
      "user 380 processed. 35 interactions.\n",
      "user 381 processed. 103 interactions.\n"
     ]
    },
    {
     "name": "stderr",
     "output_type": "stream",
     "text": [
      " 16%|████▌                       | 387/2346 [01:08<02:09, 15.16user/s]"
     ]
    },
    {
     "name": "stdout",
     "output_type": "stream",
     "text": [
      "user 382 processed. 178 interactions.\n",
      "user 383 processed. 11 interactions.\n",
      "user 384 processed. 14 interactions.\n",
      "user 385 processed. 60 interactions.\n",
      "user 386 processed. 12 interactions.\n",
      "user 387 processed. 38 interactions.\n"
     ]
    },
    {
     "name": "stderr",
     "output_type": "stream",
     "text": [
      " 17%|████▋                       | 389/2346 [01:08<02:15, 14.47user/s]"
     ]
    },
    {
     "name": "stdout",
     "output_type": "stream",
     "text": [
      "user 388 processed. 129 interactions.\n",
      "user 389 processed. 11 interactions.\n"
     ]
    },
    {
     "name": "stderr",
     "output_type": "stream",
     "text": [
      " 17%|████▋                       | 391/2346 [01:09<05:03,  6.44user/s]"
     ]
    },
    {
     "name": "stdout",
     "output_type": "stream",
     "text": [
      "user 390 processed. 634 interactions.\n",
      "user 391 processed. 26 interactions.\n",
      "user 392 processed. 12 interactions.\n"
     ]
    },
    {
     "name": "stderr",
     "output_type": "stream",
     "text": [
      " 17%|████▋                       | 393/2346 [01:09<06:08,  5.30user/s]"
     ]
    },
    {
     "name": "stdout",
     "output_type": "stream",
     "text": [
      "user 393 processed. 291 interactions.\n",
      "user 394 processed. 11 interactions.\n"
     ]
    },
    {
     "name": "stderr",
     "output_type": "stream",
     "text": [
      " 17%|████▋                       | 395/2346 [01:10<06:21,  5.11user/s]"
     ]
    },
    {
     "name": "stdout",
     "output_type": "stream",
     "text": [
      "user 395 processed. 230 interactions.\n",
      "user 396 processed. 15 interactions.\n",
      "user 397 processed. 10 interactions.\n"
     ]
    },
    {
     "name": "stderr",
     "output_type": "stream",
     "text": [
      " 17%|████▊                       | 399/2346 [01:10<05:12,  6.22user/s]"
     ]
    },
    {
     "name": "stdout",
     "output_type": "stream",
     "text": [
      "user 398 processed. 138 interactions.\n",
      "user 399 processed. 89 interactions.\n",
      "user 400 processed. 31 interactions.\n"
     ]
    },
    {
     "name": "stderr",
     "output_type": "stream",
     "text": [
      " 17%|████▊                       | 406/2346 [01:10<02:31, 12.77user/s]"
     ]
    },
    {
     "name": "stdout",
     "output_type": "stream",
     "text": [
      "user 401 processed. 47 interactions.\n",
      "user 402 processed. 10 interactions.\n",
      "user 403 processed. 43 interactions.\n",
      "user 404 processed. 18 interactions.\n",
      "user 405 processed. 21 interactions.\n",
      "user 406 processed. 30 interactions.\n"
     ]
    },
    {
     "name": "stderr",
     "output_type": "stream",
     "text": [
      " 17%|████▊                       | 408/2346 [01:11<02:40, 12.07user/s]"
     ]
    },
    {
     "name": "stdout",
     "output_type": "stream",
     "text": [
      "user 407 processed. 97 interactions.\n",
      "user 408 processed. 23 interactions.\n"
     ]
    },
    {
     "name": "stderr",
     "output_type": "stream",
     "text": [
      " 18%|████▉                       | 415/2346 [01:11<01:53, 17.04user/s]"
     ]
    },
    {
     "name": "stdout",
     "output_type": "stream",
     "text": [
      "user 409 processed. 133 interactions.\n",
      "user 410 processed. 23 interactions.\n",
      "user 411 processed. 10 interactions.\n",
      "user 412 processed. 16 interactions.\n",
      "user 413 processed. 47 interactions.\n",
      "user 414 processed. 29 interactions.\n",
      "user 415 processed. 14 interactions.\n",
      "user 416 processed. 114 interactions.\n"
     ]
    },
    {
     "name": "stderr",
     "output_type": "stream",
     "text": [
      " 18%|████▉                       | 418/2346 [01:12<03:35,  8.95user/s]"
     ]
    },
    {
     "name": "stdout",
     "output_type": "stream",
     "text": [
      "user 417 processed. 421 interactions.\n",
      "user 418 processed. 10 interactions.\n"
     ]
    },
    {
     "name": "stderr",
     "output_type": "stream",
     "text": [
      " 18%|█████                       | 420/2346 [01:12<04:00,  8.01user/s]"
     ]
    },
    {
     "name": "stdout",
     "output_type": "stream",
     "text": [
      "user 419 processed. 196 interactions.\n",
      "user 420 processed. 95 interactions.\n",
      "user 421 processed. 111 interactions.\n"
     ]
    },
    {
     "name": "stderr",
     "output_type": "stream",
     "text": [
      " 18%|█████                       | 422/2346 [01:12<04:46,  6.72user/s]"
     ]
    },
    {
     "name": "stdout",
     "output_type": "stream",
     "text": [
      "user 422 processed. 269 interactions.\n",
      "user 423 processed. 148 interactions.\n"
     ]
    },
    {
     "name": "stderr",
     "output_type": "stream",
     "text": [
      " 18%|█████                       | 424/2346 [01:13<04:28,  7.16user/s]"
     ]
    },
    {
     "name": "stdout",
     "output_type": "stream",
     "text": [
      "user 424 processed. 36 interactions.\n",
      "user 425 processed. 59 interactions.\n"
     ]
    },
    {
     "name": "stderr",
     "output_type": "stream",
     "text": [
      " 18%|█████                       | 426/2346 [01:13<04:09,  7.70user/s]"
     ]
    },
    {
     "name": "stdout",
     "output_type": "stream",
     "text": [
      "user 426 processed. 81 interactions.\n"
     ]
    },
    {
     "name": "stderr",
     "output_type": "stream",
     "text": [
      " 18%|█████                       | 428/2346 [01:14<07:17,  4.38user/s]"
     ]
    },
    {
     "name": "stdout",
     "output_type": "stream",
     "text": [
      "user 427 processed. 568 interactions.\n",
      "user 428 processed. 11 interactions.\n"
     ]
    },
    {
     "name": "stderr",
     "output_type": "stream",
     "text": [
      " 18%|█████                       | 429/2346 [01:15<09:55,  3.22user/s]"
     ]
    },
    {
     "name": "stdout",
     "output_type": "stream",
     "text": [
      "user 429 processed. 578 interactions.\n",
      "user 430 processed. 22 interactions.\n",
      "user 431 processed. 17 interactions.\n"
     ]
    },
    {
     "name": "stderr",
     "output_type": "stream",
     "text": [
      " 18%|█████▏                      | 432/2346 [01:15<06:54,  4.62user/s]"
     ]
    },
    {
     "name": "stdout",
     "output_type": "stream",
     "text": [
      "user 432 processed. 168 interactions.\n",
      "user 433 processed. 18 interactions.\n",
      "user 434 processed. 13 interactions.\n",
      "user 435 processed. 17 interactions.\n"
     ]
    },
    {
     "name": "stderr",
     "output_type": "stream",
     "text": [
      " 19%|█████▏                      | 436/2346 [01:15<04:47,  6.65user/s]"
     ]
    },
    {
     "name": "stdout",
     "output_type": "stream",
     "text": [
      "user 436 processed. 155 interactions.\n",
      "user 437 processed. 16 interactions.\n",
      "user 438 processed. 10 interactions.\n"
     ]
    },
    {
     "name": "stderr",
     "output_type": "stream",
     "text": [
      " 19%|█████▎                      | 445/2346 [01:16<02:33, 12.37user/s]"
     ]
    },
    {
     "name": "stdout",
     "output_type": "stream",
     "text": [
      "user 439 processed. 230 interactions.\n",
      "user 440 processed. 32 interactions.\n",
      "user 441 processed. 16 interactions.\n",
      "user 442 processed. 22 interactions.\n",
      "user 443 processed. 12 interactions.\n",
      "user 444 processed. 34 interactions.\n",
      "user 445 processed. 26 interactions.\n",
      "user 446 processed. 13 interactions.\n"
     ]
    },
    {
     "name": "stderr",
     "output_type": "stream",
     "text": [
      " 19%|█████▎                      | 448/2346 [01:16<02:14, 14.10user/s]"
     ]
    },
    {
     "name": "stdout",
     "output_type": "stream",
     "text": [
      "user 447 processed. 71 interactions.\n",
      "user 448 processed. 53 interactions.\n",
      "user 449 processed. 10 interactions.\n",
      "user 450 processed. 13 interactions.\n",
      "user 451 processed. 29 interactions.\n"
     ]
    },
    {
     "name": "stderr",
     "output_type": "stream",
     "text": [
      " 19%|█████▍                      | 452/2346 [01:16<01:57, 16.14user/s]"
     ]
    },
    {
     "name": "stdout",
     "output_type": "stream",
     "text": [
      "user 452 processed. 111 interactions.\n",
      "user 453 processed. 16 interactions.\n",
      "user 454 processed. 13 interactions.\n"
     ]
    },
    {
     "name": "stderr",
     "output_type": "stream",
     "text": [
      " 19%|█████▍                      | 455/2346 [01:16<02:13, 14.20user/s]"
     ]
    },
    {
     "name": "stdout",
     "output_type": "stream",
     "text": [
      "user 455 processed. 232 interactions.\n"
     ]
    },
    {
     "name": "stderr",
     "output_type": "stream",
     "text": [
      " 19%|█████▍                      | 457/2346 [01:17<03:38,  8.65user/s]"
     ]
    },
    {
     "name": "stdout",
     "output_type": "stream",
     "text": [
      "user 456 processed. 341 interactions.\n",
      "user 457 processed. 139 interactions.\n",
      "user 458 processed. 33 interactions.\n"
     ]
    },
    {
     "name": "stderr",
     "output_type": "stream",
     "text": [
      " 20%|█████▍                      | 460/2346 [01:17<02:53, 10.86user/s]"
     ]
    },
    {
     "name": "stdout",
     "output_type": "stream",
     "text": [
      "user 459 processed. 18 interactions.\n",
      "user 460 processed. 70 interactions.\n",
      "user 461 processed. 22 interactions.\n",
      "user 462 processed. 57 interactions.\n",
      "user 463 processed. 13 interactions.\n",
      "user 464 processed. 19 interactions.\n"
     ]
    },
    {
     "name": "stderr",
     "output_type": "stream",
     "text": [
      " 20%|█████▌                      | 465/2346 [01:17<03:23,  9.26user/s]"
     ]
    },
    {
     "name": "stdout",
     "output_type": "stream",
     "text": [
      "user 465 processed. 420 interactions.\n",
      "user 466 processed. 70 interactions.\n"
     ]
    },
    {
     "name": "stderr",
     "output_type": "stream",
     "text": [
      " 20%|█████▌                      | 469/2346 [01:19<04:49,  6.49user/s]"
     ]
    },
    {
     "name": "stdout",
     "output_type": "stream",
     "text": [
      "user 467 processed. 702 interactions.\n",
      "user 468 processed. 12 interactions.\n",
      "user 469 processed. 98 interactions.\n",
      "user 470 processed. 33 interactions.\n"
     ]
    },
    {
     "name": "stderr",
     "output_type": "stream",
     "text": [
      " 20%|█████▌                      | 471/2346 [01:20<07:40,  4.07user/s]"
     ]
    },
    {
     "name": "stdout",
     "output_type": "stream",
     "text": [
      "user 471 processed. 754 interactions.\n"
     ]
    },
    {
     "name": "stderr",
     "output_type": "stream",
     "text": [
      " 20%|█████▋                      | 473/2346 [01:20<07:46,  4.01user/s]"
     ]
    },
    {
     "name": "stdout",
     "output_type": "stream",
     "text": [
      "user 472 processed. 394 interactions.\n",
      "user 473 processed. 107 interactions.\n",
      "user 474 processed. 25 interactions.\n"
     ]
    },
    {
     "name": "stderr",
     "output_type": "stream",
     "text": [
      " 20%|█████▋                      | 475/2346 [01:21<07:28,  4.17user/s]"
     ]
    },
    {
     "name": "stdout",
     "output_type": "stream",
     "text": [
      "user 475 processed. 353 interactions.\n"
     ]
    },
    {
     "name": "stderr",
     "output_type": "stream",
     "text": [
      " 20%|█████▋                      | 478/2346 [01:21<05:46,  5.38user/s]"
     ]
    },
    {
     "name": "stdout",
     "output_type": "stream",
     "text": [
      "user 476 processed. 207 interactions.\n",
      "user 477 processed. 13 interactions.\n",
      "user 478 processed. 104 interactions.\n"
     ]
    },
    {
     "name": "stderr",
     "output_type": "stream",
     "text": [
      " 20%|█████▋                      | 479/2346 [01:21<05:50,  5.33user/s]"
     ]
    },
    {
     "name": "stdout",
     "output_type": "stream",
     "text": [
      "user 479 processed. 154 interactions.\n"
     ]
    },
    {
     "name": "stderr",
     "output_type": "stream",
     "text": [
      " 20%|█████▋                      | 480/2346 [01:22<06:40,  4.66user/s]"
     ]
    },
    {
     "name": "stdout",
     "output_type": "stream",
     "text": [
      "user 480 processed. 256 interactions.\n",
      "user 481 processed. 58 interactions.\n",
      "user 482 processed. 13 interactions.\n",
      "user 483 processed. 35 interactions.\n"
     ]
    },
    {
     "name": "stderr",
     "output_type": "stream",
     "text": [
      " 21%|█████▊                      | 486/2346 [01:22<03:44,  8.28user/s]"
     ]
    },
    {
     "name": "stdout",
     "output_type": "stream",
     "text": [
      "user 484 processed. 199 interactions.\n",
      "user 485 processed. 41 interactions.\n",
      "user 486 processed. 106 interactions.\n",
      "user 487 processed. 31 interactions.\n"
     ]
    },
    {
     "name": "stderr",
     "output_type": "stream",
     "text": [
      " 21%|█████▊                      | 489/2346 [01:23<04:49,  6.41user/s]"
     ]
    },
    {
     "name": "stdout",
     "output_type": "stream",
     "text": [
      "user 488 processed. 345 interactions.\n",
      "user 489 processed. 166 interactions.\n"
     ]
    },
    {
     "name": "stderr",
     "output_type": "stream",
     "text": [
      " 21%|█████▊                      | 490/2346 [01:23<04:30,  6.87user/s]"
     ]
    },
    {
     "name": "stdout",
     "output_type": "stream",
     "text": [
      "user 490 processed. 80 interactions.\n",
      "user 491 processed. 26 interactions.\n",
      "user 492 processed. 15 interactions.\n"
     ]
    },
    {
     "name": "stderr",
     "output_type": "stream",
     "text": [
      " 21%|█████▉                      | 493/2346 [01:23<03:57,  7.81user/s]"
     ]
    },
    {
     "name": "stdout",
     "output_type": "stream",
     "text": [
      "user 493 processed. 224 interactions.\n",
      "user 494 processed. 12 interactions.\n"
     ]
    },
    {
     "name": "stderr",
     "output_type": "stream",
     "text": [
      " 21%|█████▉                      | 495/2346 [01:24<07:21,  4.19user/s]"
     ]
    },
    {
     "name": "stdout",
     "output_type": "stream",
     "text": [
      "user 495 processed. 704 interactions.\n",
      "user 496 processed. 10 interactions.\n",
      "user 497 processed. 12 interactions.\n",
      "user 498 processed. 50 interactions.\n",
      "user 499 processed. 33 interactions.\n"
     ]
    },
    {
     "name": "stderr",
     "output_type": "stream",
     "text": [
      " 21%|█████▉                      | 500/2346 [01:24<04:16,  7.19user/s]"
     ]
    },
    {
     "name": "stdout",
     "output_type": "stream",
     "text": [
      "user 500 processed. 140 interactions.\n",
      "user 501 processed. 338 interactions.\n"
     ]
    },
    {
     "name": "stderr",
     "output_type": "stream",
     "text": [
      " 22%|██████                      | 505/2346 [01:25<05:09,  5.96user/s]"
     ]
    },
    {
     "name": "stdout",
     "output_type": "stream",
     "text": [
      "user 502 processed. 284 interactions.\n",
      "user 503 processed. 11 interactions.\n",
      "user 504 processed. 13 interactions.\n",
      "user 505 processed. 97 interactions.\n",
      "user 506 processed. 10 interactions.\n",
      "user 507 processed. 18 interactions.\n"
     ]
    },
    {
     "name": "stderr",
     "output_type": "stream",
     "text": [
      " 22%|██████                      | 508/2346 [01:26<05:20,  5.74user/s]"
     ]
    },
    {
     "name": "stdout",
     "output_type": "stream",
     "text": [
      "user 508 processed. 229 interactions.\n",
      "user 509 processed. 11 interactions.\n"
     ]
    },
    {
     "name": "stderr",
     "output_type": "stream",
     "text": [
      " 22%|██████                      | 512/2346 [01:27<04:37,  6.61user/s]"
     ]
    },
    {
     "name": "stdout",
     "output_type": "stream",
     "text": [
      "user 510 processed. 162 interactions.\n",
      "user 511 processed. 39 interactions.\n",
      "user 512 processed. 69 interactions.\n"
     ]
    },
    {
     "name": "stderr",
     "output_type": "stream",
     "text": [
      " 22%|██████▏                     | 514/2346 [01:27<05:11,  5.88user/s]"
     ]
    },
    {
     "name": "stdout",
     "output_type": "stream",
     "text": [
      "user 513 processed. 239 interactions.\n",
      "user 514 processed. 102 interactions.\n",
      "user 515 processed. 28 interactions.\n",
      "user 516 processed. 16 interactions.\n",
      "user 517 processed. 17 interactions.\n"
     ]
    },
    {
     "name": "stderr",
     "output_type": "stream",
     "text": [
      " 22%|██████▏                     | 522/2346 [01:28<03:30,  8.65user/s]"
     ]
    },
    {
     "name": "stdout",
     "output_type": "stream",
     "text": [
      "user 518 processed. 485 interactions.\n",
      "user 519 processed. 41 interactions.\n",
      "user 520 processed. 24 interactions.\n",
      "user 521 processed. 12 interactions.\n",
      "user 522 processed. 92 interactions.\n"
     ]
    },
    {
     "name": "stderr",
     "output_type": "stream",
     "text": [
      " 22%|██████▎                     | 524/2346 [01:28<03:18,  9.17user/s]"
     ]
    },
    {
     "name": "stdout",
     "output_type": "stream",
     "text": [
      "user 523 processed. 130 interactions.\n",
      "user 524 processed. 15 interactions.\n",
      "user 525 processed. 33 interactions.\n",
      "user 526 processed. 32 interactions.\n"
     ]
    },
    {
     "name": "stderr",
     "output_type": "stream",
     "text": [
      " 23%|██████▎                     | 531/2346 [01:28<02:17, 13.21user/s]"
     ]
    },
    {
     "name": "stdout",
     "output_type": "stream",
     "text": [
      "user 527 processed. 210 interactions.\n",
      "user 528 processed. 23 interactions.\n",
      "user 529 processed. 39 interactions.\n",
      "user 530 processed. 20 interactions.\n",
      "user 531 processed. 41 interactions.\n",
      "user 532 processed. 35 interactions.\n"
     ]
    },
    {
     "name": "stderr",
     "output_type": "stream",
     "text": [
      " 23%|██████▍                     | 536/2346 [01:29<02:15, 13.39user/s]"
     ]
    },
    {
     "name": "stdout",
     "output_type": "stream",
     "text": [
      "user 533 processed. 137 interactions.\n",
      "user 534 processed. 20 interactions.\n",
      "user 535 processed. 16 interactions.\n",
      "user 536 processed. 116 interactions.\n",
      "user 537 processed. 21 interactions.\n",
      "user 538 processed. 17 interactions.\n",
      "user 539 processed. 10 interactions.\n"
     ]
    },
    {
     "name": "stderr",
     "output_type": "stream",
     "text": [
      " 23%|██████▍                     | 542/2346 [01:29<01:36, 18.61user/s]"
     ]
    },
    {
     "name": "stdout",
     "output_type": "stream",
     "text": [
      "user 540 processed. 11 interactions.\n",
      "user 541 processed. 23 interactions.\n",
      "user 542 processed. 84 interactions.\n"
     ]
    },
    {
     "name": "stderr",
     "output_type": "stream",
     "text": [
      " 23%|██████▌                     | 547/2346 [01:29<01:50, 16.21user/s]"
     ]
    },
    {
     "name": "stdout",
     "output_type": "stream",
     "text": [
      "user 543 processed. 146 interactions.\n",
      "user 544 processed. 43 interactions.\n",
      "user 545 processed. 18 interactions.\n",
      "user 546 processed. 102 interactions.\n",
      "user 547 processed. 18 interactions.\n"
     ]
    },
    {
     "name": "stderr",
     "output_type": "stream",
     "text": [
      " 23%|██████▌                     | 551/2346 [01:30<02:38, 11.32user/s]"
     ]
    },
    {
     "name": "stdout",
     "output_type": "stream",
     "text": [
      "user 548 processed. 323 interactions.\n",
      "user 549 processed. 11 interactions.\n",
      "user 550 processed. 79 interactions.\n",
      "user 551 processed. 41 interactions.\n",
      "user 552 processed. 12 interactions.\n",
      "user 553 processed. 34 interactions.\n"
     ]
    },
    {
     "name": "stderr",
     "output_type": "stream",
     "text": [
      " 24%|██████▋                     | 558/2346 [01:30<01:27, 20.40user/s]"
     ]
    },
    {
     "name": "stdout",
     "output_type": "stream",
     "text": [
      "user 554 processed. 42 interactions.\n",
      "user 555 processed. 14 interactions.\n",
      "user 556 processed. 10 interactions.\n",
      "user 557 processed. 15 interactions.\n",
      "user 558 processed. 10 interactions.\n",
      "user 559 processed. 19 interactions.\n",
      "user 560 processed. 21 interactions.\n",
      "user 561 processed. 41 interactions.\n",
      "user 562 processed. 15 interactions.\n",
      "user 563 processed. 10 interactions.\n",
      "user 564 processed. 13 interactions.\n"
     ]
    },
    {
     "name": "stderr",
     "output_type": "stream",
     "text": [
      " 24%|██████▋                     | 565/2346 [01:30<01:14, 23.91user/s]"
     ]
    },
    {
     "name": "stdout",
     "output_type": "stream",
     "text": [
      "user 565 processed. 125 interactions.\n",
      "user 566 processed. 27 interactions.\n",
      "user 567 processed. 233 interactions.\n"
     ]
    },
    {
     "name": "stderr",
     "output_type": "stream",
     "text": [
      " 24%|██████▊                     | 568/2346 [01:31<02:51, 10.38user/s]"
     ]
    },
    {
     "name": "stdout",
     "output_type": "stream",
     "text": [
      "user 568 processed. 347 interactions.\n",
      "user 569 processed. 31 interactions.\n",
      "user 570 processed. 27 interactions.\n",
      "user 571 processed. 16 interactions.\n",
      "user 572 processed. 16 interactions.\n"
     ]
    },
    {
     "name": "stderr",
     "output_type": "stream",
     "text": [
      " 25%|██████▉                     | 579/2346 [01:32<01:41, 17.39user/s]"
     ]
    },
    {
     "name": "stdout",
     "output_type": "stream",
     "text": [
      "user 573 processed. 101 interactions.\n",
      "user 574 processed. 15 interactions.\n",
      "user 575 processed. 12 interactions.\n",
      "user 576 processed. 18 interactions.\n",
      "user 577 processed. 30 interactions.\n",
      "user 578 processed. 28 interactions.\n",
      "user 579 processed. 19 interactions.\n"
     ]
    },
    {
     "name": "stderr",
     "output_type": "stream",
     "text": [
      " 25%|███████                     | 588/2346 [01:33<02:32, 11.50user/s]"
     ]
    },
    {
     "name": "stdout",
     "output_type": "stream",
     "text": [
      "user 580 processed. 828 interactions.\n",
      "user 581 processed. 14 interactions.\n",
      "user 582 processed. 36 interactions.\n",
      "user 583 processed. 54 interactions.\n",
      "user 584 processed. 45 interactions.\n",
      "user 585 processed. 15 interactions.\n",
      "user 586 processed. 16 interactions.\n",
      "user 587 processed. 20 interactions.\n",
      "user 588 processed. 15 interactions.\n",
      "user 589 processed. 46 interactions.\n",
      "user 590 processed. 385 interactions.\n"
     ]
    },
    {
     "name": "stderr",
     "output_type": "stream",
     "text": [
      " 25%|███████                     | 591/2346 [01:36<09:07,  3.21user/s]"
     ]
    },
    {
     "name": "stdout",
     "output_type": "stream",
     "text": [
      "user 591 processed. 1576 interactions.\n",
      "user 592 processed. 13 interactions.\n",
      "user 593 processed. 25 interactions.\n",
      "user 594 processed. 14 interactions.\n",
      "user 595 processed. 57 interactions.\n"
     ]
    },
    {
     "name": "stderr",
     "output_type": "stream",
     "text": [
      " 25%|███████                     | 596/2346 [01:37<07:33,  3.86user/s]"
     ]
    },
    {
     "name": "stdout",
     "output_type": "stream",
     "text": [
      "user 596 processed. 540 interactions.\n",
      "user 597 processed. 37 interactions.\n",
      "user 598 processed. 20 interactions.\n",
      "user 599 processed. 12 interactions.\n"
     ]
    },
    {
     "name": "stderr",
     "output_type": "stream",
     "text": [
      " 26%|███████▏                    | 600/2346 [01:37<06:04,  4.79user/s]"
     ]
    },
    {
     "name": "stdout",
     "output_type": "stream",
     "text": [
      "user 600 processed. 136 interactions.\n",
      "user 601 processed. 58 interactions.\n"
     ]
    },
    {
     "name": "stderr",
     "output_type": "stream",
     "text": [
      " 26%|███████▏                    | 602/2346 [01:38<05:47,  5.02user/s]"
     ]
    },
    {
     "name": "stdout",
     "output_type": "stream",
     "text": [
      "user 602 processed. 213 interactions.\n"
     ]
    },
    {
     "name": "stderr",
     "output_type": "stream",
     "text": [
      " 26%|███████▏                    | 604/2346 [01:38<05:33,  5.23user/s]"
     ]
    },
    {
     "name": "stdout",
     "output_type": "stream",
     "text": [
      "user 603 processed. 244 interactions.\n",
      "user 604 processed. 24 interactions.\n",
      "user 605 processed. 65 interactions.\n",
      "user 606 processed. 20 interactions.\n"
     ]
    },
    {
     "name": "stderr",
     "output_type": "stream",
     "text": [
      " 26%|███████▏                    | 607/2346 [01:38<04:28,  6.48user/s]"
     ]
    },
    {
     "name": "stdout",
     "output_type": "stream",
     "text": [
      "user 607 processed. 101 interactions.\n",
      "user 608 processed. 40 interactions.\n",
      "user 609 processed. 43 interactions.\n",
      "user 610 processed. 11 interactions.\n"
     ]
    },
    {
     "name": "stderr",
     "output_type": "stream",
     "text": [
      " 26%|███████▎                    | 617/2346 [01:38<02:10, 13.28user/s]"
     ]
    },
    {
     "name": "stdout",
     "output_type": "stream",
     "text": [
      "user 611 processed. 127 interactions.\n",
      "user 612 processed. 24 interactions.\n",
      "user 613 processed. 13 interactions.\n",
      "user 614 processed. 17 interactions.\n",
      "user 615 processed. 15 interactions.\n",
      "user 616 processed. 13 interactions.\n",
      "user 617 processed. 45 interactions.\n",
      "user 618 processed. 48 interactions.\n",
      "user 619 processed. 26 interactions.\n"
     ]
    },
    {
     "name": "stderr",
     "output_type": "stream",
     "text": [
      " 27%|███████▍                    | 624/2346 [01:39<01:53, 15.15user/s]"
     ]
    },
    {
     "name": "stdout",
     "output_type": "stream",
     "text": [
      "user 620 processed. 116 interactions.\n",
      "user 621 processed. 10 interactions.\n",
      "user 622 processed. 17 interactions.\n",
      "user 623 processed. 62 interactions.\n",
      "user 624 processed. 78 interactions.\n",
      "user 625 processed. 30 interactions.\n",
      "user 626 processed. 19 interactions.\n"
     ]
    },
    {
     "name": "stderr",
     "output_type": "stream",
     "text": [
      " 27%|███████▍                    | 627/2346 [01:40<04:11,  6.82user/s]"
     ]
    },
    {
     "name": "stdout",
     "output_type": "stream",
     "text": [
      "user 627 processed. 791 interactions.\n",
      "user 628 processed. 14 interactions.\n",
      "user 629 processed. 11 interactions.\n",
      "user 630 processed. 12 interactions.\n"
     ]
    },
    {
     "name": "stderr",
     "output_type": "stream",
     "text": [
      " 27%|███████▌                    | 631/2346 [01:43<08:58,  3.19user/s]"
     ]
    },
    {
     "name": "stdout",
     "output_type": "stream",
     "text": [
      "user 631 processed. 1237 interactions.\n",
      "user 632 processed. 47 interactions.\n"
     ]
    },
    {
     "name": "stderr",
     "output_type": "stream",
     "text": [
      " 27%|███████▌                    | 633/2346 [01:43<08:39,  3.30user/s]"
     ]
    },
    {
     "name": "stdout",
     "output_type": "stream",
     "text": [
      "user 633 processed. 315 interactions.\n"
     ]
    },
    {
     "name": "stderr",
     "output_type": "stream",
     "text": [
      " 27%|███████▌                    | 634/2346 [01:44<08:50,  3.23user/s]"
     ]
    },
    {
     "name": "stdout",
     "output_type": "stream",
     "text": [
      "user 634 processed. 279 interactions.\n"
     ]
    },
    {
     "name": "stderr",
     "output_type": "stream",
     "text": [
      " 27%|███████▋                    | 639/2346 [01:44<05:26,  5.23user/s]"
     ]
    },
    {
     "name": "stdout",
     "output_type": "stream",
     "text": [
      "user 635 processed. 290 interactions.\n",
      "user 636 processed. 38 interactions.\n",
      "user 637 processed. 50 interactions.\n",
      "user 638 processed. 30 interactions.\n",
      "user 639 processed. 47 interactions.\n",
      "user 640 processed. 12 interactions.\n"
     ]
    },
    {
     "name": "stderr",
     "output_type": "stream",
     "text": [
      " 27%|███████▋                    | 643/2346 [01:45<04:50,  5.87user/s]"
     ]
    },
    {
     "name": "stdout",
     "output_type": "stream",
     "text": [
      "user 641 processed. 349 interactions.\n",
      "user 642 processed. 18 interactions.\n",
      "user 643 processed. 117 interactions.\n",
      "user 644 processed. 22 interactions.\n",
      "user 645 processed. 44 interactions.\n"
     ]
    },
    {
     "name": "stderr",
     "output_type": "stream",
     "text": [
      " 28%|███████▋                    | 648/2346 [01:45<03:34,  7.91user/s]"
     ]
    },
    {
     "name": "stdout",
     "output_type": "stream",
     "text": [
      "user 646 processed. 139 interactions.\n",
      "user 647 processed. 24 interactions.\n",
      "user 648 processed. 90 interactions.\n"
     ]
    },
    {
     "name": "stderr",
     "output_type": "stream",
     "text": [
      " 28%|███████▊                    | 650/2346 [01:45<03:22,  8.38user/s]"
     ]
    },
    {
     "name": "stdout",
     "output_type": "stream",
     "text": [
      "user 649 processed. 49 interactions.\n",
      "user 650 processed. 103 interactions.\n",
      "user 651 processed. 13 interactions.\n",
      "user 652 processed. 13 interactions.\n"
     ]
    },
    {
     "name": "stderr",
     "output_type": "stream",
     "text": [
      " 28%|███████▊                    | 654/2346 [01:45<02:22, 11.85user/s]"
     ]
    },
    {
     "name": "stdout",
     "output_type": "stream",
     "text": [
      "user 653 processed. 10 interactions.\n",
      "user 654 processed. 67 interactions.\n",
      "user 655 processed. 13 interactions.\n",
      "user 656 processed. 32 interactions.\n"
     ]
    },
    {
     "name": "stderr",
     "output_type": "stream",
     "text": [
      " 28%|███████▉                    | 661/2346 [01:46<02:10, 12.93user/s]"
     ]
    },
    {
     "name": "stdout",
     "output_type": "stream",
     "text": [
      "user 657 processed. 338 interactions.\n",
      "user 658 processed. 20 interactions.\n",
      "user 659 processed. 31 interactions.\n",
      "user 660 processed. 32 interactions.\n",
      "user 661 processed. 47 interactions.\n"
     ]
    },
    {
     "name": "stderr",
     "output_type": "stream",
     "text": [
      " 28%|███████▉                    | 663/2346 [01:46<02:27, 11.41user/s]"
     ]
    },
    {
     "name": "stdout",
     "output_type": "stream",
     "text": [
      "user 662 processed. 216 interactions.\n",
      "user 663 processed. 20 interactions.\n",
      "user 664 processed. 10 interactions.\n",
      "user 665 processed. 12 interactions.\n"
     ]
    },
    {
     "name": "stderr",
     "output_type": "stream",
     "text": [
      " 28%|███████▉                    | 666/2346 [01:47<03:03,  9.14user/s]"
     ]
    },
    {
     "name": "stdout",
     "output_type": "stream",
     "text": [
      "user 666 processed. 313 interactions.\n",
      "user 667 processed. 58 interactions.\n"
     ]
    },
    {
     "name": "stderr",
     "output_type": "stream",
     "text": [
      " 28%|███████▉                    | 668/2346 [01:47<03:52,  7.21user/s]"
     ]
    },
    {
     "name": "stdout",
     "output_type": "stream",
     "text": [
      "user 668 processed. 277 interactions.\n"
     ]
    },
    {
     "name": "stderr",
     "output_type": "stream",
     "text": [
      " 29%|███████▉                    | 670/2346 [01:48<04:48,  5.80user/s]"
     ]
    },
    {
     "name": "stdout",
     "output_type": "stream",
     "text": [
      "user 669 processed. 436 interactions.\n",
      "user 670 processed. 18 interactions.\n"
     ]
    },
    {
     "name": "stderr",
     "output_type": "stream",
     "text": [
      " 29%|████████                    | 671/2346 [01:48<05:56,  4.70user/s]"
     ]
    },
    {
     "name": "stdout",
     "output_type": "stream",
     "text": [
      "user 671 processed. 329 interactions.\n",
      "user 672 processed. 39 interactions.\n",
      "user 673 processed. 20 interactions.\n"
     ]
    },
    {
     "name": "stderr",
     "output_type": "stream",
     "text": [
      " 29%|████████                    | 674/2346 [01:49<04:55,  5.66user/s]"
     ]
    },
    {
     "name": "stdout",
     "output_type": "stream",
     "text": [
      "user 674 processed. 257 interactions.\n"
     ]
    },
    {
     "name": "stderr",
     "output_type": "stream",
     "text": [
      " 29%|████████                    | 678/2346 [01:51<09:03,  3.07user/s]"
     ]
    },
    {
     "name": "stdout",
     "output_type": "stream",
     "text": [
      "user 675 processed. 1208 interactions.\n",
      "user 676 processed. 25 interactions.\n",
      "user 677 processed. 11 interactions.\n",
      "user 678 processed. 63 interactions.\n",
      "user 679 processed. 27 interactions.\n",
      "user 680 processed. 14 interactions.\n",
      "user 681 processed. 17 interactions.\n"
     ]
    },
    {
     "name": "stderr",
     "output_type": "stream",
     "text": [
      " 29%|████████▏                   | 683/2346 [01:51<04:54,  5.65user/s]"
     ]
    },
    {
     "name": "stdout",
     "output_type": "stream",
     "text": [
      "user 682 processed. 15 interactions.\n",
      "user 683 processed. 22 interactions.\n",
      "user 684 processed. 35 interactions.\n"
     ]
    },
    {
     "name": "stderr",
     "output_type": "stream",
     "text": [
      " 29%|████████▏                   | 686/2346 [01:52<05:02,  5.49user/s]"
     ]
    },
    {
     "name": "stdout",
     "output_type": "stream",
     "text": [
      "user 685 processed. 288 interactions.\n",
      "user 686 processed. 32 interactions.\n",
      "user 687 processed. 56 interactions.\n",
      "user 688 processed. 16 interactions.\n"
     ]
    },
    {
     "name": "stderr",
     "output_type": "stream",
     "text": [
      " 29%|████████▎                   | 692/2346 [01:52<03:31,  7.82user/s]"
     ]
    },
    {
     "name": "stdout",
     "output_type": "stream",
     "text": [
      "user 689 processed. 221 interactions.\n",
      "user 690 processed. 18 interactions.\n",
      "user 691 processed. 30 interactions.\n",
      "user 692 processed. 48 interactions.\n"
     ]
    },
    {
     "name": "stderr",
     "output_type": "stream",
     "text": [
      " 30%|████████▎                   | 694/2346 [01:52<03:04,  8.95user/s]"
     ]
    },
    {
     "name": "stdout",
     "output_type": "stream",
     "text": [
      "user 693 processed. 94 interactions.\n",
      "user 694 processed. 11 interactions.\n",
      "user 695 processed. 376 interactions.\n"
     ]
    },
    {
     "name": "stderr",
     "output_type": "stream",
     "text": [
      " 30%|████████▎                   | 696/2346 [01:53<05:33,  4.95user/s]"
     ]
    },
    {
     "name": "stdout",
     "output_type": "stream",
     "text": [
      "user 696 processed. 186 interactions.\n",
      "user 697 processed. 17 interactions.\n",
      "user 698 processed. 11 interactions.\n"
     ]
    },
    {
     "name": "stderr",
     "output_type": "stream",
     "text": [
      " 30%|████████▎                   | 699/2346 [01:54<06:03,  4.53user/s]"
     ]
    },
    {
     "name": "stdout",
     "output_type": "stream",
     "text": [
      "user 699 processed. 558 interactions.\n",
      "user 700 processed. 18 interactions.\n",
      "user 701 processed. 44 interactions.\n"
     ]
    },
    {
     "name": "stderr",
     "output_type": "stream",
     "text": [
      " 30%|████████▍                   | 704/2346 [01:55<04:06,  6.65user/s]"
     ]
    },
    {
     "name": "stdout",
     "output_type": "stream",
     "text": [
      "user 702 processed. 139 interactions.\n",
      "user 703 processed. 66 interactions.\n",
      "user 704 processed. 54 interactions.\n",
      "user 705 processed. 13 interactions.\n"
     ]
    },
    {
     "name": "stderr",
     "output_type": "stream",
     "text": [
      " 30%|████████▍                   | 709/2346 [01:55<02:29, 10.92user/s]"
     ]
    },
    {
     "name": "stdout",
     "output_type": "stream",
     "text": [
      "user 706 processed. 30 interactions.\n",
      "user 707 processed. 25 interactions.\n",
      "user 708 processed. 10 interactions.\n",
      "user 709 processed. 16 interactions.\n",
      "user 710 processed. 312 interactions.\n",
      "user 711 processed. 127 interactions.\n"
     ]
    },
    {
     "name": "stderr",
     "output_type": "stream",
     "text": [
      " 30%|████████▍                   | 712/2346 [01:55<03:44,  7.28user/s]"
     ]
    },
    {
     "name": "stdout",
     "output_type": "stream",
     "text": [
      "user 712 processed. 69 interactions.\n"
     ]
    },
    {
     "name": "stderr",
     "output_type": "stream",
     "text": [
      " 30%|████████▌                   | 714/2346 [01:56<04:07,  6.59user/s]"
     ]
    },
    {
     "name": "stdout",
     "output_type": "stream",
     "text": [
      "user 713 processed. 159 interactions.\n",
      "user 714 processed. 174 interactions.\n"
     ]
    },
    {
     "name": "stderr",
     "output_type": "stream",
     "text": [
      " 31%|████████▌                   | 718/2346 [01:56<03:05,  8.80user/s]"
     ]
    },
    {
     "name": "stdout",
     "output_type": "stream",
     "text": [
      "user 715 processed. 57 interactions.\n",
      "user 716 processed. 35 interactions.\n",
      "user 717 processed. 10 interactions.\n",
      "user 718 processed. 97 interactions.\n",
      "user 719 processed. 596 interactions.\n"
     ]
    },
    {
     "name": "stderr",
     "output_type": "stream",
     "text": [
      " 31%|████████▋                   | 723/2346 [01:57<04:20,  6.23user/s]"
     ]
    },
    {
     "name": "stdout",
     "output_type": "stream",
     "text": [
      "user 720 processed. 137 interactions.\n",
      "user 721 processed. 41 interactions.\n",
      "user 722 processed. 31 interactions.\n",
      "user 723 processed. 19 interactions.\n",
      "user 724 processed. 30 interactions.\n"
     ]
    },
    {
     "name": "stderr",
     "output_type": "stream",
     "text": [
      " 31%|████████▋                   | 725/2346 [01:57<03:40,  7.34user/s]"
     ]
    },
    {
     "name": "stdout",
     "output_type": "stream",
     "text": [
      "user 725 processed. 58 interactions.\n",
      "user 726 processed. 21 interactions.\n",
      "user 727 processed. 16 interactions.\n",
      "user 728 processed. 21 interactions.\n"
     ]
    },
    {
     "name": "stderr",
     "output_type": "stream",
     "text": [
      " 31%|████████▋                   | 729/2346 [01:59<05:24,  4.98user/s]"
     ]
    },
    {
     "name": "stdout",
     "output_type": "stream",
     "text": [
      "user 729 processed. 517 interactions.\n",
      "user 730 processed. 97 interactions.\n"
     ]
    },
    {
     "name": "stderr",
     "output_type": "stream",
     "text": [
      " 31%|████████▋                   | 731/2346 [01:59<06:28,  4.15user/s]"
     ]
    },
    {
     "name": "stdout",
     "output_type": "stream",
     "text": [
      "user 731 processed. 344 interactions.\n"
     ]
    },
    {
     "name": "stderr",
     "output_type": "stream",
     "text": [
      " 31%|████████▋                   | 732/2346 [02:01<09:53,  2.72user/s]"
     ]
    },
    {
     "name": "stdout",
     "output_type": "stream",
     "text": [
      "user 732 processed. 794 interactions.\n"
     ]
    },
    {
     "name": "stderr",
     "output_type": "stream",
     "text": [
      " 31%|████████▋                   | 733/2346 [02:01<10:33,  2.55user/s]"
     ]
    },
    {
     "name": "stdout",
     "output_type": "stream",
     "text": [
      "user 733 processed. 353 interactions.\n",
      "user 734 processed. 10 interactions.\n",
      "user 735 processed. 26 interactions.\n",
      "user 736 processed. 15 interactions.\n",
      "user 737 processed. 45 interactions.\n"
     ]
    },
    {
     "name": "stderr",
     "output_type": "stream",
     "text": [
      " 32%|████████▊                   | 739/2346 [02:02<05:50,  4.59user/s]"
     ]
    },
    {
     "name": "stdout",
     "output_type": "stream",
     "text": [
      "user 738 processed. 191 interactions.\n",
      "user 739 processed. 157 interactions.\n",
      "user 740 processed. 10 interactions.\n",
      "user 741 processed. 23 interactions.\n"
     ]
    },
    {
     "name": "stderr",
     "output_type": "stream",
     "text": [
      " 32%|████████▊                   | 742/2346 [02:02<05:30,  4.86user/s]"
     ]
    },
    {
     "name": "stdout",
     "output_type": "stream",
     "text": [
      "user 742 processed. 445 interactions.\n",
      "user 743 processed. 23 interactions.\n"
     ]
    },
    {
     "name": "stderr",
     "output_type": "stream",
     "text": [
      " 32%|████████▉                   | 746/2346 [02:03<04:08,  6.44user/s]"
     ]
    },
    {
     "name": "stdout",
     "output_type": "stream",
     "text": [
      "user 744 processed. 268 interactions.\n",
      "user 745 processed. 13 interactions.\n",
      "user 746 processed. 75 interactions.\n"
     ]
    },
    {
     "name": "stderr",
     "output_type": "stream",
     "text": [
      " 32%|████████▉                   | 748/2346 [02:03<04:28,  5.94user/s]"
     ]
    },
    {
     "name": "stdout",
     "output_type": "stream",
     "text": [
      "user 747 processed. 303 interactions.\n",
      "user 748 processed. 17 interactions.\n",
      "user 749 processed. 10 interactions.\n",
      "user 750 processed. 13 interactions.\n",
      "user 751 processed. 27 interactions.\n",
      "user 752 processed. 24 interactions.\n",
      "user 753 processed. 28 interactions.\n"
     ]
    },
    {
     "name": "stderr",
     "output_type": "stream",
     "text": [
      " 32%|█████████                   | 755/2346 [02:04<03:36,  7.36user/s]"
     ]
    },
    {
     "name": "stdout",
     "output_type": "stream",
     "text": [
      "user 754 processed. 393 interactions.\n",
      "user 755 processed. 149 interactions.\n",
      "user 756 processed. 13 interactions.\n"
     ]
    },
    {
     "name": "stderr",
     "output_type": "stream",
     "text": [
      " 32%|█████████                   | 759/2346 [02:04<02:30, 10.57user/s]"
     ]
    },
    {
     "name": "stdout",
     "output_type": "stream",
     "text": [
      "user 757 processed. 21 interactions.\n",
      "user 758 processed. 55 interactions.\n",
      "user 759 processed. 54 interactions.\n",
      "user 760 processed. 29 interactions.\n"
     ]
    },
    {
     "name": "stderr",
     "output_type": "stream",
     "text": [
      " 33%|█████████                   | 763/2346 [02:05<03:00,  8.79user/s]"
     ]
    },
    {
     "name": "stdout",
     "output_type": "stream",
     "text": [
      "user 761 processed. 419 interactions.\n",
      "user 762 processed. 87 interactions.\n",
      "user 763 processed. 16 interactions.\n"
     ]
    },
    {
     "name": "stderr",
     "output_type": "stream",
     "text": [
      " 33%|█████████▏                  | 769/2346 [02:05<02:04, 12.65user/s]"
     ]
    },
    {
     "name": "stdout",
     "output_type": "stream",
     "text": [
      "user 764 processed. 87 interactions.\n",
      "user 765 processed. 21 interactions.\n",
      "user 766 processed. 63 interactions.\n",
      "user 767 processed. 20 interactions.\n",
      "user 768 processed. 25 interactions.\n",
      "user 769 processed. 79 interactions.\n"
     ]
    },
    {
     "name": "stderr",
     "output_type": "stream",
     "text": [
      " 33%|█████████▏                  | 773/2346 [02:05<01:45, 14.93user/s]"
     ]
    },
    {
     "name": "stdout",
     "output_type": "stream",
     "text": [
      "user 770 processed. 23 interactions.\n",
      "user 771 processed. 30 interactions.\n",
      "user 772 processed. 22 interactions.\n",
      "user 773 processed. 75 interactions.\n",
      "user 774 processed. 24 interactions.\n"
     ]
    },
    {
     "name": "stderr",
     "output_type": "stream",
     "text": [
      " 33%|█████████▏                  | 775/2346 [02:05<01:47, 14.55user/s]"
     ]
    },
    {
     "name": "stdout",
     "output_type": "stream",
     "text": [
      "user 775 processed. 82 interactions.\n",
      "user 776 processed. 30 interactions.\n"
     ]
    },
    {
     "name": "stderr",
     "output_type": "stream",
     "text": [
      " 33%|█████████▎                  | 777/2346 [02:05<01:59, 13.18user/s]"
     ]
    },
    {
     "name": "stdout",
     "output_type": "stream",
     "text": [
      "user 777 processed. 119 interactions.\n"
     ]
    },
    {
     "name": "stderr",
     "output_type": "stream",
     "text": [
      " 33%|█████████▎                  | 779/2346 [02:06<02:55,  8.92user/s]"
     ]
    },
    {
     "name": "stdout",
     "output_type": "stream",
     "text": [
      "user 778 processed. 321 interactions.\n",
      "user 779 processed. 85 interactions.\n"
     ]
    },
    {
     "name": "stderr",
     "output_type": "stream",
     "text": [
      " 33%|█████████▎                  | 781/2346 [02:06<03:46,  6.92user/s]"
     ]
    },
    {
     "name": "stdout",
     "output_type": "stream",
     "text": [
      "user 780 processed. 388 interactions.\n",
      "user 781 processed. 25 interactions.\n",
      "user 782 processed. 10 interactions.\n"
     ]
    },
    {
     "name": "stderr",
     "output_type": "stream",
     "text": [
      " 33%|█████████▎                  | 783/2346 [02:07<03:42,  7.03user/s]"
     ]
    },
    {
     "name": "stdout",
     "output_type": "stream",
     "text": [
      "user 783 processed. 223 interactions.\n",
      "user 784 processed. 12 interactions.\n"
     ]
    },
    {
     "name": "stderr",
     "output_type": "stream",
     "text": [
      " 34%|█████████▍                  | 788/2346 [02:07<03:07,  8.30user/s]"
     ]
    },
    {
     "name": "stdout",
     "output_type": "stream",
     "text": [
      "user 785 processed. 301 interactions.\n",
      "user 786 processed. 12 interactions.\n",
      "user 787 processed. 13 interactions.\n",
      "user 788 processed. 88 interactions.\n",
      "user 789 processed. 65 interactions.\n"
     ]
    },
    {
     "name": "stderr",
     "output_type": "stream",
     "text": [
      " 34%|█████████▍                  | 790/2346 [02:08<04:59,  5.20user/s]"
     ]
    },
    {
     "name": "stdout",
     "output_type": "stream",
     "text": [
      "user 790 processed. 568 interactions.\n"
     ]
    },
    {
     "name": "stderr",
     "output_type": "stream",
     "text": [
      " 34%|█████████▌                  | 796/2346 [02:09<03:35,  7.20user/s]"
     ]
    },
    {
     "name": "stdout",
     "output_type": "stream",
     "text": [
      "user 791 processed. 539 interactions.\n",
      "user 792 processed. 34 interactions.\n",
      "user 793 processed. 27 interactions.\n",
      "user 794 processed. 19 interactions.\n",
      "user 795 processed. 23 interactions.\n",
      "user 796 processed. 31 interactions.\n",
      "user 797 processed. 52 interactions.\n"
     ]
    },
    {
     "name": "stderr",
     "output_type": "stream",
     "text": [
      " 34%|█████████▌                  | 798/2346 [02:09<03:11,  8.08user/s]"
     ]
    },
    {
     "name": "stdout",
     "output_type": "stream",
     "text": [
      "user 798 processed. 76 interactions.\n",
      "user 799 processed. 26 interactions.\n",
      "user 800 processed. 37 interactions.\n",
      "user 801 processed. 32 interactions.\n",
      "user 802 processed. 23 interactions.\n"
     ]
    },
    {
     "name": "stderr",
     "output_type": "stream",
     "text": [
      " 34%|█████████▌                  | 805/2346 [02:10<03:04,  8.35user/s]"
     ]
    },
    {
     "name": "stdout",
     "output_type": "stream",
     "text": [
      "user 803 processed. 452 interactions.\n",
      "user 804 processed. 111 interactions.\n",
      "user 805 processed. 19 interactions.\n",
      "user 806 processed. 15 interactions.\n",
      "user 807 processed. 40 interactions.\n",
      "user 808 processed. 28 interactions.\n"
     ]
    },
    {
     "name": "stderr",
     "output_type": "stream",
     "text": [
      " 35%|█████████▋                  | 810/2346 [02:10<01:59, 12.90user/s]"
     ]
    },
    {
     "name": "stdout",
     "output_type": "stream",
     "text": [
      "user 809 processed. 23 interactions.\n",
      "user 810 processed. 17 interactions.\n",
      "user 811 processed. 27 interactions.\n",
      "user 812 processed. 138 interactions.\n"
     ]
    },
    {
     "name": "stderr",
     "output_type": "stream",
     "text": [
      " 35%|█████████▊                  | 817/2346 [02:10<01:32, 16.51user/s]"
     ]
    },
    {
     "name": "stdout",
     "output_type": "stream",
     "text": [
      "user 813 processed. 30 interactions.\n",
      "user 814 processed. 58 interactions.\n",
      "user 815 processed. 10 interactions.\n",
      "user 816 processed. 16 interactions.\n",
      "user 817 processed. 55 interactions.\n",
      "user 818 processed. 25 interactions.\n",
      "user 819 processed. 22 interactions.\n",
      "user 820 processed. 11 interactions.\n"
     ]
    },
    {
     "name": "stderr",
     "output_type": "stream",
     "text": [
      " 35%|█████████▊                  | 823/2346 [02:11<01:55, 13.22user/s]"
     ]
    },
    {
     "name": "stdout",
     "output_type": "stream",
     "text": [
      "user 821 processed. 344 interactions.\n",
      "user 822 processed. 11 interactions.\n",
      "user 823 processed. 89 interactions.\n",
      "user 824 processed. 47 interactions.\n",
      "user 825 processed. 30 interactions.\n"
     ]
    },
    {
     "name": "stderr",
     "output_type": "stream",
     "text": [
      " 35%|█████████▉                  | 830/2346 [02:11<01:41, 14.91user/s]"
     ]
    },
    {
     "name": "stdout",
     "output_type": "stream",
     "text": [
      "user 826 processed. 140 interactions.\n",
      "user 827 processed. 12 interactions.\n",
      "user 828 processed. 12 interactions.\n",
      "user 829 processed. 24 interactions.\n",
      "user 830 processed. 100 interactions.\n"
     ]
    },
    {
     "name": "stderr",
     "output_type": "stream",
     "text": [
      " 36%|█████████▉                  | 833/2346 [02:11<01:39, 15.16user/s]"
     ]
    },
    {
     "name": "stdout",
     "output_type": "stream",
     "text": [
      "user 831 processed. 34 interactions.\n",
      "user 832 processed. 10 interactions.\n",
      "user 833 processed. 97 interactions.\n",
      "user 834 processed. 38 interactions.\n"
     ]
    },
    {
     "name": "stderr",
     "output_type": "stream",
     "text": [
      " 36%|█████████▉                  | 837/2346 [02:12<01:21, 18.48user/s]"
     ]
    },
    {
     "name": "stdout",
     "output_type": "stream",
     "text": [
      "user 835 processed. 32 interactions.\n",
      "user 836 processed. 10 interactions.\n",
      "user 837 processed. 53 interactions.\n"
     ]
    },
    {
     "name": "stderr",
     "output_type": "stream",
     "text": [
      " 36%|██████████                  | 846/2346 [02:12<01:29, 16.72user/s]"
     ]
    },
    {
     "name": "stdout",
     "output_type": "stream",
     "text": [
      "user 838 processed. 437 interactions.\n",
      "user 839 processed. 21 interactions.\n",
      "user 840 processed. 47 interactions.\n",
      "user 841 processed. 16 interactions.\n",
      "user 842 processed. 23 interactions.\n",
      "user 843 processed. 58 interactions.\n",
      "user 844 processed. 13 interactions.\n",
      "user 845 processed. 16 interactions.\n",
      "user 846 processed. 14 interactions.\n",
      "user 847 processed. 30 interactions.\n",
      "user 848 processed. 12 interactions.\n",
      "user 849 processed. 13 interactions.\n",
      "user 850 processed. 18 interactions.\n",
      "user 851 processed. 14 interactions.\n"
     ]
    },
    {
     "name": "stderr",
     "output_type": "stream",
     "text": [
      " 36%|██████████▏                 | 852/2346 [02:13<01:26, 17.17user/s]"
     ]
    },
    {
     "name": "stdout",
     "output_type": "stream",
     "text": [
      "user 852 processed. 240 interactions.\n",
      "user 853 processed. 15 interactions.\n",
      "user 854 processed. 112 interactions.\n"
     ]
    },
    {
     "name": "stderr",
     "output_type": "stream",
     "text": [
      " 37%|██████████▏                 | 858/2346 [02:13<01:25, 17.37user/s]"
     ]
    },
    {
     "name": "stdout",
     "output_type": "stream",
     "text": [
      "user 855 processed. 67 interactions.\n",
      "user 856 processed. 67 interactions.\n",
      "user 857 processed. 33 interactions.\n",
      "user 858 processed. 46 interactions.\n",
      "user 859 processed. 13 interactions.\n",
      "user 860 processed. 21 interactions.\n"
     ]
    },
    {
     "name": "stderr",
     "output_type": "stream",
     "text": [
      " 37%|██████████▎                 | 861/2346 [02:13<01:21, 18.17user/s]"
     ]
    },
    {
     "name": "stdout",
     "output_type": "stream",
     "text": [
      "user 861 processed. 29 interactions.\n",
      "user 862 processed. 194 interactions.\n",
      "user 863 processed. 132 interactions.\n"
     ]
    },
    {
     "name": "stderr",
     "output_type": "stream",
     "text": [
      " 37%|██████████▎                 | 864/2346 [02:14<03:13,  7.65user/s]"
     ]
    },
    {
     "name": "stdout",
     "output_type": "stream",
     "text": [
      "user 864 processed. 148 interactions.\n",
      "user 865 processed. 12 interactions.\n",
      "user 866 processed. 11 interactions.\n"
     ]
    },
    {
     "name": "stderr",
     "output_type": "stream",
     "text": [
      " 37%|██████████▎                 | 867/2346 [02:15<04:29,  5.50user/s]"
     ]
    },
    {
     "name": "stdout",
     "output_type": "stream",
     "text": [
      "user 867 processed. 500 interactions.\n",
      "user 868 processed. 55 interactions.\n",
      "user 869 processed. 10 interactions.\n"
     ]
    },
    {
     "name": "stderr",
     "output_type": "stream",
     "text": [
      " 37%|██████████▍                 | 870/2346 [02:15<03:59,  6.17user/s]"
     ]
    },
    {
     "name": "stdout",
     "output_type": "stream",
     "text": [
      "user 870 processed. 178 interactions.\n"
     ]
    },
    {
     "name": "stderr",
     "output_type": "stream",
     "text": [
      " 37%|██████████▍                 | 872/2346 [02:16<04:37,  5.32user/s]"
     ]
    },
    {
     "name": "stdout",
     "output_type": "stream",
     "text": [
      "user 871 processed. 410 interactions.\n",
      "user 872 processed. 79 interactions.\n",
      "user 873 processed. 10 interactions.\n",
      "user 874 processed. 12 interactions.\n",
      "user 875 processed. 10 interactions.\n"
     ]
    },
    {
     "name": "stderr",
     "output_type": "stream",
     "text": [
      " 37%|██████████▍                 | 876/2346 [02:16<03:36,  6.78user/s]"
     ]
    },
    {
     "name": "stdout",
     "output_type": "stream",
     "text": [
      "user 876 processed. 208 interactions.\n",
      "user 877 processed. 50 interactions.\n"
     ]
    },
    {
     "name": "stderr",
     "output_type": "stream",
     "text": [
      " 38%|██████████▌                 | 881/2346 [02:18<04:57,  4.92user/s]"
     ]
    },
    {
     "name": "stdout",
     "output_type": "stream",
     "text": [
      "user 878 processed. 899 interactions.\n",
      "user 879 processed. 16 interactions.\n",
      "user 880 processed. 80 interactions.\n",
      "user 881 processed. 11 interactions.\n",
      "user 882 processed. 10 interactions.\n",
      "user 883 processed. 28 interactions.\n",
      "user 884 processed. 15 interactions.\n",
      "user 885 processed. 14 interactions.\n"
     ]
    },
    {
     "name": "stderr",
     "output_type": "stream",
     "text": [
      " 38%|██████████▌                 | 886/2346 [02:20<06:39,  3.66user/s]"
     ]
    },
    {
     "name": "stdout",
     "output_type": "stream",
     "text": [
      "user 886 processed. 1021 interactions.\n",
      "user 887 processed. 63 interactions.\n",
      "user 888 processed. 10 interactions.\n"
     ]
    },
    {
     "name": "stderr",
     "output_type": "stream",
     "text": [
      " 38%|██████████▌                 | 890/2346 [02:21<06:53,  3.52user/s]"
     ]
    },
    {
     "name": "stdout",
     "output_type": "stream",
     "text": [
      "user 889 processed. 689 interactions.\n",
      "user 890 processed. 119 interactions.\n",
      "user 891 processed. 48 interactions.\n",
      "user 892 processed. 24 interactions.\n"
     ]
    },
    {
     "name": "stderr",
     "output_type": "stream",
     "text": [
      " 38%|██████████▋                 | 893/2346 [02:21<05:25,  4.46user/s]"
     ]
    },
    {
     "name": "stdout",
     "output_type": "stream",
     "text": [
      "user 893 processed. 181 interactions.\n",
      "user 894 processed. 22 interactions.\n"
     ]
    },
    {
     "name": "stderr",
     "output_type": "stream",
     "text": [
      " 38%|██████████▋                 | 895/2346 [02:22<06:04,  3.98user/s]"
     ]
    },
    {
     "name": "stdout",
     "output_type": "stream",
     "text": [
      "user 895 processed. 488 interactions.\n"
     ]
    },
    {
     "name": "stderr",
     "output_type": "stream",
     "text": [
      " 38%|██████████▋                 | 900/2346 [02:22<03:31,  6.84user/s]"
     ]
    },
    {
     "name": "stdout",
     "output_type": "stream",
     "text": [
      "user 896 processed. 182 interactions.\n",
      "user 897 processed. 15 interactions.\n",
      "user 898 processed. 46 interactions.\n",
      "user 899 processed. 37 interactions.\n",
      "user 900 processed. 22 interactions.\n",
      "user 901 processed. 44 interactions.\n",
      "user 902 processed. 33 interactions.\n",
      "user 903 processed. 13 interactions.\n",
      "user 904 processed. 17 interactions.\n"
     ]
    },
    {
     "name": "stderr",
     "output_type": "stream",
     "text": [
      " 39%|██████████▊                 | 906/2346 [02:23<02:18, 10.38user/s]"
     ]
    },
    {
     "name": "stdout",
     "output_type": "stream",
     "text": [
      "user 905 processed. 14 interactions.\n",
      "user 906 processed. 153 interactions.\n",
      "user 907 processed. 17 interactions.\n",
      "user 908 processed. 34 interactions.\n"
     ]
    },
    {
     "name": "stderr",
     "output_type": "stream",
     "text": [
      " 39%|██████████▊                 | 909/2346 [02:23<02:29,  9.62user/s]"
     ]
    },
    {
     "name": "stdout",
     "output_type": "stream",
     "text": [
      "user 909 processed. 300 interactions.\n",
      "user 910 processed. 36 interactions.\n",
      "user 911 processed. 24 interactions.\n"
     ]
    },
    {
     "name": "stderr",
     "output_type": "stream",
     "text": [
      " 39%|██████████▉                 | 914/2346 [02:24<03:20,  7.13user/s]"
     ]
    },
    {
     "name": "stdout",
     "output_type": "stream",
     "text": [
      "user 912 processed. 616 interactions.\n",
      "user 913 processed. 113 interactions.\n",
      "user 914 processed. 12 interactions.\n",
      "user 915 processed. 24 interactions.\n"
     ]
    },
    {
     "name": "stderr",
     "output_type": "stream",
     "text": [
      " 39%|██████████▉                 | 921/2346 [02:24<01:49, 13.03user/s]"
     ]
    },
    {
     "name": "stdout",
     "output_type": "stream",
     "text": [
      "user 916 processed. 78 interactions.\n",
      "user 917 processed. 32 interactions.\n",
      "user 918 processed. 10 interactions.\n",
      "user 919 processed. 10 interactions.\n",
      "user 920 processed. 54 interactions.\n",
      "user 921 processed. 28 interactions.\n",
      "user 922 processed. 11 interactions.\n",
      "user 923 processed. 15 interactions.\n"
     ]
    },
    {
     "name": "stderr",
     "output_type": "stream",
     "text": [
      " 39%|███████████                 | 924/2346 [02:25<02:23,  9.91user/s]"
     ]
    },
    {
     "name": "stdout",
     "output_type": "stream",
     "text": [
      "user 924 processed. 386 interactions.\n",
      "user 925 processed. 19 interactions.\n",
      "user 926 processed. 29 interactions.\n"
     ]
    },
    {
     "name": "stderr",
     "output_type": "stream",
     "text": [
      " 40%|███████████                 | 927/2346 [02:25<02:10, 10.91user/s]"
     ]
    },
    {
     "name": "stdout",
     "output_type": "stream",
     "text": [
      "user 927 processed. 152 interactions.\n"
     ]
    },
    {
     "name": "stderr",
     "output_type": "stream",
     "text": [
      " 40%|███████████                 | 929/2346 [02:25<02:55,  8.08user/s]"
     ]
    },
    {
     "name": "stdout",
     "output_type": "stream",
     "text": [
      "user 928 processed. 340 interactions.\n",
      "user 929 processed. 11 interactions.\n",
      "user 930 processed. 34 interactions.\n"
     ]
    },
    {
     "name": "stderr",
     "output_type": "stream",
     "text": [
      " 40%|███████████                 | 931/2346 [02:27<06:54,  3.41user/s]"
     ]
    },
    {
     "name": "stdout",
     "output_type": "stream",
     "text": [
      "user 931 processed. 1077 interactions.\n",
      "user 932 processed. 11 interactions.\n",
      "user 933 processed. 44 interactions.\n"
     ]
    },
    {
     "name": "stderr",
     "output_type": "stream",
     "text": [
      " 40%|███████████▏                | 935/2346 [02:29<07:30,  3.13user/s]"
     ]
    },
    {
     "name": "stdout",
     "output_type": "stream",
     "text": [
      "user 934 processed. 903 interactions.\n",
      "user 935 processed. 127 interactions.\n",
      "user 936 processed. 13 interactions.\n",
      "user 937 processed. 24 interactions.\n"
     ]
    },
    {
     "name": "stderr",
     "output_type": "stream",
     "text": [
      " 40%|███████████▏                | 942/2346 [02:29<03:24,  6.88user/s]"
     ]
    },
    {
     "name": "stdout",
     "output_type": "stream",
     "text": [
      "user 938 processed. 117 interactions.\n",
      "user 939 processed. 17 interactions.\n",
      "user 940 processed. 11 interactions.\n",
      "user 941 processed. 10 interactions.\n",
      "user 942 processed. 95 interactions.\n"
     ]
    },
    {
     "name": "stderr",
     "output_type": "stream",
     "text": [
      " 40%|███████████▎                | 944/2346 [02:29<03:18,  7.07user/s]"
     ]
    },
    {
     "name": "stdout",
     "output_type": "stream",
     "text": [
      "user 943 processed. 106 interactions.\n",
      "user 944 processed. 52 interactions.\n",
      "user 945 processed. 79 interactions.\n"
     ]
    },
    {
     "name": "stderr",
     "output_type": "stream",
     "text": [
      " 40%|███████████▎                | 946/2346 [02:29<02:57,  7.90user/s]"
     ]
    },
    {
     "name": "stdout",
     "output_type": "stream",
     "text": [
      "user 946 processed. 16 interactions.\n",
      "user 947 processed. 38 interactions.\n",
      "user 948 processed. 13 interactions.\n"
     ]
    },
    {
     "name": "stderr",
     "output_type": "stream",
     "text": [
      " 40%|███████████▎                | 949/2346 [02:31<06:08,  3.79user/s]"
     ]
    },
    {
     "name": "stdout",
     "output_type": "stream",
     "text": [
      "user 949 processed. 596 interactions.\n",
      "user 950 processed. 17 interactions.\n"
     ]
    },
    {
     "name": "stderr",
     "output_type": "stream",
     "text": [
      " 41%|███████████▍                | 955/2346 [02:33<06:57,  3.33user/s]"
     ]
    },
    {
     "name": "stdout",
     "output_type": "stream",
     "text": [
      "user 951 processed. 1339 interactions.\n",
      "user 952 processed. 11 interactions.\n",
      "user 953 processed. 14 interactions.\n",
      "user 954 processed. 41 interactions.\n",
      "user 955 processed. 77 interactions.\n",
      "user 956 processed. 10 interactions.\n"
     ]
    },
    {
     "name": "stderr",
     "output_type": "stream",
     "text": [
      " 41%|███████████▍                | 957/2346 [02:35<10:18,  2.24user/s]"
     ]
    },
    {
     "name": "stdout",
     "output_type": "stream",
     "text": [
      "user 957 processed. 1188 interactions.\n",
      "user 958 processed. 25 interactions.\n"
     ]
    },
    {
     "name": "stderr",
     "output_type": "stream",
     "text": [
      " 41%|███████████▍                | 959/2346 [02:36<08:38,  2.68user/s]"
     ]
    },
    {
     "name": "stdout",
     "output_type": "stream",
     "text": [
      "user 959 processed. 180 interactions.\n",
      "user 960 processed. 10 interactions.\n"
     ]
    },
    {
     "name": "stderr",
     "output_type": "stream",
     "text": [
      " 41%|███████████▍                | 961/2346 [02:36<08:13,  2.80user/s]"
     ]
    },
    {
     "name": "stdout",
     "output_type": "stream",
     "text": [
      "user 961 processed. 475 interactions.\n",
      "user 962 processed. 16 interactions.\n",
      "user 963 processed. 21 interactions.\n",
      "user 964 processed. 10 interactions.\n",
      "user 965 processed. 13 interactions.\n",
      "user 966 processed. 49 interactions.\n"
     ]
    },
    {
     "name": "stderr",
     "output_type": "stream",
     "text": [
      " 41%|███████████▌                | 969/2346 [02:37<04:37,  4.97user/s]"
     ]
    },
    {
     "name": "stdout",
     "output_type": "stream",
     "text": [
      "user 967 processed. 557 interactions.\n",
      "user 968 processed. 66 interactions.\n",
      "user 969 processed. 43 interactions.\n",
      "user 970 processed. 20 interactions.\n"
     ]
    },
    {
     "name": "stderr",
     "output_type": "stream",
     "text": [
      " 42%|███████████▋                | 976/2346 [02:38<03:49,  5.98user/s]"
     ]
    },
    {
     "name": "stdout",
     "output_type": "stream",
     "text": [
      "user 971 processed. 748 interactions.\n",
      "user 972 processed. 10 interactions.\n",
      "user 973 processed. 12 interactions.\n",
      "user 974 processed. 12 interactions.\n",
      "user 975 processed. 55 interactions.\n",
      "user 976 processed. 13 interactions.\n",
      "user 977 processed. 12 interactions.\n",
      "user 978 processed. 11 interactions.\n",
      "user 979 processed. 10 interactions.\n",
      "user 980 processed. 11 interactions.\n"
     ]
    },
    {
     "name": "stderr",
     "output_type": "stream",
     "text": [
      " 42%|███████████▋                | 984/2346 [02:39<02:12, 10.26user/s]"
     ]
    },
    {
     "name": "stdout",
     "output_type": "stream",
     "text": [
      "user 981 processed. 76 interactions.\n",
      "user 982 processed. 16 interactions.\n",
      "user 983 processed. 114 interactions.\n",
      "user 984 processed. 22 interactions.\n",
      "user 985 processed. 18 interactions.\n",
      "user 986 processed. 12 interactions.\n"
     ]
    },
    {
     "name": "stderr",
     "output_type": "stream",
     "text": [
      " 42%|███████████▊                | 987/2346 [02:39<02:00, 11.32user/s]"
     ]
    },
    {
     "name": "stdout",
     "output_type": "stream",
     "text": [
      "user 987 processed. 120 interactions.\n",
      "user 988 processed. 55 interactions.\n"
     ]
    },
    {
     "name": "stderr",
     "output_type": "stream",
     "text": [
      " 42%|███████████▊                | 992/2346 [02:40<02:31,  8.96user/s]"
     ]
    },
    {
     "name": "stdout",
     "output_type": "stream",
     "text": [
      "user 989 processed. 400 interactions.\n",
      "user 990 processed. 18 interactions.\n",
      "user 991 processed. 113 interactions.\n",
      "user 992 processed. 21 interactions.\n",
      "user 993 processed. 13 interactions.\n",
      "user 994 processed. 46 interactions.\n",
      "user 995 processed. 28 interactions.\n"
     ]
    },
    {
     "name": "stderr",
     "output_type": "stream",
     "text": [
      " 43%|███████████▌               | 1000/2346 [02:40<01:44, 12.85user/s]"
     ]
    },
    {
     "name": "stdout",
     "output_type": "stream",
     "text": [
      "user 996 processed. 162 interactions.\n",
      "user 997 processed. 30 interactions.\n",
      "user 998 processed. 13 interactions.\n",
      "user 999 processed. 18 interactions.\n",
      "user 1000 processed. 106 interactions.\n",
      "user 1001 processed. 19 interactions.\n"
     ]
    },
    {
     "name": "stderr",
     "output_type": "stream",
     "text": [
      " 43%|███████████▌               | 1003/2346 [02:40<01:41, 13.28user/s]"
     ]
    },
    {
     "name": "stdout",
     "output_type": "stream",
     "text": [
      "user 1002 processed. 17 interactions.\n",
      "user 1003 processed. 155 interactions.\n",
      "user 1004 processed. 47 interactions.\n",
      "user 1005 processed. 11 interactions.\n",
      "user 1006 processed. 13 interactions.\n"
     ]
    },
    {
     "name": "stderr",
     "output_type": "stream",
     "text": [
      " 43%|███████████▌               | 1010/2346 [02:41<01:46, 12.49user/s]"
     ]
    },
    {
     "name": "stdout",
     "output_type": "stream",
     "text": [
      "user 1007 processed. 374 interactions.\n",
      "user 1008 processed. 69 interactions.\n",
      "user 1009 processed. 19 interactions.\n",
      "user 1010 processed. 52 interactions.\n",
      "user 1011 processed. 10 interactions.\n",
      "user 1012 processed. 14 interactions.\n"
     ]
    },
    {
     "name": "stderr",
     "output_type": "stream",
     "text": [
      " 43%|███████████▋               | 1016/2346 [02:41<01:31, 14.54user/s]"
     ]
    },
    {
     "name": "stdout",
     "output_type": "stream",
     "text": [
      "user 1013 processed. 166 interactions.\n",
      "user 1014 processed. 11 interactions.\n",
      "user 1015 processed. 68 interactions.\n",
      "user 1016 processed. 49 interactions.\n",
      "user 1017 processed. 12 interactions.\n"
     ]
    },
    {
     "name": "stderr",
     "output_type": "stream",
     "text": [
      " 43%|███████████▋               | 1018/2346 [02:41<01:33, 14.26user/s]"
     ]
    },
    {
     "name": "stdout",
     "output_type": "stream",
     "text": [
      "user 1018 processed. 108 interactions.\n"
     ]
    },
    {
     "name": "stderr",
     "output_type": "stream",
     "text": [
      " 43%|███████████▋               | 1020/2346 [02:42<03:51,  5.73user/s]"
     ]
    },
    {
     "name": "stdout",
     "output_type": "stream",
     "text": [
      "user 1019 processed. 706 interactions.\n",
      "user 1020 processed. 27 interactions.\n",
      "user 1021 processed. 33 interactions.\n",
      "user 1022 processed. 43 interactions.\n"
     ]
    },
    {
     "name": "stderr",
     "output_type": "stream",
     "text": [
      " 44%|███████████▊               | 1023/2346 [02:43<03:03,  7.20user/s]"
     ]
    },
    {
     "name": "stdout",
     "output_type": "stream",
     "text": [
      "user 1023 processed. 96 interactions.\n"
     ]
    },
    {
     "name": "stderr",
     "output_type": "stream",
     "text": [
      " 44%|███████████▊               | 1025/2346 [02:43<03:37,  6.06user/s]"
     ]
    },
    {
     "name": "stdout",
     "output_type": "stream",
     "text": [
      "user 1024 processed. 367 interactions.\n",
      "user 1025 processed. 45 interactions.\n",
      "user 1026 processed. 13 interactions.\n"
     ]
    },
    {
     "name": "stderr",
     "output_type": "stream",
     "text": [
      " 44%|███████████▉               | 1032/2346 [02:44<02:33,  8.56user/s]"
     ]
    },
    {
     "name": "stdout",
     "output_type": "stream",
     "text": [
      "user 1027 processed. 452 interactions.\n",
      "user 1028 processed. 37 interactions.\n",
      "user 1029 processed. 10 interactions.\n",
      "user 1030 processed. 18 interactions.\n",
      "user 1031 processed. 36 interactions.\n",
      "user 1032 processed. 17 interactions.\n",
      "user 1033 processed. 34 interactions.\n",
      "user 1034 processed. 35 interactions.\n"
     ]
    },
    {
     "name": "stderr",
     "output_type": "stream",
     "text": [
      " 44%|███████████▉               | 1035/2346 [02:44<02:44,  7.96user/s]"
     ]
    },
    {
     "name": "stdout",
     "output_type": "stream",
     "text": [
      "user 1035 processed. 326 interactions.\n"
     ]
    },
    {
     "name": "stderr",
     "output_type": "stream",
     "text": [
      " 44%|███████████▉               | 1041/2346 [02:46<03:23,  6.41user/s]"
     ]
    },
    {
     "name": "stdout",
     "output_type": "stream",
     "text": [
      "user 1036 processed. 694 interactions.\n",
      "user 1037 processed. 14 interactions.\n",
      "user 1038 processed. 21 interactions.\n",
      "user 1039 processed. 26 interactions.\n",
      "user 1040 processed. 10 interactions.\n",
      "user 1041 processed. 41 interactions.\n"
     ]
    },
    {
     "name": "stderr",
     "output_type": "stream",
     "text": [
      " 45%|████████████               | 1044/2346 [02:46<02:37,  8.25user/s]"
     ]
    },
    {
     "name": "stdout",
     "output_type": "stream",
     "text": [
      "user 1042 processed. 38 interactions.\n",
      "user 1043 processed. 13 interactions.\n",
      "user 1044 processed. 28 interactions.\n"
     ]
    },
    {
     "name": "stderr",
     "output_type": "stream",
     "text": [
      " 45%|████████████               | 1047/2346 [02:47<03:23,  6.37user/s]"
     ]
    },
    {
     "name": "stdout",
     "output_type": "stream",
     "text": [
      "user 1045 processed. 373 interactions.\n",
      "user 1046 processed. 19 interactions.\n",
      "user 1047 processed. 30 interactions.\n"
     ]
    },
    {
     "name": "stderr",
     "output_type": "stream",
     "text": [
      " 45%|████████████               | 1049/2346 [02:48<05:00,  4.31user/s]"
     ]
    },
    {
     "name": "stdout",
     "output_type": "stream",
     "text": [
      "user 1048 processed. 581 interactions.\n",
      "user 1049 processed. 130 interactions.\n",
      "user 1050 processed. 35 interactions.\n"
     ]
    },
    {
     "name": "stderr",
     "output_type": "stream",
     "text": [
      " 45%|████████████               | 1052/2346 [02:48<03:41,  5.84user/s]"
     ]
    },
    {
     "name": "stdout",
     "output_type": "stream",
     "text": [
      "user 1051 processed. 47 interactions.\n",
      "user 1052 processed. 49 interactions.\n",
      "user 1053 processed. 817 interactions.\n"
     ]
    },
    {
     "name": "stderr",
     "output_type": "stream",
     "text": [
      " 45%|████████████▏              | 1054/2346 [02:49<06:01,  3.58user/s]"
     ]
    },
    {
     "name": "stdout",
     "output_type": "stream",
     "text": [
      "user 1054 processed. 187 interactions.\n",
      "user 1055 processed. 164 interactions.\n"
     ]
    },
    {
     "name": "stderr",
     "output_type": "stream",
     "text": [
      " 45%|████████████▏              | 1056/2346 [02:49<05:06,  4.21user/s]"
     ]
    },
    {
     "name": "stdout",
     "output_type": "stream",
     "text": [
      "user 1056 processed. 29 interactions.\n",
      "user 1057 processed. 17 interactions.\n"
     ]
    },
    {
     "name": "stderr",
     "output_type": "stream",
     "text": [
      " 45%|████████████▏              | 1058/2346 [02:49<04:40,  4.59user/s]"
     ]
    },
    {
     "name": "stdout",
     "output_type": "stream",
     "text": [
      "user 1058 processed. 255 interactions.\n",
      "user 1059 processed. 14 interactions.\n"
     ]
    },
    {
     "name": "stderr",
     "output_type": "stream",
     "text": [
      " 45%|████████████▏              | 1060/2346 [02:50<04:02,  5.31user/s]"
     ]
    },
    {
     "name": "stdout",
     "output_type": "stream",
     "text": [
      "user 1060 processed. 161 interactions.\n"
     ]
    },
    {
     "name": "stderr",
     "output_type": "stream",
     "text": [
      " 45%|████████████▏              | 1064/2346 [02:51<04:43,  4.52user/s]"
     ]
    },
    {
     "name": "stdout",
     "output_type": "stream",
     "text": [
      "user 1061 processed. 731 interactions.\n",
      "user 1062 processed. 24 interactions.\n",
      "user 1063 processed. 17 interactions.\n",
      "user 1064 processed. 97 interactions.\n",
      "user 1065 processed. 10 interactions.\n",
      "user 1066 processed. 21 interactions.\n",
      "user 1067 processed. 17 interactions.\n"
     ]
    },
    {
     "name": "stderr",
     "output_type": "stream",
     "text": [
      " 46%|████████████▎              | 1068/2346 [02:51<03:05,  6.90user/s]"
     ]
    },
    {
     "name": "stdout",
     "output_type": "stream",
     "text": [
      "user 1068 processed. 116 interactions.\n",
      "user 1069 processed. 11 interactions.\n",
      "user 1070 processed. 16 interactions.\n",
      "user 1071 processed. 16 interactions.\n",
      "user 1072 processed. 16 interactions.\n"
     ]
    },
    {
     "name": "stderr",
     "output_type": "stream",
     "text": [
      " 46%|████████████▍              | 1076/2346 [02:52<03:02,  6.95user/s]"
     ]
    },
    {
     "name": "stdout",
     "output_type": "stream",
     "text": [
      "user 1073 processed. 755 interactions.\n",
      "user 1074 processed. 27 interactions.\n",
      "user 1075 processed. 34 interactions.\n",
      "user 1076 processed. 93 interactions.\n",
      "user 1077 processed. 10 interactions.\n"
     ]
    },
    {
     "name": "stderr",
     "output_type": "stream",
     "text": [
      " 46%|████████████▍              | 1078/2346 [02:53<03:20,  6.33user/s]"
     ]
    },
    {
     "name": "stdout",
     "output_type": "stream",
     "text": [
      "user 1078 processed. 311 interactions.\n",
      "user 1079 processed. 15 interactions.\n"
     ]
    },
    {
     "name": "stderr",
     "output_type": "stream",
     "text": [
      " 46%|████████████▍              | 1083/2346 [02:53<02:40,  7.88user/s]"
     ]
    },
    {
     "name": "stdout",
     "output_type": "stream",
     "text": [
      "user 1080 processed. 254 interactions.\n",
      "user 1081 processed. 19 interactions.\n",
      "user 1082 processed. 14 interactions.\n",
      "user 1083 processed. 134 interactions.\n"
     ]
    },
    {
     "name": "stderr",
     "output_type": "stream",
     "text": [
      " 46%|████████████▌              | 1087/2346 [02:54<02:03, 10.23user/s]"
     ]
    },
    {
     "name": "stdout",
     "output_type": "stream",
     "text": [
      "user 1084 processed. 15 interactions.\n",
      "user 1085 processed. 63 interactions.\n",
      "user 1086 processed. 13 interactions.\n",
      "user 1087 processed. 79 interactions.\n"
     ]
    },
    {
     "name": "stderr",
     "output_type": "stream",
     "text": [
      " 46%|████████████▌              | 1090/2346 [02:54<01:40, 12.51user/s]"
     ]
    },
    {
     "name": "stdout",
     "output_type": "stream",
     "text": [
      "user 1088 processed. 22 interactions.\n",
      "user 1089 processed. 21 interactions.\n",
      "user 1090 processed. 13 interactions.\n"
     ]
    },
    {
     "name": "stderr",
     "output_type": "stream",
     "text": [
      " 47%|████████████▌              | 1092/2346 [02:54<01:39, 12.54user/s]"
     ]
    },
    {
     "name": "stdout",
     "output_type": "stream",
     "text": [
      "user 1091 processed. 101 interactions.\n",
      "user 1092 processed. 11 interactions.\n",
      "user 1093 processed. 11 interactions.\n",
      "user 1094 processed. 11 interactions.\n"
     ]
    },
    {
     "name": "stderr",
     "output_type": "stream",
     "text": [
      " 47%|████████████▋              | 1099/2346 [02:54<01:32, 13.46user/s]"
     ]
    },
    {
     "name": "stdout",
     "output_type": "stream",
     "text": [
      "user 1095 processed. 349 interactions.\n",
      "user 1096 processed. 29 interactions.\n",
      "user 1097 processed. 30 interactions.\n",
      "user 1098 processed. 29 interactions.\n",
      "user 1099 processed. 63 interactions.\n"
     ]
    },
    {
     "name": "stderr",
     "output_type": "stream",
     "text": [
      " 47%|████████████▋              | 1101/2346 [02:55<02:05,  9.91user/s]"
     ]
    },
    {
     "name": "stdout",
     "output_type": "stream",
     "text": [
      "user 1100 processed. 243 interactions.\n",
      "user 1101 processed. 105 interactions.\n",
      "user 1102 processed. 21 interactions.\n"
     ]
    },
    {
     "name": "stderr",
     "output_type": "stream",
     "text": [
      " 47%|████████████▋              | 1105/2346 [02:56<02:57,  7.00user/s]"
     ]
    },
    {
     "name": "stdout",
     "output_type": "stream",
     "text": [
      "user 1103 processed. 522 interactions.\n",
      "user 1104 processed. 18 interactions.\n",
      "user 1105 processed. 114 interactions.\n",
      "user 1106 processed. 30 interactions.\n",
      "user 1107 processed. 12 interactions.\n"
     ]
    },
    {
     "name": "stderr",
     "output_type": "stream",
     "text": [
      " 47%|████████████▊              | 1109/2346 [02:57<04:18,  4.79user/s]"
     ]
    },
    {
     "name": "stdout",
     "output_type": "stream",
     "text": [
      "user 1108 processed. 832 interactions.\n",
      "user 1109 processed. 112 interactions.\n"
     ]
    },
    {
     "name": "stderr",
     "output_type": "stream",
     "text": [
      " 47%|████████████▊              | 1113/2346 [02:57<02:47,  7.34user/s]"
     ]
    },
    {
     "name": "stdout",
     "output_type": "stream",
     "text": [
      "user 1110 processed. 96 interactions.\n",
      "user 1111 processed. 47 interactions.\n",
      "user 1112 processed. 26 interactions.\n",
      "user 1113 processed. 87 interactions.\n",
      "user 1114 processed. 30 interactions.\n",
      "user 1115 processed. 14 interactions.\n"
     ]
    },
    {
     "name": "stderr",
     "output_type": "stream",
     "text": [
      " 48%|████████████▊              | 1116/2346 [02:58<04:14,  4.84user/s]"
     ]
    },
    {
     "name": "stdout",
     "output_type": "stream",
     "text": [
      "user 1116 processed. 713 interactions.\n",
      "user 1117 processed. 57 interactions.\n",
      "user 1118 processed. 13 interactions.\n"
     ]
    },
    {
     "name": "stderr",
     "output_type": "stream",
     "text": [
      " 48%|████████████▉              | 1125/2346 [02:59<02:05,  9.70user/s]"
     ]
    },
    {
     "name": "stdout",
     "output_type": "stream",
     "text": [
      "user 1119 processed. 357 interactions.\n",
      "user 1120 processed. 12 interactions.\n",
      "user 1121 processed. 32 interactions.\n",
      "user 1122 processed. 19 interactions.\n",
      "user 1123 processed. 26 interactions.\n",
      "user 1124 processed. 11 interactions.\n",
      "user 1125 processed. 22 interactions.\n",
      "user 1126 processed. 80 interactions.\n"
     ]
    },
    {
     "name": "stderr",
     "output_type": "stream",
     "text": [
      " 48%|████████████▉              | 1128/2346 [02:59<01:56, 10.49user/s]"
     ]
    },
    {
     "name": "stdout",
     "output_type": "stream",
     "text": [
      "user 1127 processed. 100 interactions.\n",
      "user 1128 processed. 29 interactions.\n"
     ]
    },
    {
     "name": "stderr",
     "output_type": "stream",
     "text": [
      " 48%|█████████████              | 1130/2346 [03:00<02:40,  7.59user/s]"
     ]
    },
    {
     "name": "stdout",
     "output_type": "stream",
     "text": [
      "user 1129 processed. 368 interactions.\n",
      "user 1130 processed. 70 interactions.\n",
      "user 1131 processed. 11 interactions.\n",
      "user 1132 processed. 23 interactions.\n"
     ]
    },
    {
     "name": "stderr",
     "output_type": "stream",
     "text": [
      " 48%|█████████████              | 1133/2346 [03:08<18:53,  1.07user/s]"
     ]
    },
    {
     "name": "stdout",
     "output_type": "stream",
     "text": [
      "user 1133 processed. 2949 interactions.\n",
      "user 1134 processed. 48 interactions.\n"
     ]
    },
    {
     "name": "stderr",
     "output_type": "stream",
     "text": [
      " 48%|█████████████              | 1136/2346 [03:08<13:26,  1.50user/s]"
     ]
    },
    {
     "name": "stdout",
     "output_type": "stream",
     "text": [
      "user 1135 processed. 114 interactions.\n",
      "user 1136 processed. 71 interactions.\n",
      "user 1137 processed. 61 interactions.\n"
     ]
    },
    {
     "name": "stderr",
     "output_type": "stream",
     "text": [
      " 49%|█████████████              | 1139/2346 [03:08<08:46,  2.29user/s]"
     ]
    },
    {
     "name": "stdout",
     "output_type": "stream",
     "text": [
      "user 1138 processed. 33 interactions.\n",
      "user 1139 processed. 36 interactions.\n",
      "user 1140 processed. 12 interactions.\n",
      "user 1141 processed. 14 interactions.\n"
     ]
    },
    {
     "name": "stderr",
     "output_type": "stream",
     "text": [
      " 49%|█████████████▏             | 1142/2346 [03:09<06:30,  3.08user/s]"
     ]
    },
    {
     "name": "stdout",
     "output_type": "stream",
     "text": [
      "user 1142 processed. 263 interactions.\n",
      "user 1143 processed. 96 interactions.\n"
     ]
    },
    {
     "name": "stderr",
     "output_type": "stream",
     "text": [
      " 49%|█████████████▏             | 1146/2346 [03:09<04:23,  4.56user/s]"
     ]
    },
    {
     "name": "stdout",
     "output_type": "stream",
     "text": [
      "user 1144 processed. 67 interactions.\n",
      "user 1145 processed. 108 interactions.\n",
      "user 1146 processed. 11 interactions.\n",
      "user 1147 processed. 16 interactions.\n"
     ]
    },
    {
     "name": "stderr",
     "output_type": "stream",
     "text": [
      " 49%|█████████████▏             | 1150/2346 [03:10<04:54,  4.06user/s]"
     ]
    },
    {
     "name": "stdout",
     "output_type": "stream",
     "text": [
      "user 1148 processed. 813 interactions.\n",
      "user 1149 processed. 53 interactions.\n",
      "user 1150 processed. 23 interactions.\n",
      "user 1151 processed. 12 interactions.\n",
      "user 1152 processed. 40 interactions.\n"
     ]
    },
    {
     "name": "stderr",
     "output_type": "stream",
     "text": [
      " 49%|█████████████▎             | 1153/2346 [03:11<03:24,  5.83user/s]"
     ]
    },
    {
     "name": "stdout",
     "output_type": "stream",
     "text": [
      "user 1153 processed. 78 interactions.\n"
     ]
    },
    {
     "name": "stderr",
     "output_type": "stream",
     "text": [
      " 49%|█████████████▎             | 1155/2346 [03:11<03:39,  5.41user/s]"
     ]
    },
    {
     "name": "stdout",
     "output_type": "stream",
     "text": [
      "user 1154 processed. 356 interactions.\n",
      "user 1155 processed. 14 interactions.\n",
      "user 1156 processed. 36 interactions.\n"
     ]
    },
    {
     "name": "stderr",
     "output_type": "stream",
     "text": [
      " 49%|█████████████▎             | 1157/2346 [03:11<03:14,  6.11user/s]"
     ]
    },
    {
     "name": "stdout",
     "output_type": "stream",
     "text": [
      "user 1157 processed. 125 interactions.\n",
      "user 1158 processed. 13 interactions.\n"
     ]
    },
    {
     "name": "stderr",
     "output_type": "stream",
     "text": [
      " 50%|█████████████▍             | 1164/2346 [03:12<01:41, 11.65user/s]"
     ]
    },
    {
     "name": "stdout",
     "output_type": "stream",
     "text": [
      "user 1159 processed. 138 interactions.\n",
      "user 1160 processed. 10 interactions.\n",
      "user 1161 processed. 13 interactions.\n",
      "user 1162 processed. 21 interactions.\n",
      "user 1163 processed. 33 interactions.\n",
      "user 1164 processed. 47 interactions.\n",
      "user 1165 processed. 12 interactions.\n",
      "user 1166 processed. 17 interactions.\n"
     ]
    },
    {
     "name": "stderr",
     "output_type": "stream",
     "text": [
      " 50%|█████████████▍             | 1167/2346 [03:12<01:35, 12.40user/s]"
     ]
    },
    {
     "name": "stdout",
     "output_type": "stream",
     "text": [
      "user 1167 processed. 143 interactions.\n"
     ]
    },
    {
     "name": "stderr",
     "output_type": "stream",
     "text": [
      " 50%|█████████████▍             | 1172/2346 [03:12<01:50, 10.63user/s]"
     ]
    },
    {
     "name": "stdout",
     "output_type": "stream",
     "text": [
      "user 1168 processed. 353 interactions.\n",
      "user 1169 processed. 26 interactions.\n",
      "user 1170 processed. 33 interactions.\n",
      "user 1171 processed. 33 interactions.\n",
      "user 1172 processed. 34 interactions.\n",
      "user 1173 processed. 45 interactions.\n"
     ]
    },
    {
     "name": "stderr",
     "output_type": "stream",
     "text": [
      " 50%|█████████████▌             | 1175/2346 [03:13<01:30, 12.87user/s]"
     ]
    },
    {
     "name": "stdout",
     "output_type": "stream",
     "text": [
      "user 1174 processed. 63 interactions.\n",
      "user 1175 processed. 29 interactions.\n",
      "user 1176 processed. 24 interactions.\n"
     ]
    },
    {
     "name": "stderr",
     "output_type": "stream",
     "text": [
      " 50%|█████████████▌             | 1177/2346 [03:13<01:46, 11.02user/s]"
     ]
    },
    {
     "name": "stdout",
     "output_type": "stream",
     "text": [
      "user 1177 processed. 201 interactions.\n"
     ]
    },
    {
     "name": "stderr",
     "output_type": "stream",
     "text": [
      " 50%|█████████████▌             | 1179/2346 [03:13<02:00,  9.68user/s]"
     ]
    },
    {
     "name": "stdout",
     "output_type": "stream",
     "text": [
      "user 1178 processed. 212 interactions.\n",
      "user 1179 processed. 28 interactions.\n",
      "user 1180 processed. 124 interactions.\n"
     ]
    },
    {
     "name": "stderr",
     "output_type": "stream",
     "text": [
      " 50%|█████████████▌             | 1183/2346 [03:13<01:50, 10.51user/s]"
     ]
    },
    {
     "name": "stdout",
     "output_type": "stream",
     "text": [
      "user 1181 processed. 36 interactions.\n",
      "user 1182 processed. 74 interactions.\n",
      "user 1183 processed. 54 interactions.\n",
      "user 1184 processed. 37 interactions.\n"
     ]
    },
    {
     "name": "stderr",
     "output_type": "stream",
     "text": [
      " 51%|█████████████▋             | 1189/2346 [03:14<01:14, 15.44user/s]"
     ]
    },
    {
     "name": "stdout",
     "output_type": "stream",
     "text": [
      "user 1185 processed. 113 interactions.\n",
      "user 1186 processed. 11 interactions.\n",
      "user 1187 processed. 55 interactions.\n",
      "user 1188 processed. 10 interactions.\n",
      "user 1189 processed. 30 interactions.\n"
     ]
    },
    {
     "name": "stderr",
     "output_type": "stream",
     "text": [
      " 51%|█████████████▋             | 1193/2346 [03:14<01:19, 14.52user/s]"
     ]
    },
    {
     "name": "stdout",
     "output_type": "stream",
     "text": [
      "user 1190 processed. 134 interactions.\n",
      "user 1191 processed. 17 interactions.\n",
      "user 1192 processed. 17 interactions.\n",
      "user 1193 processed. 73 interactions.\n"
     ]
    },
    {
     "name": "stderr",
     "output_type": "stream",
     "text": [
      " 51%|█████████████▊             | 1200/2346 [03:14<01:04, 17.72user/s]"
     ]
    },
    {
     "name": "stdout",
     "output_type": "stream",
     "text": [
      "user 1194 processed. 193 interactions.\n",
      "user 1195 processed. 32 interactions.\n",
      "user 1196 processed. 21 interactions.\n",
      "user 1197 processed. 28 interactions.\n",
      "user 1198 processed. 46 interactions.\n",
      "user 1199 processed. 22 interactions.\n",
      "user 1200 processed. 28 interactions.\n",
      "user 1201 processed. 12 interactions.\n"
     ]
    },
    {
     "name": "stderr",
     "output_type": "stream",
     "text": [
      " 51%|█████████████▉             | 1207/2346 [03:15<00:51, 22.08user/s]"
     ]
    },
    {
     "name": "stdout",
     "output_type": "stream",
     "text": [
      "user 1202 processed. 75 interactions.\n",
      "user 1203 processed. 11 interactions.\n",
      "user 1204 processed. 29 interactions.\n",
      "user 1205 processed. 60 interactions.\n",
      "user 1206 processed. 16 interactions.\n",
      "user 1207 processed. 58 interactions.\n",
      "user 1208 processed. 25 interactions.\n"
     ]
    },
    {
     "name": "stderr",
     "output_type": "stream",
     "text": [
      " 52%|█████████████▉             | 1212/2346 [03:15<00:41, 27.59user/s]"
     ]
    },
    {
     "name": "stdout",
     "output_type": "stream",
     "text": [
      "user 1209 processed. 31 interactions.\n",
      "user 1210 processed. 26 interactions.\n",
      "user 1211 processed. 12 interactions.\n",
      "user 1212 processed. 19 interactions.\n",
      "user 1213 processed. 97 interactions.\n"
     ]
    },
    {
     "name": "stderr",
     "output_type": "stream",
     "text": [
      " 52%|█████████████▉             | 1216/2346 [03:17<03:19,  5.66user/s]"
     ]
    },
    {
     "name": "stdout",
     "output_type": "stream",
     "text": [
      "user 1214 processed. 1137 interactions.\n",
      "user 1215 processed. 48 interactions.\n",
      "user 1216 processed. 21 interactions.\n",
      "user 1217 processed. 66 interactions.\n"
     ]
    },
    {
     "name": "stderr",
     "output_type": "stream",
     "text": [
      " 52%|██████████████             | 1219/2346 [03:18<03:52,  4.85user/s]"
     ]
    },
    {
     "name": "stdout",
     "output_type": "stream",
     "text": [
      "user 1218 processed. 398 interactions.\n",
      "user 1219 processed. 20 interactions.\n",
      "user 1220 processed. 68 interactions.\n"
     ]
    },
    {
     "name": "stderr",
     "output_type": "stream",
     "text": [
      " 52%|██████████████             | 1223/2346 [03:18<03:11,  5.87user/s]"
     ]
    },
    {
     "name": "stdout",
     "output_type": "stream",
     "text": [
      "user 1221 processed. 69 interactions.\n",
      "user 1222 processed. 21 interactions.\n",
      "user 1223 processed. 68 interactions.\n",
      "user 1224 processed. 162 interactions.\n"
     ]
    },
    {
     "name": "stderr",
     "output_type": "stream",
     "text": [
      " 52%|██████████████             | 1225/2346 [03:19<03:47,  4.94user/s]"
     ]
    },
    {
     "name": "stdout",
     "output_type": "stream",
     "text": [
      "user 1225 processed. 187 interactions.\n",
      "user 1226 processed. 36 interactions.\n"
     ]
    },
    {
     "name": "stderr",
     "output_type": "stream",
     "text": [
      " 52%|██████████████▏            | 1231/2346 [03:19<02:09,  8.59user/s]"
     ]
    },
    {
     "name": "stdout",
     "output_type": "stream",
     "text": [
      "user 1227 processed. 163 interactions.\n",
      "user 1228 processed. 12 interactions.\n",
      "user 1229 processed. 32 interactions.\n",
      "user 1230 processed. 45 interactions.\n",
      "user 1231 processed. 48 interactions.\n",
      "user 1232 processed. 22 interactions.\n"
     ]
    },
    {
     "name": "stderr",
     "output_type": "stream",
     "text": [
      " 53%|██████████████▏            | 1233/2346 [03:20<02:39,  6.98user/s]"
     ]
    },
    {
     "name": "stdout",
     "output_type": "stream",
     "text": [
      "user 1233 processed. 312 interactions.\n",
      "user 1234 processed. 133 interactions.\n"
     ]
    },
    {
     "name": "stderr",
     "output_type": "stream",
     "text": [
      " 53%|██████████████▏            | 1235/2346 [03:20<02:28,  7.47user/s]"
     ]
    },
    {
     "name": "stdout",
     "output_type": "stream",
     "text": [
      "user 1235 processed. 32 interactions.\n",
      "user 1236 processed. 10 interactions.\n",
      "user 1237 processed. 25 interactions.\n",
      "user 1238 processed. 33 interactions.\n"
     ]
    },
    {
     "name": "stderr",
     "output_type": "stream",
     "text": [
      " 53%|██████████████▎            | 1241/2346 [03:20<01:44, 10.60user/s]"
     ]
    },
    {
     "name": "stdout",
     "output_type": "stream",
     "text": [
      "user 1239 processed. 94 interactions.\n",
      "user 1240 processed. 11 interactions.\n",
      "user 1241 processed. 120 interactions.\n"
     ]
    },
    {
     "name": "stderr",
     "output_type": "stream",
     "text": [
      " 53%|██████████████▎            | 1243/2346 [03:20<01:51,  9.91user/s]"
     ]
    },
    {
     "name": "stdout",
     "output_type": "stream",
     "text": [
      "user 1242 processed. 146 interactions.\n",
      "user 1243 processed. 83 interactions.\n",
      "user 1244 processed. 11 interactions.\n",
      "user 1245 processed. 17 interactions.\n"
     ]
    },
    {
     "name": "stderr",
     "output_type": "stream",
     "text": [
      " 53%|██████████████▎            | 1246/2346 [03:21<01:39, 11.05user/s]"
     ]
    },
    {
     "name": "stdout",
     "output_type": "stream",
     "text": [
      "user 1246 processed. 162 interactions.\n",
      "user 1247 processed. 11 interactions.\n"
     ]
    },
    {
     "name": "stderr",
     "output_type": "stream",
     "text": [
      " 53%|██████████████▍            | 1252/2346 [03:21<01:51,  9.78user/s]"
     ]
    },
    {
     "name": "stdout",
     "output_type": "stream",
     "text": [
      "user 1248 processed. 437 interactions.\n",
      "user 1249 processed. 13 interactions.\n",
      "user 1250 processed. 13 interactions.\n",
      "user 1251 processed. 10 interactions.\n",
      "user 1252 processed. 89 interactions.\n"
     ]
    },
    {
     "name": "stderr",
     "output_type": "stream",
     "text": [
      " 53%|██████████████▍            | 1254/2346 [03:22<01:47, 10.14user/s]"
     ]
    },
    {
     "name": "stdout",
     "output_type": "stream",
     "text": [
      "user 1253 processed. 32 interactions.\n",
      "user 1254 processed. 83 interactions.\n",
      "user 1255 processed. 15 interactions.\n"
     ]
    },
    {
     "name": "stderr",
     "output_type": "stream",
     "text": [
      " 54%|██████████████▍            | 1256/2346 [03:22<01:35, 11.37user/s]"
     ]
    },
    {
     "name": "stdout",
     "output_type": "stream",
     "text": [
      "user 1256 processed. 62 interactions.\n",
      "user 1257 processed. 35 interactions.\n"
     ]
    },
    {
     "name": "stderr",
     "output_type": "stream",
     "text": [
      " 54%|██████████████▍            | 1258/2346 [03:22<01:58,  9.16user/s]"
     ]
    },
    {
     "name": "stdout",
     "output_type": "stream",
     "text": [
      "user 1258 processed. 227 interactions.\n",
      "user 1259 processed. 166 interactions.\n"
     ]
    },
    {
     "name": "stderr",
     "output_type": "stream",
     "text": [
      " 54%|██████████████▌            | 1260/2346 [03:22<02:34,  7.02user/s]"
     ]
    },
    {
     "name": "stdout",
     "output_type": "stream",
     "text": [
      "user 1260 processed. 278 interactions.\n"
     ]
    },
    {
     "name": "stderr",
     "output_type": "stream",
     "text": [
      " 54%|██████████████▌            | 1261/2346 [03:23<02:56,  6.14user/s]"
     ]
    },
    {
     "name": "stdout",
     "output_type": "stream",
     "text": [
      "user 1261 processed. 190 interactions.\n",
      "user 1262 processed. 101 interactions.\n"
     ]
    },
    {
     "name": "stderr",
     "output_type": "stream",
     "text": [
      " 54%|██████████████▌            | 1267/2346 [03:23<01:41, 10.59user/s]"
     ]
    },
    {
     "name": "stdout",
     "output_type": "stream",
     "text": [
      "user 1263 processed. 109 interactions.\n",
      "user 1264 processed. 18 interactions.\n",
      "user 1265 processed. 14 interactions.\n",
      "user 1266 processed. 58 interactions.\n",
      "user 1267 processed. 35 interactions.\n",
      "user 1268 processed. 25 interactions.\n"
     ]
    },
    {
     "name": "stderr",
     "output_type": "stream",
     "text": [
      " 54%|██████████████▌            | 1269/2346 [03:24<02:49,  6.34user/s]"
     ]
    },
    {
     "name": "stdout",
     "output_type": "stream",
     "text": [
      "user 1269 processed. 486 interactions.\n",
      "user 1270 processed. 22 interactions.\n",
      "user 1271 processed. 21 interactions.\n",
      "user 1272 processed. 14 interactions.\n"
     ]
    },
    {
     "name": "stderr",
     "output_type": "stream",
     "text": [
      " 54%|██████████████▋            | 1277/2346 [03:25<02:48,  6.35user/s]"
     ]
    },
    {
     "name": "stdout",
     "output_type": "stream",
     "text": [
      "user 1273 processed. 921 interactions.\n",
      "user 1274 processed. 30 interactions.\n",
      "user 1275 processed. 10 interactions.\n",
      "user 1276 processed. 52 interactions.\n",
      "user 1277 processed. 26 interactions.\n"
     ]
    },
    {
     "name": "stderr",
     "output_type": "stream",
     "text": [
      " 55%|██████████████▋            | 1279/2346 [03:26<02:52,  6.20user/s]"
     ]
    },
    {
     "name": "stdout",
     "output_type": "stream",
     "text": [
      "user 1278 processed. 173 interactions.\n",
      "user 1279 processed. 106 interactions.\n"
     ]
    },
    {
     "name": "stderr",
     "output_type": "stream",
     "text": [
      " 55%|██████████████▊            | 1285/2346 [03:26<02:00,  8.82user/s]"
     ]
    },
    {
     "name": "stdout",
     "output_type": "stream",
     "text": [
      "user 1280 processed. 197 interactions.\n",
      "user 1281 processed. 20 interactions.\n",
      "user 1282 processed. 26 interactions.\n",
      "user 1283 processed. 17 interactions.\n",
      "user 1284 processed. 36 interactions.\n",
      "user 1285 processed. 98 interactions.\n"
     ]
    },
    {
     "name": "stderr",
     "output_type": "stream",
     "text": [
      " 55%|██████████████▊            | 1287/2346 [03:26<01:45, 10.01user/s]"
     ]
    },
    {
     "name": "stdout",
     "output_type": "stream",
     "text": [
      "user 1286 processed. 62 interactions.\n",
      "user 1287 processed. 60 interactions.\n",
      "user 1288 processed. 539 interactions.\n"
     ]
    },
    {
     "name": "stderr",
     "output_type": "stream",
     "text": [
      " 55%|██████████████▊            | 1289/2346 [03:27<03:22,  5.21user/s]"
     ]
    },
    {
     "name": "stdout",
     "output_type": "stream",
     "text": [
      "user 1289 processed. 195 interactions.\n",
      "user 1290 processed. 11 interactions.\n",
      "user 1291 processed. 19 interactions.\n",
      "user 1292 processed. 20 interactions.\n",
      "user 1293 processed. 15 interactions.\n"
     ]
    },
    {
     "name": "stderr",
     "output_type": "stream",
     "text": [
      " 55%|██████████████▉            | 1294/2346 [03:27<02:09,  8.10user/s]"
     ]
    },
    {
     "name": "stdout",
     "output_type": "stream",
     "text": [
      "user 1294 processed. 141 interactions.\n"
     ]
    },
    {
     "name": "stderr",
     "output_type": "stream",
     "text": [
      " 55%|██████████████▉            | 1300/2346 [03:28<01:37, 10.75user/s]"
     ]
    },
    {
     "name": "stdout",
     "output_type": "stream",
     "text": [
      "user 1295 processed. 237 interactions.\n",
      "user 1296 processed. 37 interactions.\n",
      "user 1297 processed. 38 interactions.\n",
      "user 1298 processed. 10 interactions.\n",
      "user 1299 processed. 36 interactions.\n",
      "user 1300 processed. 41 interactions.\n",
      "user 1301 processed. 10 interactions.\n",
      "user 1302 processed. 19 interactions.\n"
     ]
    },
    {
     "name": "stderr",
     "output_type": "stream",
     "text": [
      " 56%|███████████████            | 1305/2346 [03:29<01:58,  8.80user/s]"
     ]
    },
    {
     "name": "stdout",
     "output_type": "stream",
     "text": [
      "user 1303 processed. 424 interactions.\n",
      "user 1304 processed. 41 interactions.\n",
      "user 1305 processed. 114 interactions.\n"
     ]
    },
    {
     "name": "stderr",
     "output_type": "stream",
     "text": [
      " 56%|███████████████            | 1307/2346 [03:29<02:01,  8.57user/s]"
     ]
    },
    {
     "name": "stdout",
     "output_type": "stream",
     "text": [
      "user 1306 processed. 117 interactions.\n",
      "user 1307 processed. 105 interactions.\n",
      "user 1308 processed. 10 interactions.\n",
      "user 1309 processed. 12 interactions.\n"
     ]
    },
    {
     "name": "stderr",
     "output_type": "stream",
     "text": [
      " 56%|███████████████            | 1312/2346 [03:30<02:11,  7.85user/s]"
     ]
    },
    {
     "name": "stdout",
     "output_type": "stream",
     "text": [
      "user 1310 processed. 454 interactions.\n",
      "user 1311 processed. 23 interactions.\n",
      "user 1312 processed. 94 interactions.\n"
     ]
    },
    {
     "name": "stderr",
     "output_type": "stream",
     "text": [
      " 56%|███████████████            | 1314/2346 [03:30<02:14,  7.66user/s]"
     ]
    },
    {
     "name": "stdout",
     "output_type": "stream",
     "text": [
      "user 1313 processed. 183 interactions.\n",
      "user 1314 processed. 36 interactions.\n"
     ]
    },
    {
     "name": "stderr",
     "output_type": "stream",
     "text": [
      " 56%|███████████████▏           | 1319/2346 [03:31<03:26,  4.98user/s]"
     ]
    },
    {
     "name": "stdout",
     "output_type": "stream",
     "text": [
      "user 1315 processed. 1011 interactions.\n",
      "user 1316 processed. 38 interactions.\n",
      "user 1317 processed. 24 interactions.\n",
      "user 1318 processed. 10 interactions.\n",
      "user 1319 processed. 64 interactions.\n"
     ]
    },
    {
     "name": "stderr",
     "output_type": "stream",
     "text": [
      " 56%|███████████████▏           | 1324/2346 [03:32<02:21,  7.20user/s]"
     ]
    },
    {
     "name": "stdout",
     "output_type": "stream",
     "text": [
      "user 1320 processed. 167 interactions.\n",
      "user 1321 processed. 16 interactions.\n",
      "user 1322 processed. 12 interactions.\n",
      "user 1323 processed. 13 interactions.\n",
      "user 1324 processed. 88 interactions.\n",
      "user 1325 processed. 13 interactions.\n",
      "user 1326 processed. 21 interactions.\n",
      "user 1327 processed. 11 interactions.\n",
      "user 1328 processed. 48 interactions.\n"
     ]
    },
    {
     "name": "stderr",
     "output_type": "stream",
     "text": [
      " 57%|███████████████▎           | 1331/2346 [03:32<01:33, 10.87user/s]"
     ]
    },
    {
     "name": "stdout",
     "output_type": "stream",
     "text": [
      "user 1329 processed. 151 interactions.\n",
      "user 1330 processed. 13 interactions.\n",
      "user 1331 processed. 54 interactions.\n",
      "user 1332 processed. 19 interactions.\n",
      "user 1333 processed. 19 interactions.\n",
      "user 1334 processed. 29 interactions.\n"
     ]
    },
    {
     "name": "stderr",
     "output_type": "stream",
     "text": [
      " 57%|███████████████▎           | 1335/2346 [03:33<02:35,  6.52user/s]"
     ]
    },
    {
     "name": "stdout",
     "output_type": "stream",
     "text": [
      "user 1335 processed. 595 interactions.\n",
      "user 1336 processed. 11 interactions.\n",
      "user 1337 processed. 32 interactions.\n"
     ]
    },
    {
     "name": "stderr",
     "output_type": "stream",
     "text": [
      " 57%|███████████████▍           | 1341/2346 [03:34<02:14,  7.46user/s]"
     ]
    },
    {
     "name": "stdout",
     "output_type": "stream",
     "text": [
      "user 1338 processed. 218 interactions.\n",
      "user 1339 processed. 14 interactions.\n",
      "user 1340 processed. 11 interactions.\n",
      "user 1341 processed. 40 interactions.\n",
      "user 1342 processed. 28 interactions.\n"
     ]
    },
    {
     "name": "stderr",
     "output_type": "stream",
     "text": [
      " 57%|███████████████▍           | 1344/2346 [03:34<02:00,  8.34user/s]"
     ]
    },
    {
     "name": "stdout",
     "output_type": "stream",
     "text": [
      "user 1343 processed. 12 interactions.\n",
      "user 1344 processed. 129 interactions.\n"
     ]
    },
    {
     "name": "stderr",
     "output_type": "stream",
     "text": [
      " 57%|███████████████▍           | 1346/2346 [03:35<01:47,  9.33user/s]"
     ]
    },
    {
     "name": "stdout",
     "output_type": "stream",
     "text": [
      "user 1345 processed. 18 interactions.\n",
      "user 1346 processed. 42 interactions.\n",
      "user 1347 processed. 137 interactions.\n"
     ]
    },
    {
     "name": "stderr",
     "output_type": "stream",
     "text": [
      " 57%|███████████████▌           | 1348/2346 [03:36<03:27,  4.80user/s]"
     ]
    },
    {
     "name": "stdout",
     "output_type": "stream",
     "text": [
      "user 1348 processed. 580 interactions.\n"
     ]
    },
    {
     "name": "stderr",
     "output_type": "stream",
     "text": [
      " 58%|███████████████▌           | 1350/2346 [03:36<03:04,  5.39user/s]"
     ]
    },
    {
     "name": "stdout",
     "output_type": "stream",
     "text": [
      "user 1349 processed. 116 interactions.\n",
      "user 1350 processed. 19 interactions.\n"
     ]
    },
    {
     "name": "stderr",
     "output_type": "stream",
     "text": [
      " 58%|███████████████▌           | 1352/2346 [03:36<03:05,  5.37user/s]"
     ]
    },
    {
     "name": "stdout",
     "output_type": "stream",
     "text": [
      "user 1351 processed. 234 interactions.\n",
      "user 1352 processed. 67 interactions.\n",
      "user 1353 processed. 15 interactions.\n",
      "user 1354 processed. 11 interactions.\n",
      "user 1355 processed. 38 interactions.\n",
      "user 1356 processed. 13 interactions.\n"
     ]
    },
    {
     "name": "stderr",
     "output_type": "stream",
     "text": [
      " 58%|███████████████▋           | 1359/2346 [03:37<01:48,  9.11user/s]"
     ]
    },
    {
     "name": "stdout",
     "output_type": "stream",
     "text": [
      "user 1357 processed. 210 interactions.\n",
      "user 1358 processed. 11 interactions.\n",
      "user 1359 processed. 168 interactions.\n"
     ]
    },
    {
     "name": "stderr",
     "output_type": "stream",
     "text": [
      " 58%|███████████████▋           | 1361/2346 [03:37<02:26,  6.73user/s]"
     ]
    },
    {
     "name": "stdout",
     "output_type": "stream",
     "text": [
      "user 1360 processed. 267 interactions.\n",
      "user 1361 processed. 98 interactions.\n"
     ]
    },
    {
     "name": "stderr",
     "output_type": "stream",
     "text": [
      " 58%|███████████████▋           | 1363/2346 [03:37<02:03,  7.97user/s]"
     ]
    },
    {
     "name": "stdout",
     "output_type": "stream",
     "text": [
      "user 1362 processed. 34 interactions.\n",
      "user 1363 processed. 76 interactions.\n",
      "user 1364 processed. 68 interactions.\n",
      "user 1365 processed. 27 interactions.\n"
     ]
    },
    {
     "name": "stderr",
     "output_type": "stream",
     "text": [
      " 58%|███████████████▋           | 1366/2346 [03:38<01:36, 10.13user/s]"
     ]
    },
    {
     "name": "stdout",
     "output_type": "stream",
     "text": [
      "user 1366 processed. 65 interactions.\n"
     ]
    },
    {
     "name": "stderr",
     "output_type": "stream",
     "text": [
      " 58%|███████████████▋           | 1368/2346 [03:38<01:59,  8.20user/s]"
     ]
    },
    {
     "name": "stdout",
     "output_type": "stream",
     "text": [
      "user 1367 processed. 256 interactions.\n",
      "user 1368 processed. 17 interactions.\n",
      "user 1369 processed. 184 interactions.\n"
     ]
    },
    {
     "name": "stderr",
     "output_type": "stream",
     "text": [
      " 58%|███████████████▊           | 1370/2346 [03:38<02:35,  6.28user/s]"
     ]
    },
    {
     "name": "stdout",
     "output_type": "stream",
     "text": [
      "user 1370 processed. 107 interactions.\n",
      "user 1371 processed. 37 interactions.\n",
      "user 1372 processed. 26 interactions.\n"
     ]
    },
    {
     "name": "stderr",
     "output_type": "stream",
     "text": [
      " 59%|███████████████▊           | 1373/2346 [03:39<02:52,  5.63user/s]"
     ]
    },
    {
     "name": "stdout",
     "output_type": "stream",
     "text": [
      "user 1373 processed. 378 interactions.\n"
     ]
    },
    {
     "name": "stderr",
     "output_type": "stream",
     "text": [
      " 59%|███████████████▊           | 1374/2346 [03:40<05:12,  3.11user/s]"
     ]
    },
    {
     "name": "stdout",
     "output_type": "stream",
     "text": [
      "user 1374 processed. 822 interactions.\n",
      "user 1375 processed. 25 interactions.\n",
      "user 1376 processed. 18 interactions.\n"
     ]
    },
    {
     "name": "stderr",
     "output_type": "stream",
     "text": [
      " 59%|███████████████▊           | 1377/2346 [03:41<03:58,  4.06user/s]"
     ]
    },
    {
     "name": "stdout",
     "output_type": "stream",
     "text": [
      "user 1377 processed. 313 interactions.\n",
      "user 1378 processed. 46 interactions.\n"
     ]
    },
    {
     "name": "stderr",
     "output_type": "stream",
     "text": [
      " 59%|███████████████▊           | 1379/2346 [03:41<03:37,  4.45user/s]"
     ]
    },
    {
     "name": "stdout",
     "output_type": "stream",
     "text": [
      "user 1379 processed. 232 interactions.\n"
     ]
    },
    {
     "name": "stderr",
     "output_type": "stream",
     "text": [
      " 59%|███████████████▉           | 1380/2346 [03:42<07:03,  2.28user/s]"
     ]
    },
    {
     "name": "stdout",
     "output_type": "stream",
     "text": [
      "user 1380 processed. 1068 interactions.\n",
      "user 1381 processed. 20 interactions.\n",
      "user 1382 processed. 24 interactions.\n"
     ]
    },
    {
     "name": "stderr",
     "output_type": "stream",
     "text": [
      " 59%|███████████████▉           | 1383/2346 [03:43<05:37,  2.86user/s]"
     ]
    },
    {
     "name": "stdout",
     "output_type": "stream",
     "text": [
      "user 1383 processed. 527 interactions.\n"
     ]
    },
    {
     "name": "stderr",
     "output_type": "stream",
     "text": [
      " 59%|███████████████▉           | 1390/2346 [03:44<02:37,  6.08user/s]"
     ]
    },
    {
     "name": "stdout",
     "output_type": "stream",
     "text": [
      "user 1384 processed. 340 interactions.\n",
      "user 1385 processed. 22 interactions.\n",
      "user 1386 processed. 17 interactions.\n",
      "user 1387 processed. 18 interactions.\n",
      "user 1388 processed. 30 interactions.\n",
      "user 1389 processed. 14 interactions.\n",
      "user 1390 processed. 38 interactions.\n",
      "user 1391 processed. 46 interactions.\n",
      "user 1392 processed. 15 interactions.\n",
      "user 1393 processed. 29 interactions.\n"
     ]
    },
    {
     "name": "stderr",
     "output_type": "stream",
     "text": [
      " 60%|████████████████           | 1397/2346 [03:44<01:36,  9.85user/s]"
     ]
    },
    {
     "name": "stdout",
     "output_type": "stream",
     "text": [
      "user 1394 processed. 17 interactions.\n",
      "user 1395 processed. 18 interactions.\n",
      "user 1396 processed. 63 interactions.\n",
      "user 1397 processed. 121 interactions.\n"
     ]
    },
    {
     "name": "stderr",
     "output_type": "stream",
     "text": [
      " 60%|████████████████           | 1400/2346 [03:44<01:22, 11.52user/s]"
     ]
    },
    {
     "name": "stdout",
     "output_type": "stream",
     "text": [
      "user 1398 processed. 40 interactions.\n",
      "user 1399 processed. 94 interactions.\n",
      "user 1400 processed. 12 interactions.\n"
     ]
    },
    {
     "name": "stderr",
     "output_type": "stream",
     "text": [
      " 60%|████████████████▏          | 1406/2346 [03:45<01:19, 11.82user/s]"
     ]
    },
    {
     "name": "stdout",
     "output_type": "stream",
     "text": [
      "user 1401 processed. 323 interactions.\n",
      "user 1402 processed. 15 interactions.\n",
      "user 1403 processed. 10 interactions.\n",
      "user 1404 processed. 11 interactions.\n",
      "user 1405 processed. 82 interactions.\n",
      "user 1406 processed. 30 interactions.\n",
      "user 1407 processed. 16 interactions.\n",
      "user 1408 processed. 32 interactions.\n"
     ]
    },
    {
     "name": "stderr",
     "output_type": "stream",
     "text": [
      " 60%|████████████████▏          | 1409/2346 [03:45<01:08, 13.60user/s]"
     ]
    },
    {
     "name": "stdout",
     "output_type": "stream",
     "text": [
      "user 1409 processed. 94 interactions.\n",
      "user 1410 processed. 149 interactions.\n"
     ]
    },
    {
     "name": "stderr",
     "output_type": "stream",
     "text": [
      " 60%|████████████████▎          | 1412/2346 [03:45<01:18, 11.83user/s]"
     ]
    },
    {
     "name": "stdout",
     "output_type": "stream",
     "text": [
      "user 1411 processed. 76 interactions.\n",
      "user 1412 processed. 55 interactions.\n"
     ]
    },
    {
     "name": "stderr",
     "output_type": "stream",
     "text": [
      " 60%|████████████████▎          | 1414/2346 [03:46<01:37,  9.51user/s]"
     ]
    },
    {
     "name": "stdout",
     "output_type": "stream",
     "text": [
      "user 1413 processed. 147 interactions.\n",
      "user 1414 processed. 117 interactions.\n",
      "user 1415 processed. 14 interactions.\n",
      "user 1416 processed. 23 interactions.\n"
     ]
    },
    {
     "name": "stderr",
     "output_type": "stream",
     "text": [
      " 60%|████████████████▎          | 1418/2346 [03:46<01:09, 13.33user/s]"
     ]
    },
    {
     "name": "stdout",
     "output_type": "stream",
     "text": [
      "user 1417 processed. 27 interactions.\n",
      "user 1418 processed. 62 interactions.\n",
      "user 1419 processed. 16 interactions.\n",
      "user 1420 processed. 21 interactions.\n"
     ]
    },
    {
     "name": "stderr",
     "output_type": "stream",
     "text": [
      " 61%|████████████████▎          | 1421/2346 [03:46<01:37,  9.49user/s]"
     ]
    },
    {
     "name": "stdout",
     "output_type": "stream",
     "text": [
      "user 1421 processed. 370 interactions.\n"
     ]
    },
    {
     "name": "stderr",
     "output_type": "stream",
     "text": [
      " 61%|████████████████▍          | 1423/2346 [03:47<01:49,  8.44user/s]"
     ]
    },
    {
     "name": "stdout",
     "output_type": "stream",
     "text": [
      "user 1422 processed. 259 interactions.\n",
      "user 1423 processed. 19 interactions.\n",
      "user 1424 processed. 41 interactions.\n",
      "user 1425 processed. 17 interactions.\n"
     ]
    },
    {
     "name": "stderr",
     "output_type": "stream",
     "text": [
      " 61%|████████████████▍          | 1426/2346 [03:47<02:23,  6.42user/s]"
     ]
    },
    {
     "name": "stdout",
     "output_type": "stream",
     "text": [
      "user 1426 processed. 498 interactions.\n",
      "user 1427 processed. 704 interactions.\n"
     ]
    },
    {
     "name": "stderr",
     "output_type": "stream",
     "text": [
      " 61%|████████████████▍          | 1428/2346 [03:49<04:37,  3.31user/s]"
     ]
    },
    {
     "name": "stdout",
     "output_type": "stream",
     "text": [
      "user 1428 processed. 513 interactions.\n",
      "user 1429 processed. 49 interactions.\n"
     ]
    },
    {
     "name": "stderr",
     "output_type": "stream",
     "text": [
      " 61%|████████████████▍          | 1433/2346 [03:49<02:42,  5.62user/s]"
     ]
    },
    {
     "name": "stdout",
     "output_type": "stream",
     "text": [
      "user 1430 processed. 114 interactions.\n",
      "user 1431 processed. 15 interactions.\n",
      "user 1432 processed. 13 interactions.\n",
      "user 1433 processed. 28 interactions.\n",
      "user 1434 processed. 402 interactions.\n"
     ]
    },
    {
     "name": "stderr",
     "output_type": "stream",
     "text": [
      " 61%|████████████████▌          | 1437/2346 [03:51<04:35,  3.30user/s]"
     ]
    },
    {
     "name": "stdout",
     "output_type": "stream",
     "text": [
      "user 1435 processed. 583 interactions.\n",
      "user 1436 processed. 83 interactions.\n",
      "user 1437 processed. 37 interactions.\n",
      "user 1438 processed. 39 interactions.\n",
      "user 1439 processed. 14 interactions.\n",
      "user 1440 processed. 12 interactions.\n"
     ]
    },
    {
     "name": "stderr",
     "output_type": "stream",
     "text": [
      " 62%|████████████████▋          | 1447/2346 [03:52<01:39,  9.08user/s]"
     ]
    },
    {
     "name": "stdout",
     "output_type": "stream",
     "text": [
      "user 1441 processed. 19 interactions.\n",
      "user 1442 processed. 54 interactions.\n",
      "user 1443 processed. 29 interactions.\n",
      "user 1444 processed. 14 interactions.\n",
      "user 1445 processed. 10 interactions.\n",
      "user 1446 processed. 54 interactions.\n",
      "user 1447 processed. 34 interactions.\n",
      "user 1448 processed. 16 interactions.\n",
      "user 1449 processed. 26 interactions.\n"
     ]
    },
    {
     "name": "stderr",
     "output_type": "stream",
     "text": [
      " 62%|████████████████▋          | 1453/2346 [03:52<01:27, 10.23user/s]"
     ]
    },
    {
     "name": "stdout",
     "output_type": "stream",
     "text": [
      "user 1450 processed. 285 interactions.\n",
      "user 1451 processed. 13 interactions.\n",
      "user 1452 processed. 116 interactions.\n",
      "user 1453 processed. 19 interactions.\n",
      "user 1454 processed. 12 interactions.\n",
      "user 1455 processed. 171 interactions.\n"
     ]
    },
    {
     "name": "stderr",
     "output_type": "stream",
     "text": [
      " 62%|████████████████▊          | 1456/2346 [03:53<01:49,  8.12user/s]"
     ]
    },
    {
     "name": "stdout",
     "output_type": "stream",
     "text": [
      "user 1456 processed. 320 interactions.\n",
      "user 1457 processed. 11 interactions.\n"
     ]
    },
    {
     "name": "stderr",
     "output_type": "stream",
     "text": [
      " 62%|████████████████▊          | 1458/2346 [03:53<02:02,  7.27user/s]"
     ]
    },
    {
     "name": "stdout",
     "output_type": "stream",
     "text": [
      "user 1458 processed. 308 interactions.\n",
      "user 1459 processed. 313 interactions.\n"
     ]
    },
    {
     "name": "stderr",
     "output_type": "stream",
     "text": [
      " 62%|████████████████▊          | 1463/2346 [03:54<02:09,  6.80user/s]"
     ]
    },
    {
     "name": "stdout",
     "output_type": "stream",
     "text": [
      "user 1460 processed. 362 interactions.\n",
      "user 1461 processed. 64 interactions.\n",
      "user 1462 processed. 23 interactions.\n",
      "user 1463 processed. 34 interactions.\n"
     ]
    },
    {
     "name": "stderr",
     "output_type": "stream",
     "text": [
      " 62%|████████████████▊          | 1465/2346 [03:54<02:13,  6.60user/s]"
     ]
    },
    {
     "name": "stdout",
     "output_type": "stream",
     "text": [
      "user 1464 processed. 123 interactions.\n",
      "user 1465 processed. 154 interactions.\n",
      "user 1466 processed. 11 interactions.\n"
     ]
    },
    {
     "name": "stderr",
     "output_type": "stream",
     "text": [
      " 63%|████████████████▉          | 1469/2346 [03:54<01:30,  9.74user/s]"
     ]
    },
    {
     "name": "stdout",
     "output_type": "stream",
     "text": [
      "user 1467 processed. 63 interactions.\n",
      "user 1468 processed. 24 interactions.\n",
      "user 1469 processed. 56 interactions.\n",
      "user 1470 processed. 17 interactions.\n"
     ]
    },
    {
     "name": "stderr",
     "output_type": "stream",
     "text": [
      " 63%|████████████████▉          | 1471/2346 [03:55<01:31,  9.57user/s]"
     ]
    },
    {
     "name": "stdout",
     "output_type": "stream",
     "text": [
      "user 1471 processed. 182 interactions.\n",
      "user 1472 processed. 45 interactions.\n",
      "user 1473 processed. 10 interactions.\n"
     ]
    },
    {
     "name": "stderr",
     "output_type": "stream",
     "text": [
      " 63%|████████████████▉          | 1474/2346 [03:55<01:26, 10.06user/s]"
     ]
    },
    {
     "name": "stdout",
     "output_type": "stream",
     "text": [
      "user 1474 processed. 172 interactions.\n"
     ]
    },
    {
     "name": "stderr",
     "output_type": "stream",
     "text": [
      " 63%|████████████████▉          | 1476/2346 [03:55<01:43,  8.40user/s]"
     ]
    },
    {
     "name": "stdout",
     "output_type": "stream",
     "text": [
      "user 1475 processed. 260 interactions.\n",
      "user 1476 processed. 38 interactions.\n"
     ]
    },
    {
     "name": "stderr",
     "output_type": "stream",
     "text": [
      " 63%|█████████████████          | 1478/2346 [03:56<01:58,  7.34user/s]"
     ]
    },
    {
     "name": "stdout",
     "output_type": "stream",
     "text": [
      "user 1477 processed. 155 interactions.\n",
      "user 1478 processed. 141 interactions.\n"
     ]
    },
    {
     "name": "stderr",
     "output_type": "stream",
     "text": [
      " 63%|█████████████████          | 1481/2346 [03:56<01:32,  9.39user/s]"
     ]
    },
    {
     "name": "stdout",
     "output_type": "stream",
     "text": [
      "user 1479 processed. 59 interactions.\n",
      "user 1480 processed. 42 interactions.\n",
      "user 1481 processed. 64 interactions.\n"
     ]
    },
    {
     "name": "stderr",
     "output_type": "stream",
     "text": [
      " 63%|█████████████████          | 1483/2346 [03:56<02:05,  6.89user/s]"
     ]
    },
    {
     "name": "stdout",
     "output_type": "stream",
     "text": [
      "user 1482 processed. 372 interactions.\n",
      "user 1483 processed. 37 interactions.\n"
     ]
    },
    {
     "name": "stderr",
     "output_type": "stream",
     "text": [
      " 63%|█████████████████          | 1487/2346 [03:57<02:33,  5.60user/s]"
     ]
    },
    {
     "name": "stdout",
     "output_type": "stream",
     "text": [
      "user 1484 processed. 741 interactions.\n",
      "user 1485 processed. 14 interactions.\n",
      "user 1486 processed. 73 interactions.\n",
      "user 1487 processed. 11 interactions.\n"
     ]
    },
    {
     "name": "stderr",
     "output_type": "stream",
     "text": [
      " 63%|█████████████████▏         | 1489/2346 [03:58<02:17,  6.25user/s]"
     ]
    },
    {
     "name": "stdout",
     "output_type": "stream",
     "text": [
      "user 1488 processed. 116 interactions.\n",
      "user 1489 processed. 42 interactions.\n",
      "user 1490 processed. 19 interactions.\n",
      "user 1491 processed. 11 interactions.\n",
      "user 1492 processed. 20 interactions.\n",
      "user 1493 processed. 38 interactions.\n"
     ]
    },
    {
     "name": "stderr",
     "output_type": "stream",
     "text": [
      " 64%|█████████████████▏         | 1496/2346 [03:58<01:27,  9.72user/s]"
     ]
    },
    {
     "name": "stdout",
     "output_type": "stream",
     "text": [
      "user 1494 processed. 110 interactions.\n",
      "user 1495 processed. 44 interactions.\n",
      "user 1496 processed. 88 interactions.\n",
      "user 1497 processed. 20 interactions.\n",
      "user 1498 processed. 20 interactions.\n",
      "user 1499 processed. 20 interactions.\n"
     ]
    },
    {
     "name": "stderr",
     "output_type": "stream",
     "text": [
      " 64%|█████████████████▎         | 1500/2346 [03:59<01:56,  7.25user/s]"
     ]
    },
    {
     "name": "stdout",
     "output_type": "stream",
     "text": [
      "user 1500 processed. 511 interactions.\n",
      "user 1501 processed. 57 interactions.\n",
      "user 1502 processed. 12 interactions.\n"
     ]
    },
    {
     "name": "stderr",
     "output_type": "stream",
     "text": [
      " 64%|█████████████████▎         | 1506/2346 [03:59<01:27,  9.56user/s]"
     ]
    },
    {
     "name": "stdout",
     "output_type": "stream",
     "text": [
      "user 1503 processed. 195 interactions.\n",
      "user 1504 processed. 42 interactions.\n",
      "user 1505 processed. 26 interactions.\n",
      "user 1506 processed. 23 interactions.\n"
     ]
    },
    {
     "name": "stderr",
     "output_type": "stream",
     "text": [
      " 64%|█████████████████▎         | 1508/2346 [04:00<01:50,  7.58user/s]"
     ]
    },
    {
     "name": "stdout",
     "output_type": "stream",
     "text": [
      "user 1507 processed. 303 interactions.\n",
      "user 1508 processed. 11 interactions.\n",
      "user 1509 processed. 53 interactions.\n",
      "user 1510 processed. 12 interactions.\n"
     ]
    },
    {
     "name": "stderr",
     "output_type": "stream",
     "text": [
      " 64%|█████████████████▍         | 1511/2346 [04:00<01:40,  8.33user/s]"
     ]
    },
    {
     "name": "stdout",
     "output_type": "stream",
     "text": [
      "user 1511 processed. 172 interactions.\n",
      "user 1512 processed. 20 interactions.\n",
      "user 1513 processed. 26 interactions.\n",
      "user 1514 processed. 14 interactions.\n",
      "user 1515 processed. 27 interactions.\n"
     ]
    },
    {
     "name": "stderr",
     "output_type": "stream",
     "text": [
      " 65%|█████████████████▍         | 1516/2346 [04:01<02:39,  5.22user/s]"
     ]
    },
    {
     "name": "stdout",
     "output_type": "stream",
     "text": [
      "user 1516 processed. 891 interactions.\n"
     ]
    },
    {
     "name": "stderr",
     "output_type": "stream",
     "text": [
      " 65%|█████████████████▍         | 1517/2346 [04:02<02:47,  4.94user/s]"
     ]
    },
    {
     "name": "stdout",
     "output_type": "stream",
     "text": [
      "user 1517 processed. 177 interactions.\n",
      "user 1518 processed. 44 interactions.\n"
     ]
    },
    {
     "name": "stderr",
     "output_type": "stream",
     "text": [
      " 65%|█████████████████▍         | 1519/2346 [04:02<03:02,  4.52user/s]"
     ]
    },
    {
     "name": "stdout",
     "output_type": "stream",
     "text": [
      "user 1519 processed. 427 interactions.\n",
      "user 1520 processed. 16 interactions.\n"
     ]
    },
    {
     "name": "stderr",
     "output_type": "stream",
     "text": [
      " 65%|█████████████████▌         | 1521/2346 [04:04<04:18,  3.19user/s]"
     ]
    },
    {
     "name": "stdout",
     "output_type": "stream",
     "text": [
      "user 1521 processed. 795 interactions.\n",
      "user 1522 processed. 24 interactions.\n"
     ]
    },
    {
     "name": "stderr",
     "output_type": "stream",
     "text": [
      " 65%|█████████████████▌         | 1523/2346 [04:04<03:37,  3.78user/s]"
     ]
    },
    {
     "name": "stdout",
     "output_type": "stream",
     "text": [
      "user 1523 processed. 187 interactions.\n",
      "user 1524 processed. 17 interactions.\n"
     ]
    },
    {
     "name": "stderr",
     "output_type": "stream",
     "text": [
      " 65%|█████████████████▌         | 1527/2346 [04:04<02:46,  4.91user/s]"
     ]
    },
    {
     "name": "stdout",
     "output_type": "stream",
     "text": [
      "user 1525 processed. 408 interactions.\n",
      "user 1526 processed. 24 interactions.\n",
      "user 1527 processed. 87 interactions.\n"
     ]
    },
    {
     "name": "stderr",
     "output_type": "stream",
     "text": [
      " 65%|█████████████████▌         | 1528/2346 [04:05<03:12,  4.24user/s]"
     ]
    },
    {
     "name": "stdout",
     "output_type": "stream",
     "text": [
      "user 1528 processed. 334 interactions.\n"
     ]
    },
    {
     "name": "stderr",
     "output_type": "stream",
     "text": [
      " 65%|█████████████████▌         | 1529/2346 [04:06<04:48,  2.84user/s]"
     ]
    },
    {
     "name": "stdout",
     "output_type": "stream",
     "text": [
      "user 1529 processed. 415 interactions.\n"
     ]
    },
    {
     "name": "stderr",
     "output_type": "stream",
     "text": [
      " 65%|█████████████████▌         | 1530/2346 [04:06<04:34,  2.98user/s]"
     ]
    },
    {
     "name": "stdout",
     "output_type": "stream",
     "text": [
      "user 1530 processed. 113 interactions.\n",
      "user 1531 processed. 15 interactions.\n"
     ]
    },
    {
     "name": "stderr",
     "output_type": "stream",
     "text": [
      " 65%|█████████████████▋         | 1534/2346 [04:06<02:41,  5.01user/s]"
     ]
    },
    {
     "name": "stdout",
     "output_type": "stream",
     "text": [
      "user 1532 processed. 129 interactions.\n",
      "user 1533 processed. 14 interactions.\n",
      "user 1534 processed. 62 interactions.\n",
      "user 1535 processed. 27 interactions.\n"
     ]
    },
    {
     "name": "stderr",
     "output_type": "stream",
     "text": [
      " 66%|█████████████████▋         | 1539/2346 [04:07<01:58,  6.82user/s]"
     ]
    },
    {
     "name": "stdout",
     "output_type": "stream",
     "text": [
      "user 1536 processed. 323 interactions.\n",
      "user 1537 processed. 11 interactions.\n",
      "user 1538 processed. 46 interactions.\n",
      "user 1539 processed. 41 interactions.\n",
      "user 1540 processed. 16 interactions.\n",
      "user 1541 processed. 18 interactions.\n"
     ]
    },
    {
     "name": "stderr",
     "output_type": "stream",
     "text": [
      " 66%|█████████████████▋         | 1542/2346 [04:07<01:48,  7.42user/s]"
     ]
    },
    {
     "name": "stdout",
     "output_type": "stream",
     "text": [
      "user 1542 processed. 209 interactions.\n",
      "user 1543 processed. 16 interactions.\n",
      "user 1544 processed. 11 interactions.\n"
     ]
    },
    {
     "name": "stderr",
     "output_type": "stream",
     "text": [
      " 66%|█████████████████▊         | 1545/2346 [04:08<02:11,  6.07user/s]"
     ]
    },
    {
     "name": "stdout",
     "output_type": "stream",
     "text": [
      "user 1545 processed. 454 interactions.\n"
     ]
    },
    {
     "name": "stderr",
     "output_type": "stream",
     "text": [
      " 66%|█████████████████▊         | 1546/2346 [04:08<02:34,  5.19user/s]"
     ]
    },
    {
     "name": "stdout",
     "output_type": "stream",
     "text": [
      "user 1546 processed. 281 interactions.\n"
     ]
    },
    {
     "name": "stderr",
     "output_type": "stream",
     "text": [
      " 66%|█████████████████▊         | 1547/2346 [04:09<02:44,  4.87user/s]"
     ]
    },
    {
     "name": "stdout",
     "output_type": "stream",
     "text": [
      "user 1547 processed. 233 interactions.\n",
      "user 1548 processed. 20 interactions.\n",
      "user 1549 processed. 17 interactions.\n",
      "user 1550 processed. 10 interactions.\n"
     ]
    },
    {
     "name": "stderr",
     "output_type": "stream",
     "text": [
      " 66%|█████████████████▉         | 1554/2346 [04:09<01:30,  8.78user/s]"
     ]
    },
    {
     "name": "stdout",
     "output_type": "stream",
     "text": [
      "user 1551 processed. 251 interactions.\n",
      "user 1552 processed. 36 interactions.\n",
      "user 1553 processed. 16 interactions.\n",
      "user 1554 processed. 65 interactions.\n",
      "user 1555 processed. 13 interactions.\n",
      "user 1556 processed. 10 interactions.\n",
      "user 1557 processed. 26 interactions.\n",
      "user 1558 processed. 12 interactions.\n",
      "user 1559 processed. 62 interactions.\n"
     ]
    },
    {
     "name": "stderr",
     "output_type": "stream",
     "text": [
      " 66%|█████████████████▉         | 1560/2346 [04:10<01:44,  7.52user/s]"
     ]
    },
    {
     "name": "stdout",
     "output_type": "stream",
     "text": [
      "user 1560 processed. 523 interactions.\n",
      "user 1561 processed. 11 interactions.\n"
     ]
    },
    {
     "name": "stderr",
     "output_type": "stream",
     "text": [
      " 67%|█████████████████▉         | 1563/2346 [04:11<02:29,  5.22user/s]"
     ]
    },
    {
     "name": "stdout",
     "output_type": "stream",
     "text": [
      "user 1562 processed. 752 interactions.\n",
      "user 1563 processed. 91 interactions.\n",
      "user 1564 processed. 24 interactions.\n",
      "user 1565 processed. 40 interactions.\n"
     ]
    },
    {
     "name": "stderr",
     "output_type": "stream",
     "text": [
      " 67%|██████████████████         | 1567/2346 [04:11<01:37,  8.01user/s]"
     ]
    },
    {
     "name": "stdout",
     "output_type": "stream",
     "text": [
      "user 1566 processed. 40 interactions.\n",
      "user 1567 processed. 20 interactions.\n",
      "user 1568 processed. 17 interactions.\n",
      "user 1569 processed. 23 interactions.\n"
     ]
    },
    {
     "name": "stderr",
     "output_type": "stream",
     "text": [
      " 67%|██████████████████         | 1572/2346 [04:12<01:16, 10.18user/s]"
     ]
    },
    {
     "name": "stdout",
     "output_type": "stream",
     "text": [
      "user 1570 processed. 158 interactions.\n",
      "user 1571 processed. 77 interactions.\n",
      "user 1572 processed. 15 interactions.\n"
     ]
    },
    {
     "name": "stderr",
     "output_type": "stream",
     "text": [
      " 67%|██████████████████▏        | 1578/2346 [04:12<01:08, 11.23user/s]"
     ]
    },
    {
     "name": "stdout",
     "output_type": "stream",
     "text": [
      "user 1573 processed. 327 interactions.\n",
      "user 1574 processed. 10 interactions.\n",
      "user 1575 processed. 29 interactions.\n",
      "user 1576 processed. 53 interactions.\n",
      "user 1577 processed. 10 interactions.\n",
      "user 1578 processed. 43 interactions.\n",
      "user 1579 processed. 10 interactions.\n",
      "user 1580 processed. 22 interactions.\n"
     ]
    },
    {
     "name": "stderr",
     "output_type": "stream",
     "text": [
      " 67%|██████████████████▏        | 1583/2346 [04:12<00:48, 15.78user/s]"
     ]
    },
    {
     "name": "stdout",
     "output_type": "stream",
     "text": [
      "user 1581 processed. 47 interactions.\n",
      "user 1582 processed. 15 interactions.\n",
      "user 1583 processed. 65 interactions.\n",
      "user 1584 processed. 151 interactions.\n"
     ]
    },
    {
     "name": "stderr",
     "output_type": "stream",
     "text": [
      " 68%|██████████████████▎        | 1586/2346 [04:13<01:49,  6.92user/s]"
     ]
    },
    {
     "name": "stdout",
     "output_type": "stream",
     "text": [
      "user 1585 processed. 575 interactions.\n",
      "user 1586 processed. 85 interactions.\n"
     ]
    },
    {
     "name": "stderr",
     "output_type": "stream",
     "text": [
      " 68%|██████████████████▎        | 1593/2346 [04:14<01:05, 11.53user/s]"
     ]
    },
    {
     "name": "stdout",
     "output_type": "stream",
     "text": [
      "user 1587 processed. 76 interactions.\n",
      "user 1588 processed. 17 interactions.\n",
      "user 1589 processed. 17 interactions.\n",
      "user 1590 processed. 36 interactions.\n",
      "user 1591 processed. 25 interactions.\n",
      "user 1592 processed. 18 interactions.\n",
      "user 1593 processed. 61 interactions.\n",
      "user 1594 processed. 21 interactions.\n"
     ]
    },
    {
     "name": "stderr",
     "output_type": "stream",
     "text": [
      " 68%|██████████████████▍        | 1598/2346 [04:14<00:48, 15.44user/s]"
     ]
    },
    {
     "name": "stdout",
     "output_type": "stream",
     "text": [
      "user 1595 processed. 27 interactions.\n",
      "user 1596 processed. 18 interactions.\n",
      "user 1597 processed. 20 interactions.\n",
      "user 1598 processed. 58 interactions.\n",
      "user 1599 processed. 14 interactions.\n",
      "user 1600 processed. 11 interactions.\n"
     ]
    },
    {
     "name": "stderr",
     "output_type": "stream",
     "text": [
      " 68%|██████████████████▍        | 1604/2346 [04:14<00:38, 19.06user/s]"
     ]
    },
    {
     "name": "stdout",
     "output_type": "stream",
     "text": [
      "user 1601 processed. 86 interactions.\n",
      "user 1602 processed. 43 interactions.\n",
      "user 1603 processed. 17 interactions.\n",
      "user 1604 processed. 61 interactions.\n",
      "user 1605 processed. 16 interactions.\n",
      "user 1606 processed. 29 interactions.\n"
     ]
    },
    {
     "name": "stderr",
     "output_type": "stream",
     "text": [
      " 69%|██████████████████▌        | 1608/2346 [04:14<00:32, 22.57user/s]"
     ]
    },
    {
     "name": "stdout",
     "output_type": "stream",
     "text": [
      "user 1607 processed. 55 interactions.\n",
      "user 1608 processed. 22 interactions.\n",
      "user 1609 processed. 14 interactions.\n"
     ]
    },
    {
     "name": "stderr",
     "output_type": "stream",
     "text": [
      " 69%|██████████████████▌        | 1611/2346 [04:15<01:44,  7.05user/s]"
     ]
    },
    {
     "name": "stdout",
     "output_type": "stream",
     "text": [
      "user 1610 processed. 891 interactions.\n",
      "user 1611 processed. 17 interactions.\n",
      "user 1612 processed. 14 interactions.\n",
      "user 1613 processed. 11 interactions.\n",
      "user 1614 processed. 31 interactions.\n",
      "user 1615 processed. 20 interactions.\n"
     ]
    },
    {
     "name": "stderr",
     "output_type": "stream",
     "text": [
      " 69%|██████████████████▋        | 1619/2346 [04:17<01:48,  6.68user/s]"
     ]
    },
    {
     "name": "stdout",
     "output_type": "stream",
     "text": [
      "user 1616 processed. 924 interactions.\n",
      "user 1617 processed. 10 interactions.\n",
      "user 1618 processed. 14 interactions.\n",
      "user 1619 processed. 99 interactions.\n"
     ]
    },
    {
     "name": "stderr",
     "output_type": "stream",
     "text": [
      " 69%|██████████████████▋        | 1621/2346 [04:18<02:35,  4.67user/s]"
     ]
    },
    {
     "name": "stdout",
     "output_type": "stream",
     "text": [
      "user 1620 processed. 640 interactions.\n",
      "user 1621 processed. 109 interactions.\n",
      "user 1622 processed. 27 interactions.\n"
     ]
    },
    {
     "name": "stderr",
     "output_type": "stream",
     "text": [
      " 69%|██████████████████▋        | 1625/2346 [04:18<01:56,  6.17user/s]"
     ]
    },
    {
     "name": "stdout",
     "output_type": "stream",
     "text": [
      "user 1623 processed. 171 interactions.\n",
      "user 1624 processed. 116 interactions.\n",
      "user 1625 processed. 10 interactions.\n",
      "user 1626 processed. 31 interactions.\n"
     ]
    },
    {
     "name": "stderr",
     "output_type": "stream",
     "text": [
      " 69%|██████████████████▋        | 1627/2346 [04:18<01:42,  6.99user/s]"
     ]
    },
    {
     "name": "stdout",
     "output_type": "stream",
     "text": [
      "user 1627 processed. 123 interactions.\n",
      "user 1628 processed. 56 interactions.\n"
     ]
    },
    {
     "name": "stderr",
     "output_type": "stream",
     "text": [
      " 70%|██████████████████▊        | 1632/2346 [04:19<01:11, 10.03user/s]"
     ]
    },
    {
     "name": "stdout",
     "output_type": "stream",
     "text": [
      "user 1629 processed. 143 interactions.\n",
      "user 1630 processed. 32 interactions.\n",
      "user 1631 processed. 66 interactions.\n",
      "user 1632 processed. 28 interactions.\n",
      "user 1633 processed. 46 interactions.\n"
     ]
    },
    {
     "name": "stderr",
     "output_type": "stream",
     "text": [
      " 70%|██████████████████▊        | 1634/2346 [04:19<01:10, 10.13user/s]"
     ]
    },
    {
     "name": "stdout",
     "output_type": "stream",
     "text": [
      "user 1634 processed. 155 interactions.\n",
      "user 1635 processed. 69 interactions.\n"
     ]
    },
    {
     "name": "stderr",
     "output_type": "stream",
     "text": [
      " 70%|██████████████████▊        | 1636/2346 [04:19<01:37,  7.25user/s]"
     ]
    },
    {
     "name": "stdout",
     "output_type": "stream",
     "text": [
      "user 1636 processed. 334 interactions.\n",
      "user 1637 processed. 98 interactions.\n"
     ]
    },
    {
     "name": "stderr",
     "output_type": "stream",
     "text": [
      " 70%|██████████████████▊        | 1640/2346 [04:20<01:20,  8.72user/s]"
     ]
    },
    {
     "name": "stdout",
     "output_type": "stream",
     "text": [
      "user 1638 processed. 108 interactions.\n",
      "user 1639 processed. 91 interactions.\n",
      "user 1640 processed. 18 interactions.\n",
      "user 1641 processed. 53 interactions.\n"
     ]
    },
    {
     "name": "stderr",
     "output_type": "stream",
     "text": [
      " 70%|██████████████████▉        | 1644/2346 [04:20<00:55, 12.61user/s]"
     ]
    },
    {
     "name": "stdout",
     "output_type": "stream",
     "text": [
      "user 1642 processed. 24 interactions.\n",
      "user 1643 processed. 18 interactions.\n",
      "user 1644 processed. 55 interactions.\n",
      "user 1645 processed. 78 interactions.\n"
     ]
    },
    {
     "name": "stderr",
     "output_type": "stream",
     "text": [
      " 70%|██████████████████▉        | 1646/2346 [04:20<00:54, 12.95user/s]"
     ]
    },
    {
     "name": "stdout",
     "output_type": "stream",
     "text": [
      "user 1646 processed. 56 interactions.\n",
      "user 1647 processed. 29 interactions.\n",
      "user 1648 processed. 31 interactions.\n"
     ]
    },
    {
     "name": "stderr",
     "output_type": "stream",
     "text": [
      " 70%|███████████████████        | 1653/2346 [04:20<00:42, 16.49user/s]"
     ]
    },
    {
     "name": "stdout",
     "output_type": "stream",
     "text": [
      "user 1649 processed. 192 interactions.\n",
      "user 1650 processed. 45 interactions.\n",
      "user 1651 processed. 33 interactions.\n",
      "user 1652 processed. 34 interactions.\n",
      "user 1653 processed. 36 interactions.\n",
      "user 1654 processed. 24 interactions.\n",
      "user 1655 processed. 26 interactions.\n"
     ]
    },
    {
     "name": "stderr",
     "output_type": "stream",
     "text": [
      " 71%|███████████████████        | 1658/2346 [04:23<02:47,  4.11user/s]"
     ]
    },
    {
     "name": "stdout",
     "output_type": "stream",
     "text": [
      "user 1656 processed. 1161 interactions.\n",
      "user 1657 processed. 96 interactions.\n",
      "user 1658 processed. 54 interactions.\n"
     ]
    },
    {
     "name": "stderr",
     "output_type": "stream",
     "text": [
      " 71%|███████████████████        | 1660/2346 [04:23<02:30,  4.55user/s]"
     ]
    },
    {
     "name": "stdout",
     "output_type": "stream",
     "text": [
      "user 1659 processed. 121 interactions.\n",
      "user 1660 processed. 79 interactions.\n",
      "user 1661 processed. 61 interactions.\n"
     ]
    },
    {
     "name": "stderr",
     "output_type": "stream",
     "text": [
      " 71%|███████████████████▏       | 1662/2346 [04:23<02:02,  5.58user/s]"
     ]
    },
    {
     "name": "stdout",
     "output_type": "stream",
     "text": [
      "user 1662 processed. 57 interactions.\n",
      "user 1663 processed. 98 interactions.\n"
     ]
    },
    {
     "name": "stderr",
     "output_type": "stream",
     "text": [
      " 71%|███████████████████▏       | 1666/2346 [04:25<02:34,  4.40user/s]"
     ]
    },
    {
     "name": "stdout",
     "output_type": "stream",
     "text": [
      "user 1664 processed. 705 interactions.\n",
      "user 1665 processed. 43 interactions.\n",
      "user 1666 processed. 87 interactions.\n"
     ]
    },
    {
     "name": "stderr",
     "output_type": "stream",
     "text": [
      " 71%|███████████████████▏       | 1668/2346 [04:25<02:13,  5.08user/s]"
     ]
    },
    {
     "name": "stdout",
     "output_type": "stream",
     "text": [
      "user 1667 processed. 176 interactions.\n",
      "user 1668 processed. 40 interactions.\n"
     ]
    },
    {
     "name": "stderr",
     "output_type": "stream",
     "text": [
      " 71%|███████████████████▏       | 1671/2346 [04:26<02:07,  5.30user/s]"
     ]
    },
    {
     "name": "stdout",
     "output_type": "stream",
     "text": [
      "user 1669 processed. 303 interactions.\n",
      "user 1670 processed. 19 interactions.\n",
      "user 1671 processed. 101 interactions.\n",
      "user 1672 processed. 21 interactions.\n"
     ]
    },
    {
     "name": "stderr",
     "output_type": "stream",
     "text": [
      " 71%|███████████████████▎       | 1673/2346 [04:26<01:51,  6.03user/s]"
     ]
    },
    {
     "name": "stdout",
     "output_type": "stream",
     "text": [
      "user 1673 processed. 164 interactions.\n"
     ]
    },
    {
     "name": "stderr",
     "output_type": "stream",
     "text": [
      " 72%|███████████████████▎       | 1680/2346 [04:26<01:02, 10.58user/s]"
     ]
    },
    {
     "name": "stdout",
     "output_type": "stream",
     "text": [
      "user 1674 processed. 302 interactions.\n",
      "user 1675 processed. 40 interactions.\n",
      "user 1676 processed. 10 interactions.\n",
      "user 1677 processed. 29 interactions.\n",
      "user 1678 processed. 10 interactions.\n",
      "user 1679 processed. 10 interactions.\n",
      "user 1680 processed. 39 interactions.\n",
      "user 1681 processed. 15 interactions.\n",
      "user 1682 processed. 29 interactions.\n",
      "user 1683 processed. 17 interactions.\n",
      "user 1684 processed. 15 interactions.\n",
      "user 1685 processed. 13 interactions.\n"
     ]
    },
    {
     "name": "stderr",
     "output_type": "stream",
     "text": [
      " 72%|███████████████████▍       | 1688/2346 [04:27<00:58, 11.34user/s]"
     ]
    },
    {
     "name": "stdout",
     "output_type": "stream",
     "text": [
      "user 1686 processed. 359 interactions.\n",
      "user 1687 processed. 67 interactions.\n",
      "user 1688 processed. 69 interactions.\n",
      "user 1689 processed. 11 interactions.\n",
      "user 1690 processed. 26 interactions.\n"
     ]
    },
    {
     "name": "stderr",
     "output_type": "stream",
     "text": [
      " 72%|███████████████████▍       | 1692/2346 [04:27<00:48, 13.48user/s]"
     ]
    },
    {
     "name": "stdout",
     "output_type": "stream",
     "text": [
      "user 1691 processed. 41 interactions.\n",
      "user 1692 processed. 78 interactions.\n",
      "user 1693 processed. 10 interactions.\n",
      "user 1694 processed. 57 interactions.\n",
      "user 1695 processed. 18 interactions.\n"
     ]
    },
    {
     "name": "stderr",
     "output_type": "stream",
     "text": [
      " 72%|███████████████████▌       | 1696/2346 [04:27<00:39, 16.28user/s]"
     ]
    },
    {
     "name": "stdout",
     "output_type": "stream",
     "text": [
      "user 1696 processed. 70 interactions.\n"
     ]
    },
    {
     "name": "stderr",
     "output_type": "stream",
     "text": [
      " 72%|███████████████████▌       | 1699/2346 [04:28<00:43, 14.79user/s]"
     ]
    },
    {
     "name": "stdout",
     "output_type": "stream",
     "text": [
      "user 1697 processed. 178 interactions.\n",
      "user 1698 processed. 10 interactions.\n",
      "user 1699 processed. 12 interactions.\n",
      "user 1700 processed. 95 interactions.\n"
     ]
    },
    {
     "name": "stderr",
     "output_type": "stream",
     "text": [
      " 73%|███████████████████▌       | 1701/2346 [04:28<01:11,  8.96user/s]"
     ]
    },
    {
     "name": "stdout",
     "output_type": "stream",
     "text": [
      "user 1701 processed. 361 interactions.\n",
      "user 1702 processed. 27 interactions.\n"
     ]
    },
    {
     "name": "stderr",
     "output_type": "stream",
     "text": [
      " 73%|███████████████████▌       | 1703/2346 [04:29<01:20,  7.99user/s]"
     ]
    },
    {
     "name": "stdout",
     "output_type": "stream",
     "text": [
      "user 1703 processed. 218 interactions.\n",
      "user 1704 processed. 14 interactions.\n"
     ]
    },
    {
     "name": "stderr",
     "output_type": "stream",
     "text": [
      " 73%|███████████████████▋       | 1706/2346 [04:29<01:33,  6.88user/s]"
     ]
    },
    {
     "name": "stdout",
     "output_type": "stream",
     "text": [
      "user 1705 processed. 342 interactions.\n",
      "user 1706 processed. 94 interactions.\n"
     ]
    },
    {
     "name": "stderr",
     "output_type": "stream",
     "text": [
      " 73%|███████████████████▋       | 1707/2346 [04:29<01:42,  6.22user/s]"
     ]
    },
    {
     "name": "stdout",
     "output_type": "stream",
     "text": [
      "user 1707 processed. 164 interactions.\n",
      "user 1708 processed. 10 interactions.\n",
      "user 1709 processed. 62 interactions.\n",
      "user 1710 processed. 45 interactions.\n"
     ]
    },
    {
     "name": "stderr",
     "output_type": "stream",
     "text": [
      " 73%|███████████████████▋       | 1711/2346 [04:30<01:11,  8.86user/s]"
     ]
    },
    {
     "name": "stdout",
     "output_type": "stream",
     "text": [
      "user 1711 processed. 129 interactions.\n",
      "user 1712 processed. 12 interactions.\n",
      "user 1713 processed. 56 interactions.\n"
     ]
    },
    {
     "name": "stderr",
     "output_type": "stream",
     "text": [
      " 73%|███████████████████▋       | 1714/2346 [04:30<01:09,  9.09user/s]"
     ]
    },
    {
     "name": "stdout",
     "output_type": "stream",
     "text": [
      "user 1714 processed. 171 interactions.\n",
      "user 1715 processed. 13 interactions.\n"
     ]
    },
    {
     "name": "stderr",
     "output_type": "stream",
     "text": [
      " 73%|███████████████████▊       | 1719/2346 [04:30<00:56, 11.09user/s]"
     ]
    },
    {
     "name": "stdout",
     "output_type": "stream",
     "text": [
      "user 1716 processed. 159 interactions.\n",
      "user 1717 processed. 29 interactions.\n",
      "user 1718 processed. 45 interactions.\n",
      "user 1719 processed. 75 interactions.\n"
     ]
    },
    {
     "name": "stderr",
     "output_type": "stream",
     "text": [
      " 73%|███████████████████▊       | 1723/2346 [04:31<00:54, 11.43user/s]"
     ]
    },
    {
     "name": "stdout",
     "output_type": "stream",
     "text": [
      "user 1720 processed. 105 interactions.\n",
      "user 1721 processed. 14 interactions.\n",
      "user 1722 processed. 121 interactions.\n",
      "user 1723 processed. 38 interactions.\n",
      "user 1724 processed. 59 interactions.\n"
     ]
    },
    {
     "name": "stderr",
     "output_type": "stream",
     "text": [
      " 74%|███████████████████▊       | 1725/2346 [04:32<01:52,  5.50user/s]"
     ]
    },
    {
     "name": "stdout",
     "output_type": "stream",
     "text": [
      "user 1725 processed. 563 interactions.\n",
      "user 1726 processed. 21 interactions.\n"
     ]
    },
    {
     "name": "stderr",
     "output_type": "stream",
     "text": [
      " 74%|███████████████████▉       | 1727/2346 [04:32<01:47,  5.78user/s]"
     ]
    },
    {
     "name": "stdout",
     "output_type": "stream",
     "text": [
      "user 1727 processed. 171 interactions.\n"
     ]
    },
    {
     "name": "stderr",
     "output_type": "stream",
     "text": [
      " 74%|███████████████████▉       | 1728/2346 [04:32<02:12,  4.65user/s]"
     ]
    },
    {
     "name": "stdout",
     "output_type": "stream",
     "text": [
      "user 1728 processed. 346 interactions.\n",
      "user 1729 processed. 13 interactions.\n",
      "user 1730 processed. 37 interactions.\n",
      "user 1731 processed. 19 interactions.\n"
     ]
    },
    {
     "name": "stderr",
     "output_type": "stream",
     "text": [
      " 74%|███████████████████▉       | 1732/2346 [04:33<01:28,  6.91user/s]"
     ]
    },
    {
     "name": "stdout",
     "output_type": "stream",
     "text": [
      "user 1732 processed. 191 interactions.\n",
      "user 1733 processed. 38 interactions.\n",
      "user 1734 processed. 24 interactions.\n"
     ]
    },
    {
     "name": "stderr",
     "output_type": "stream",
     "text": [
      " 74%|███████████████████▉       | 1736/2346 [04:33<01:42,  5.97user/s]"
     ]
    },
    {
     "name": "stdout",
     "output_type": "stream",
     "text": [
      "user 1735 processed. 491 interactions.\n",
      "user 1736 processed. 128 interactions.\n"
     ]
    },
    {
     "name": "stderr",
     "output_type": "stream",
     "text": [
      " 74%|████████████████████       | 1739/2346 [04:33<01:13,  8.31user/s]"
     ]
    },
    {
     "name": "stdout",
     "output_type": "stream",
     "text": [
      "user 1737 processed. 51 interactions.\n",
      "user 1738 processed. 55 interactions.\n",
      "user 1739 processed. 38 interactions.\n",
      "user 1740 processed. 23 interactions.\n",
      "user 1741 processed. 54 interactions.\n"
     ]
    },
    {
     "name": "stderr",
     "output_type": "stream",
     "text": [
      " 74%|████████████████████       | 1742/2346 [04:34<00:56, 10.74user/s]"
     ]
    },
    {
     "name": "stdout",
     "output_type": "stream",
     "text": [
      "user 1742 processed. 55 interactions.\n",
      "user 1743 processed. 17 interactions.\n"
     ]
    },
    {
     "name": "stderr",
     "output_type": "stream",
     "text": [
      " 74%|████████████████████       | 1744/2346 [04:42<11:23,  1.13s/user]"
     ]
    },
    {
     "name": "stdout",
     "output_type": "stream",
     "text": [
      "user 1744 processed. 3091 interactions.\n",
      "user 1745 processed. 12 interactions.\n",
      "user 1746 processed. 60 interactions.\n",
      "user 1747 processed. 22 interactions.\n"
     ]
    },
    {
     "name": "stderr",
     "output_type": "stream",
     "text": [
      " 75%|████████████████████       | 1748/2346 [04:44<08:39,  1.15user/s]"
     ]
    },
    {
     "name": "stdout",
     "output_type": "stream",
     "text": [
      "user 1748 processed. 1237 interactions.\n",
      "user 1749 processed. 24 interactions.\n"
     ]
    },
    {
     "name": "stderr",
     "output_type": "stream",
     "text": [
      " 75%|████████████████████▏      | 1750/2346 [04:46<08:22,  1.19user/s]"
     ]
    },
    {
     "name": "stdout",
     "output_type": "stream",
     "text": [
      "user 1750 processed. 1022 interactions.\n"
     ]
    },
    {
     "name": "stderr",
     "output_type": "stream",
     "text": [
      " 75%|████████████████████▏      | 1757/2346 [04:46<03:28,  2.82user/s]"
     ]
    },
    {
     "name": "stdout",
     "output_type": "stream",
     "text": [
      "user 1751 processed. 172 interactions.\n",
      "user 1752 processed. 17 interactions.\n",
      "user 1753 processed. 15 interactions.\n",
      "user 1754 processed. 12 interactions.\n",
      "user 1755 processed. 21 interactions.\n",
      "user 1756 processed. 37 interactions.\n",
      "user 1757 processed. 21 interactions.\n",
      "user 1758 processed. 15 interactions.\n",
      "user 1759 processed. 12 interactions.\n",
      "user 1760 processed. 41 interactions.\n",
      "user 1761 processed. 14 interactions.\n",
      "user 1762 processed. 24 interactions.\n"
     ]
    },
    {
     "name": "stderr",
     "output_type": "stream",
     "text": [
      " 75%|████████████████████▎      | 1763/2346 [04:46<02:01,  4.81user/s]"
     ]
    },
    {
     "name": "stdout",
     "output_type": "stream",
     "text": [
      "user 1763 processed. 17 interactions.\n",
      "user 1764 processed. 35 interactions.\n"
     ]
    },
    {
     "name": "stderr",
     "output_type": "stream",
     "text": [
      " 75%|████████████████████▍      | 1771/2346 [04:47<01:14,  7.70user/s]"
     ]
    },
    {
     "name": "stdout",
     "output_type": "stream",
     "text": [
      "user 1765 processed. 238 interactions.\n",
      "user 1766 processed. 35 interactions.\n",
      "user 1767 processed. 16 interactions.\n",
      "user 1768 processed. 12 interactions.\n",
      "user 1769 processed. 20 interactions.\n",
      "user 1770 processed. 10 interactions.\n",
      "user 1771 processed. 64 interactions.\n",
      "user 1772 processed. 19 interactions.\n",
      "user 1773 processed. 15 interactions.\n"
     ]
    },
    {
     "name": "stderr",
     "output_type": "stream",
     "text": [
      " 76%|████████████████████▍      | 1775/2346 [04:47<00:57,  9.89user/s]"
     ]
    },
    {
     "name": "stdout",
     "output_type": "stream",
     "text": [
      "user 1774 processed. 53 interactions.\n",
      "user 1775 processed. 65 interactions.\n",
      "user 1776 processed. 22 interactions.\n",
      "user 1777 processed. 143 interactions.\n",
      "user 1778 processed. 16 interactions.\n"
     ]
    },
    {
     "name": "stderr",
     "output_type": "stream",
     "text": [
      " 76%|████████████████████▌      | 1783/2346 [04:48<00:53, 10.53user/s]"
     ]
    },
    {
     "name": "stdout",
     "output_type": "stream",
     "text": [
      "user 1779 processed. 296 interactions.\n",
      "user 1780 processed. 44 interactions.\n",
      "user 1781 processed. 27 interactions.\n",
      "user 1782 processed. 14 interactions.\n",
      "user 1783 processed. 84 interactions.\n",
      "user 1784 processed. 24 interactions.\n",
      "user 1785 processed. 15 interactions.\n"
     ]
    },
    {
     "name": "stderr",
     "output_type": "stream",
     "text": [
      " 76%|████████████████████▌      | 1786/2346 [04:48<00:58,  9.62user/s]"
     ]
    },
    {
     "name": "stdout",
     "output_type": "stream",
     "text": [
      "user 1786 processed. 279 interactions.\n",
      "user 1787 processed. 12 interactions.\n",
      "user 1788 processed. 21 interactions.\n",
      "user 1789 processed. 11 interactions.\n",
      "user 1790 processed. 24 interactions.\n"
     ]
    },
    {
     "name": "stderr",
     "output_type": "stream",
     "text": [
      " 76%|████████████████████▌      | 1791/2346 [04:49<01:21,  6.78user/s]"
     ]
    },
    {
     "name": "stdout",
     "output_type": "stream",
     "text": [
      "user 1791 processed. 761 interactions.\n"
     ]
    },
    {
     "name": "stderr",
     "output_type": "stream",
     "text": [
      " 77%|████████████████████▋      | 1795/2346 [04:49<01:11,  7.75user/s]"
     ]
    },
    {
     "name": "stdout",
     "output_type": "stream",
     "text": [
      "user 1792 processed. 200 interactions.\n",
      "user 1793 processed. 24 interactions.\n",
      "user 1794 processed. 103 interactions.\n",
      "user 1795 processed. 10 interactions.\n",
      "user 1796 processed. 13 interactions.\n"
     ]
    },
    {
     "name": "stderr",
     "output_type": "stream",
     "text": [
      " 77%|████████████████████▋      | 1797/2346 [04:50<01:02,  8.74user/s]"
     ]
    },
    {
     "name": "stdout",
     "output_type": "stream",
     "text": [
      "user 1797 processed. 88 interactions.\n",
      "user 1798 processed. 81 interactions.\n"
     ]
    },
    {
     "name": "stderr",
     "output_type": "stream",
     "text": [
      " 77%|████████████████████▋      | 1799/2346 [04:50<01:07,  8.08user/s]"
     ]
    },
    {
     "name": "stdout",
     "output_type": "stream",
     "text": [
      "user 1799 processed. 171 interactions.\n",
      "user 1800 processed. 26 interactions.\n",
      "user 1801 processed. 10 interactions.\n",
      "user 1802 processed. 14 interactions.\n"
     ]
    },
    {
     "name": "stderr",
     "output_type": "stream",
     "text": [
      " 77%|████████████████████▊      | 1803/2346 [04:50<01:04,  8.36user/s]"
     ]
    },
    {
     "name": "stdout",
     "output_type": "stream",
     "text": [
      "user 1803 processed. 347 interactions.\n",
      "user 1804 processed. 52 interactions.\n",
      "user 1805 processed. 56 interactions.\n"
     ]
    },
    {
     "name": "stderr",
     "output_type": "stream",
     "text": [
      " 77%|████████████████████▊      | 1809/2346 [04:51<00:55,  9.63user/s]"
     ]
    },
    {
     "name": "stdout",
     "output_type": "stream",
     "text": [
      "user 1806 processed. 335 interactions.\n",
      "user 1807 processed. 10 interactions.\n",
      "user 1808 processed. 83 interactions.\n",
      "user 1809 processed. 13 interactions.\n",
      "user 1810 processed. 10 interactions.\n",
      "user 1811 processed. 13 interactions.\n",
      "user 1812 processed. 34 interactions.\n"
     ]
    },
    {
     "name": "stderr",
     "output_type": "stream",
     "text": [
      " 77%|████████████████████▉      | 1818/2346 [04:51<00:34, 15.21user/s]"
     ]
    },
    {
     "name": "stdout",
     "output_type": "stream",
     "text": [
      "user 1813 processed. 197 interactions.\n",
      "user 1814 processed. 18 interactions.\n",
      "user 1815 processed. 68 interactions.\n",
      "user 1816 processed. 10 interactions.\n",
      "user 1817 processed. 13 interactions.\n",
      "user 1818 processed. 16 interactions.\n"
     ]
    },
    {
     "name": "stderr",
     "output_type": "stream",
     "text": [
      " 78%|████████████████████▉      | 1821/2346 [04:52<00:48, 10.73user/s]"
     ]
    },
    {
     "name": "stdout",
     "output_type": "stream",
     "text": [
      "user 1819 processed. 305 interactions.\n",
      "user 1820 processed. 12 interactions.\n",
      "user 1821 processed. 89 interactions.\n",
      "user 1822 processed. 56 interactions.\n"
     ]
    },
    {
     "name": "stderr",
     "output_type": "stream",
     "text": [
      " 78%|████████████████████▉      | 1823/2346 [04:52<00:46, 11.25user/s]"
     ]
    },
    {
     "name": "stdout",
     "output_type": "stream",
     "text": [
      "user 1823 processed. 92 interactions.\n",
      "user 1824 processed. 17 interactions.\n",
      "user 1825 processed. 13 interactions.\n"
     ]
    },
    {
     "name": "stderr",
     "output_type": "stream",
     "text": [
      " 78%|█████████████████████      | 1826/2346 [04:53<01:04,  8.03user/s]"
     ]
    },
    {
     "name": "stdout",
     "output_type": "stream",
     "text": [
      "user 1826 processed. 517 interactions.\n",
      "user 1827 processed. 26 interactions.\n",
      "user 1828 processed. 16 interactions.\n"
     ]
    },
    {
     "name": "stderr",
     "output_type": "stream",
     "text": [
      " 78%|█████████████████████      | 1829/2346 [04:53<00:59,  8.62user/s]"
     ]
    },
    {
     "name": "stdout",
     "output_type": "stream",
     "text": [
      "user 1829 processed. 206 interactions.\n",
      "user 1830 processed. 18 interactions.\n"
     ]
    },
    {
     "name": "stderr",
     "output_type": "stream",
     "text": [
      " 78%|█████████████████████      | 1831/2346 [04:56<03:15,  2.64user/s]"
     ]
    },
    {
     "name": "stdout",
     "output_type": "stream",
     "text": [
      "user 1831 processed. 1244 interactions.\n",
      "user 1832 processed. 13 interactions.\n",
      "user 1833 processed. 14 interactions.\n",
      "user 1834 processed. 31 interactions.\n"
     ]
    },
    {
     "name": "stderr",
     "output_type": "stream",
     "text": [
      " 78%|█████████████████████▏     | 1836/2346 [04:56<02:23,  3.56user/s]"
     ]
    },
    {
     "name": "stdout",
     "output_type": "stream",
     "text": [
      "user 1835 processed. 460 interactions.\n",
      "user 1836 processed. 131 interactions.\n",
      "user 1837 processed. 13 interactions.\n",
      "user 1838 processed. 13 interactions.\n"
     ]
    },
    {
     "name": "stderr",
     "output_type": "stream",
     "text": [
      " 78%|█████████████████████▏     | 1839/2346 [04:58<02:43,  3.10user/s]"
     ]
    },
    {
     "name": "stdout",
     "output_type": "stream",
     "text": [
      "user 1839 processed. 875 interactions.\n"
     ]
    },
    {
     "name": "stderr",
     "output_type": "stream",
     "text": [
      " 78%|█████████████████████▏     | 1840/2346 [04:58<03:22,  2.49user/s]"
     ]
    },
    {
     "name": "stdout",
     "output_type": "stream",
     "text": [
      "user 1840 processed. 695 interactions.\n",
      "user 1841 processed. 27 interactions.\n",
      "user 1842 processed. 11 interactions.\n"
     ]
    },
    {
     "name": "stderr",
     "output_type": "stream",
     "text": [
      " 79%|█████████████████████▏     | 1846/2346 [04:59<01:40,  4.99user/s]"
     ]
    },
    {
     "name": "stdout",
     "output_type": "stream",
     "text": [
      "user 1843 processed. 247 interactions.\n",
      "user 1844 processed. 22 interactions.\n",
      "user 1845 processed. 15 interactions.\n",
      "user 1846 processed. 83 interactions.\n",
      "user 1847 processed. 10 interactions.\n"
     ]
    },
    {
     "name": "stderr",
     "output_type": "stream",
     "text": [
      " 79%|█████████████████████▎     | 1853/2346 [04:59<00:54,  9.00user/s]"
     ]
    },
    {
     "name": "stdout",
     "output_type": "stream",
     "text": [
      "user 1848 processed. 245 interactions.\n",
      "user 1849 processed. 12 interactions.\n",
      "user 1850 processed. 11 interactions.\n",
      "user 1851 processed. 25 interactions.\n",
      "user 1852 processed. 35 interactions.\n",
      "user 1853 processed. 56 interactions.\n",
      "user 1854 processed. 77 interactions.\n"
     ]
    },
    {
     "name": "stderr",
     "output_type": "stream",
     "text": [
      " 79%|█████████████████████▎     | 1855/2346 [05:00<01:04,  7.57user/s]"
     ]
    },
    {
     "name": "stdout",
     "output_type": "stream",
     "text": [
      "user 1855 processed. 230 interactions.\n",
      "user 1856 processed. 18 interactions.\n"
     ]
    },
    {
     "name": "stderr",
     "output_type": "stream",
     "text": [
      " 79%|█████████████████████▍     | 1860/2346 [05:01<01:13,  6.59user/s]"
     ]
    },
    {
     "name": "stdout",
     "output_type": "stream",
     "text": [
      "user 1857 processed. 563 interactions.\n",
      "user 1858 processed. 44 interactions.\n",
      "user 1859 processed. 19 interactions.\n",
      "user 1860 processed. 120 interactions.\n",
      "user 1861 processed. 10 interactions.\n"
     ]
    },
    {
     "name": "stderr",
     "output_type": "stream",
     "text": [
      " 79%|█████████████████████▍     | 1865/2346 [05:01<00:46, 10.44user/s]"
     ]
    },
    {
     "name": "stdout",
     "output_type": "stream",
     "text": [
      "user 1862 processed. 35 interactions.\n",
      "user 1863 processed. 18 interactions.\n",
      "user 1864 processed. 25 interactions.\n",
      "user 1865 processed. 52 interactions.\n",
      "user 1866 processed. 75 interactions.\n",
      "user 1867 processed. 31 interactions.\n"
     ]
    },
    {
     "name": "stderr",
     "output_type": "stream",
     "text": [
      " 80%|█████████████████████▌     | 1870/2346 [05:01<00:41, 11.34user/s]"
     ]
    },
    {
     "name": "stdout",
     "output_type": "stream",
     "text": [
      "user 1868 processed. 115 interactions.\n",
      "user 1869 processed. 33 interactions.\n",
      "user 1870 processed. 82 interactions.\n",
      "user 1871 processed. 15 interactions.\n"
     ]
    },
    {
     "name": "stderr",
     "output_type": "stream",
     "text": [
      " 80%|█████████████████████▌     | 1874/2346 [05:02<00:42, 11.13user/s]"
     ]
    },
    {
     "name": "stdout",
     "output_type": "stream",
     "text": [
      "user 1872 processed. 164 interactions.\n",
      "user 1873 processed. 14 interactions.\n",
      "user 1874 processed. 102 interactions.\n",
      "user 1875 processed. 12 interactions.\n",
      "user 1876 processed. 21 interactions.\n",
      "user 1877 processed. 11 interactions.\n",
      "user 1878 processed. 22 interactions.\n"
     ]
    },
    {
     "name": "stderr",
     "output_type": "stream",
     "text": [
      " 80%|█████████████████████▋     | 1879/2346 [05:02<00:26, 17.36user/s]"
     ]
    },
    {
     "name": "stdout",
     "output_type": "stream",
     "text": [
      "user 1879 processed. 27 interactions.\n",
      "user 1880 processed. 252 interactions.\n"
     ]
    },
    {
     "name": "stderr",
     "output_type": "stream",
     "text": [
      " 80%|█████████████████████▋     | 1884/2346 [05:04<01:40,  4.61user/s]"
     ]
    },
    {
     "name": "stdout",
     "output_type": "stream",
     "text": [
      "user 1881 processed. 1187 interactions.\n",
      "user 1882 processed. 27 interactions.\n",
      "user 1883 processed. 99 interactions.\n",
      "user 1884 processed. 34 interactions.\n",
      "user 1885 processed. 20 interactions.\n"
     ]
    },
    {
     "name": "stderr",
     "output_type": "stream",
     "text": [
      " 81%|█████████████████████▋     | 1889/2346 [05:05<01:09,  6.55user/s]"
     ]
    },
    {
     "name": "stdout",
     "output_type": "stream",
     "text": [
      "user 1886 processed. 262 interactions.\n",
      "user 1887 processed. 14 interactions.\n",
      "user 1888 processed. 12 interactions.\n",
      "user 1889 processed. 109 interactions.\n",
      "user 1890 processed. 34 interactions.\n",
      "user 1891 processed. 29 interactions.\n"
     ]
    },
    {
     "name": "stderr",
     "output_type": "stream",
     "text": [
      " 81%|█████████████████████▊     | 1893/2346 [05:05<00:47,  9.61user/s]"
     ]
    },
    {
     "name": "stdout",
     "output_type": "stream",
     "text": [
      "user 1892 processed. 46 interactions.\n",
      "user 1893 processed. 31 interactions.\n",
      "user 1894 processed. 208 interactions.\n"
     ]
    },
    {
     "name": "stderr",
     "output_type": "stream",
     "text": [
      " 81%|█████████████████████▊     | 1898/2346 [05:05<00:52,  8.45user/s]"
     ]
    },
    {
     "name": "stdout",
     "output_type": "stream",
     "text": [
      "user 1895 processed. 227 interactions.\n",
      "user 1896 processed. 30 interactions.\n",
      "user 1897 processed. 23 interactions.\n",
      "user 1898 processed. 93 interactions.\n",
      "user 1899 processed. 44 interactions.\n"
     ]
    },
    {
     "name": "stderr",
     "output_type": "stream",
     "text": [
      " 81%|█████████████████████▉     | 1902/2346 [05:06<00:42, 10.48user/s]"
     ]
    },
    {
     "name": "stdout",
     "output_type": "stream",
     "text": [
      "user 1900 processed. 75 interactions.\n",
      "user 1901 processed. 10 interactions.\n",
      "user 1902 processed. 83 interactions.\n",
      "user 1903 processed. 15 interactions.\n",
      "user 1904 processed. 21 interactions.\n",
      "user 1905 processed. 21 interactions.\n",
      "user 1906 processed. 15 interactions.\n"
     ]
    },
    {
     "name": "stderr",
     "output_type": "stream",
     "text": [
      " 81%|█████████████████████▉     | 1908/2346 [05:06<00:24, 17.66user/s]"
     ]
    },
    {
     "name": "stdout",
     "output_type": "stream",
     "text": [
      "user 1907 processed. 26 interactions.\n",
      "user 1908 processed. 45 interactions.\n",
      "user 1909 processed. 19 interactions.\n"
     ]
    },
    {
     "name": "stderr",
     "output_type": "stream",
     "text": [
      " 82%|██████████████████████     | 1914/2346 [05:06<00:31, 13.91user/s]"
     ]
    },
    {
     "name": "stdout",
     "output_type": "stream",
     "text": [
      "user 1910 processed. 322 interactions.\n",
      "user 1911 processed. 15 interactions.\n",
      "user 1912 processed. 16 interactions.\n",
      "user 1913 processed. 32 interactions.\n",
      "user 1914 processed. 81 interactions.\n",
      "user 1915 processed. 39 interactions.\n"
     ]
    },
    {
     "name": "stderr",
     "output_type": "stream",
     "text": [
      " 82%|██████████████████████     | 1917/2346 [05:07<00:40, 10.71user/s]"
     ]
    },
    {
     "name": "stdout",
     "output_type": "stream",
     "text": [
      "user 1916 processed. 244 interactions.\n",
      "user 1917 processed. 129 interactions.\n"
     ]
    },
    {
     "name": "stderr",
     "output_type": "stream",
     "text": [
      " 82%|██████████████████████     | 1919/2346 [05:07<00:42, 10.12user/s]"
     ]
    },
    {
     "name": "stdout",
     "output_type": "stream",
     "text": [
      "user 1918 processed. 118 interactions.\n",
      "user 1919 processed. 90 interactions.\n",
      "user 1920 processed. 25 interactions.\n"
     ]
    },
    {
     "name": "stderr",
     "output_type": "stream",
     "text": [
      " 82%|██████████████████████     | 1921/2346 [05:07<00:49,  8.61user/s]"
     ]
    },
    {
     "name": "stdout",
     "output_type": "stream",
     "text": [
      "user 1921 processed. 245 interactions.\n",
      "user 1922 processed. 43 interactions.\n",
      "user 1923 processed. 20 interactions.\n",
      "user 1924 processed. 37 interactions.\n"
     ]
    },
    {
     "name": "stderr",
     "output_type": "stream",
     "text": [
      " 82%|██████████████████████▏    | 1929/2346 [05:08<00:29, 14.31user/s]"
     ]
    },
    {
     "name": "stdout",
     "output_type": "stream",
     "text": [
      "user 1925 processed. 110 interactions.\n",
      "user 1926 processed. 10 interactions.\n",
      "user 1927 processed. 10 interactions.\n",
      "user 1928 processed. 56 interactions.\n",
      "user 1929 processed. 42 interactions.\n",
      "user 1930 processed. 43 interactions.\n"
     ]
    },
    {
     "name": "stderr",
     "output_type": "stream",
     "text": [
      " 82%|██████████████████████▎    | 1935/2346 [05:08<00:23, 17.19user/s]"
     ]
    },
    {
     "name": "stdout",
     "output_type": "stream",
     "text": [
      "user 1931 processed. 64 interactions.\n",
      "user 1932 processed. 15 interactions.\n",
      "user 1933 processed. 102 interactions.\n",
      "user 1934 processed. 15 interactions.\n",
      "user 1935 processed. 28 interactions.\n",
      "user 1936 processed. 22 interactions.\n",
      "user 1937 processed. 133 interactions.\n"
     ]
    },
    {
     "name": "stderr",
     "output_type": "stream",
     "text": [
      " 83%|██████████████████████▎    | 1938/2346 [05:09<00:46,  8.86user/s]"
     ]
    },
    {
     "name": "stdout",
     "output_type": "stream",
     "text": [
      "user 1938 processed. 314 interactions.\n",
      "user 1939 processed. 232 interactions.\n"
     ]
    },
    {
     "name": "stderr",
     "output_type": "stream",
     "text": [
      " 83%|██████████████████████▎    | 1940/2346 [05:10<01:09,  5.81user/s]"
     ]
    },
    {
     "name": "stdout",
     "output_type": "stream",
     "text": [
      "user 1940 processed. 139 interactions.\n",
      "user 1941 processed. 20 interactions.\n"
     ]
    },
    {
     "name": "stderr",
     "output_type": "stream",
     "text": [
      " 83%|██████████████████████▎    | 1942/2346 [05:10<01:33,  4.31user/s]"
     ]
    },
    {
     "name": "stdout",
     "output_type": "stream",
     "text": [
      "user 1942 processed. 328 interactions.\n"
     ]
    },
    {
     "name": "stderr",
     "output_type": "stream",
     "text": [
      " 83%|██████████████████████▍    | 1946/2346 [05:11<01:21,  4.92user/s]"
     ]
    },
    {
     "name": "stdout",
     "output_type": "stream",
     "text": [
      "user 1943 processed. 405 interactions.\n",
      "user 1944 processed. 13 interactions.\n",
      "user 1945 processed. 19 interactions.\n",
      "user 1946 processed. 81 interactions.\n",
      "user 1947 processed. 184 interactions.\n"
     ]
    },
    {
     "name": "stderr",
     "output_type": "stream",
     "text": [
      " 83%|██████████████████████▍    | 1950/2346 [05:12<01:26,  4.58user/s]"
     ]
    },
    {
     "name": "stdout",
     "output_type": "stream",
     "text": [
      "user 1948 processed. 542 interactions.\n",
      "user 1949 processed. 40 interactions.\n",
      "user 1950 processed. 83 interactions.\n"
     ]
    },
    {
     "name": "stderr",
     "output_type": "stream",
     "text": [
      " 83%|██████████████████████▍    | 1953/2346 [05:13<01:03,  6.22user/s]"
     ]
    },
    {
     "name": "stdout",
     "output_type": "stream",
     "text": [
      "user 1951 processed. 108 interactions.\n",
      "user 1952 processed. 29 interactions.\n",
      "user 1953 processed. 103 interactions.\n",
      "user 1954 processed. 58 interactions.\n",
      "user 1955 processed. 27 interactions.\n",
      "user 1956 processed. 10 interactions.\n"
     ]
    },
    {
     "name": "stderr",
     "output_type": "stream",
     "text": [
      " 83%|██████████████████████▌    | 1957/2346 [05:13<00:47,  8.23user/s]"
     ]
    },
    {
     "name": "stdout",
     "output_type": "stream",
     "text": [
      "user 1957 processed. 211 interactions.\n",
      "user 1958 processed. 145 interactions.\n",
      "user 1959 processed. 16 interactions.\n"
     ]
    },
    {
     "name": "stderr",
     "output_type": "stream",
     "text": [
      " 84%|██████████████████████▌    | 1962/2346 [05:13<00:33, 11.48user/s]"
     ]
    },
    {
     "name": "stdout",
     "output_type": "stream",
     "text": [
      "user 1960 processed. 54 interactions.\n",
      "user 1961 processed. 38 interactions.\n",
      "user 1962 processed. 33 interactions.\n",
      "user 1963 processed. 42 interactions.\n"
     ]
    },
    {
     "name": "stderr",
     "output_type": "stream",
     "text": [
      " 84%|██████████████████████▌    | 1964/2346 [05:14<00:38,  9.92user/s]"
     ]
    },
    {
     "name": "stdout",
     "output_type": "stream",
     "text": [
      "user 1964 processed. 174 interactions.\n",
      "user 1965 processed. 18 interactions.\n",
      "user 1966 processed. 14 interactions.\n",
      "user 1967 processed. 12 interactions.\n"
     ]
    },
    {
     "name": "stderr",
     "output_type": "stream",
     "text": [
      " 84%|██████████████████████▋    | 1973/2346 [05:14<00:33, 11.20user/s]"
     ]
    },
    {
     "name": "stdout",
     "output_type": "stream",
     "text": [
      "user 1968 processed. 484 interactions.\n",
      "user 1969 processed. 11 interactions.\n",
      "user 1970 processed. 50 interactions.\n",
      "user 1971 processed. 24 interactions.\n",
      "user 1972 processed. 27 interactions.\n",
      "user 1973 processed. 98 interactions.\n"
     ]
    },
    {
     "name": "stderr",
     "output_type": "stream",
     "text": [
      " 84%|██████████████████████▋    | 1976/2346 [05:15<00:30, 12.15user/s]"
     ]
    },
    {
     "name": "stdout",
     "output_type": "stream",
     "text": [
      "user 1974 processed. 63 interactions.\n",
      "user 1975 processed. 19 interactions.\n",
      "user 1976 processed. 113 interactions.\n",
      "user 1977 processed. 14 interactions.\n",
      "user 1978 processed. 12 interactions.\n"
     ]
    },
    {
     "name": "stderr",
     "output_type": "stream",
     "text": [
      " 84%|██████████████████████▊    | 1979/2346 [05:15<00:35, 10.38user/s]"
     ]
    },
    {
     "name": "stdout",
     "output_type": "stream",
     "text": [
      "user 1979 processed. 296 interactions.\n",
      "user 1980 processed. 72 interactions.\n"
     ]
    },
    {
     "name": "stderr",
     "output_type": "stream",
     "text": [
      " 85%|██████████████████████▊    | 1985/2346 [05:16<00:34, 10.43user/s]"
     ]
    },
    {
     "name": "stdout",
     "output_type": "stream",
     "text": [
      "user 1981 processed. 261 interactions.\n",
      "user 1982 processed. 14 interactions.\n",
      "user 1983 processed. 12 interactions.\n",
      "user 1984 processed. 59 interactions.\n",
      "user 1985 processed. 63 interactions.\n",
      "user 1986 processed. 85 interactions.\n"
     ]
    },
    {
     "name": "stderr",
     "output_type": "stream",
     "text": [
      " 85%|██████████████████████▉    | 1989/2346 [05:16<00:37,  9.63user/s]"
     ]
    },
    {
     "name": "stdout",
     "output_type": "stream",
     "text": [
      "user 1987 processed. 157 interactions.\n",
      "user 1988 processed. 12 interactions.\n",
      "user 1989 processed. 140 interactions.\n",
      "user 1990 processed. 13 interactions.\n",
      "user 1991 processed. 75 interactions.\n"
     ]
    },
    {
     "name": "stderr",
     "output_type": "stream",
     "text": [
      " 85%|██████████████████████▉    | 1995/2346 [05:17<00:30, 11.61user/s]"
     ]
    },
    {
     "name": "stdout",
     "output_type": "stream",
     "text": [
      "user 1992 processed. 209 interactions.\n",
      "user 1993 processed. 13 interactions.\n",
      "user 1994 processed. 66 interactions.\n",
      "user 1995 processed. 26 interactions.\n",
      "user 1996 processed. 64 interactions.\n",
      "user 1997 processed. 20 interactions.\n",
      "user 1998 processed. 20 interactions.\n",
      "user 1999 processed. 14 interactions.\n"
     ]
    },
    {
     "name": "stderr",
     "output_type": "stream",
     "text": [
      " 85%|███████████████████████    | 1999/2346 [05:17<00:22, 15.65user/s]"
     ]
    },
    {
     "name": "stdout",
     "output_type": "stream",
     "text": [
      "user 2000 processed. 27 interactions.\n"
     ]
    },
    {
     "name": "stderr",
     "output_type": "stream",
     "text": [
      " 85%|███████████████████████    | 2002/2346 [05:17<00:28, 12.20user/s]"
     ]
    },
    {
     "name": "stdout",
     "output_type": "stream",
     "text": [
      "user 2001 processed. 296 interactions.\n",
      "user 2002 processed. 20 interactions.\n"
     ]
    },
    {
     "name": "stderr",
     "output_type": "stream",
     "text": [
      " 86%|███████████████████████    | 2007/2346 [05:18<00:27, 12.28user/s]"
     ]
    },
    {
     "name": "stdout",
     "output_type": "stream",
     "text": [
      "user 2003 processed. 234 interactions.\n",
      "user 2004 processed. 71 interactions.\n",
      "user 2005 processed. 20 interactions.\n",
      "user 2006 processed. 48 interactions.\n",
      "user 2007 processed. 41 interactions.\n",
      "user 2008 processed. 40 interactions.\n",
      "user 2009 processed. 16 interactions.\n"
     ]
    },
    {
     "name": "stderr",
     "output_type": "stream",
     "text": [
      " 86%|███████████████████████▏   | 2010/2346 [05:18<00:39,  8.60user/s]"
     ]
    },
    {
     "name": "stdout",
     "output_type": "stream",
     "text": [
      "user 2010 processed. 404 interactions.\n",
      "user 2011 processed. 126 interactions.\n"
     ]
    },
    {
     "name": "stderr",
     "output_type": "stream",
     "text": [
      " 86%|███████████████████████▏   | 2012/2346 [05:18<00:40,  8.17user/s]"
     ]
    },
    {
     "name": "stdout",
     "output_type": "stream",
     "text": [
      "user 2012 processed. 126 interactions.\n"
     ]
    },
    {
     "name": "stderr",
     "output_type": "stream",
     "text": [
      " 86%|███████████████████████▏   | 2015/2346 [05:20<01:11,  4.63user/s]"
     ]
    },
    {
     "name": "stdout",
     "output_type": "stream",
     "text": [
      "user 2013 processed. 767 interactions.\n",
      "user 2014 processed. 23 interactions.\n",
      "user 2015 processed. 136 interactions.\n",
      "user 2016 processed. 32 interactions.\n"
     ]
    },
    {
     "name": "stderr",
     "output_type": "stream",
     "text": [
      " 86%|███████████████████████▏   | 2020/2346 [05:20<00:37,  8.70user/s]"
     ]
    },
    {
     "name": "stdout",
     "output_type": "stream",
     "text": [
      "user 2017 processed. 18 interactions.\n",
      "user 2018 processed. 36 interactions.\n",
      "user 2019 processed. 12 interactions.\n",
      "user 2020 processed. 12 interactions.\n",
      "user 2021 processed. 11 interactions.\n",
      "user 2022 processed. 28 interactions.\n"
     ]
    },
    {
     "name": "stderr",
     "output_type": "stream",
     "text": [
      " 86%|███████████████████████▎   | 2025/2346 [05:20<00:30, 10.60user/s]"
     ]
    },
    {
     "name": "stdout",
     "output_type": "stream",
     "text": [
      "user 2023 processed. 132 interactions.\n",
      "user 2024 processed. 117 interactions.\n",
      "user 2025 processed. 11 interactions.\n",
      "user 2026 processed. 33 interactions.\n"
     ]
    },
    {
     "name": "stderr",
     "output_type": "stream",
     "text": [
      " 86%|███████████████████████▎   | 2027/2346 [05:21<00:36,  8.64user/s]"
     ]
    },
    {
     "name": "stdout",
     "output_type": "stream",
     "text": [
      "user 2027 processed. 286 interactions.\n"
     ]
    },
    {
     "name": "stderr",
     "output_type": "stream",
     "text": [
      " 87%|███████████████████████▍   | 2032/2346 [05:21<00:35,  8.83user/s]"
     ]
    },
    {
     "name": "stdout",
     "output_type": "stream",
     "text": [
      "user 2028 processed. 458 interactions.\n",
      "user 2029 processed. 10 interactions.\n",
      "user 2030 processed. 15 interactions.\n",
      "user 2031 processed. 13 interactions.\n",
      "user 2032 processed. 75 interactions.\n",
      "user 2033 processed. 21 interactions.\n",
      "user 2034 processed. 22 interactions.\n"
     ]
    },
    {
     "name": "stderr",
     "output_type": "stream",
     "text": [
      " 87%|███████████████████████▍   | 2035/2346 [05:21<00:28, 10.85user/s]"
     ]
    },
    {
     "name": "stdout",
     "output_type": "stream",
     "text": [
      "user 2035 processed. 79 interactions.\n",
      "user 2036 processed. 17 interactions.\n"
     ]
    },
    {
     "name": "stderr",
     "output_type": "stream",
     "text": [
      " 87%|███████████████████████▍   | 2037/2346 [05:23<01:29,  3.44user/s]"
     ]
    },
    {
     "name": "stdout",
     "output_type": "stream",
     "text": [
      "user 2037 processed. 1151 interactions.\n",
      "user 2038 processed. 70 interactions.\n"
     ]
    },
    {
     "name": "stderr",
     "output_type": "stream",
     "text": [
      " 87%|███████████████████████▍   | 2039/2346 [05:23<01:18,  3.89user/s]"
     ]
    },
    {
     "name": "stdout",
     "output_type": "stream",
     "text": [
      "user 2039 processed. 222 interactions.\n",
      "user 2040 processed. 23 interactions.\n",
      "user 2041 processed. 20 interactions.\n",
      "user 2042 processed. 11 interactions.\n",
      "user 2043 processed. 18 interactions.\n"
     ]
    },
    {
     "name": "stderr",
     "output_type": "stream",
     "text": [
      " 87%|███████████████████████▌   | 2044/2346 [05:24<00:47,  6.40user/s]"
     ]
    },
    {
     "name": "stdout",
     "output_type": "stream",
     "text": [
      "user 2044 processed. 131 interactions.\n",
      "user 2045 processed. 45 interactions.\n"
     ]
    },
    {
     "name": "stderr",
     "output_type": "stream",
     "text": [
      " 87%|███████████████████████▌   | 2051/2346 [05:24<00:27, 10.60user/s]"
     ]
    },
    {
     "name": "stdout",
     "output_type": "stream",
     "text": [
      "user 2046 processed. 179 interactions.\n",
      "user 2047 processed. 25 interactions.\n",
      "user 2048 processed. 29 interactions.\n",
      "user 2049 processed. 30 interactions.\n",
      "user 2050 processed. 30 interactions.\n",
      "user 2051 processed. 15 interactions.\n",
      "user 2052 processed. 10 interactions.\n",
      "user 2053 processed. 17 interactions.\n"
     ]
    },
    {
     "name": "stderr",
     "output_type": "stream",
     "text": [
      " 88%|███████████████████████▋   | 2054/2346 [05:25<00:43,  6.74user/s]"
     ]
    },
    {
     "name": "stdout",
     "output_type": "stream",
     "text": [
      "user 2054 processed. 687 interactions.\n",
      "user 2055 processed. 14 interactions.\n"
     ]
    },
    {
     "name": "stderr",
     "output_type": "stream",
     "text": [
      " 88%|███████████████████████▋   | 2061/2346 [05:25<00:28,  9.87user/s]"
     ]
    },
    {
     "name": "stdout",
     "output_type": "stream",
     "text": [
      "user 2056 processed. 179 interactions.\n",
      "user 2057 processed. 31 interactions.\n",
      "user 2058 processed. 12 interactions.\n",
      "user 2059 processed. 36 interactions.\n",
      "user 2060 processed. 15 interactions.\n",
      "user 2061 processed. 11 interactions.\n",
      "user 2062 processed. 17 interactions.\n",
      "user 2063 processed. 17 interactions.\n"
     ]
    },
    {
     "name": "stderr",
     "output_type": "stream",
     "text": [
      " 88%|███████████████████████▊   | 2068/2346 [05:26<00:32,  8.56user/s]"
     ]
    },
    {
     "name": "stdout",
     "output_type": "stream",
     "text": [
      "user 2064 processed. 408 interactions.\n",
      "user 2065 processed. 33 interactions.\n",
      "user 2066 processed. 40 interactions.\n",
      "user 2067 processed. 15 interactions.\n",
      "user 2068 processed. 47 interactions.\n",
      "user 2069 processed. 27 interactions.\n"
     ]
    },
    {
     "name": "stderr",
     "output_type": "stream",
     "text": [
      " 88%|███████████████████████▊   | 2072/2346 [05:28<00:52,  5.23user/s]"
     ]
    },
    {
     "name": "stdout",
     "output_type": "stream",
     "text": [
      "user 2070 processed. 811 interactions.\n",
      "user 2071 processed. 135 interactions.\n",
      "user 2072 processed. 36 interactions.\n",
      "user 2073 processed. 14 interactions.\n"
     ]
    },
    {
     "name": "stderr",
     "output_type": "stream",
     "text": [
      " 88%|███████████████████████▊   | 2074/2346 [05:28<00:47,  5.68user/s]"
     ]
    },
    {
     "name": "stdout",
     "output_type": "stream",
     "text": [
      "user 2074 processed. 179 interactions.\n",
      "user 2075 processed. 46 interactions.\n"
     ]
    },
    {
     "name": "stderr",
     "output_type": "stream",
     "text": [
      " 88%|███████████████████████▉   | 2076/2346 [05:29<00:45,  5.95user/s]"
     ]
    },
    {
     "name": "stdout",
     "output_type": "stream",
     "text": [
      "user 2076 processed. 149 interactions.\n",
      "user 2077 processed. 64 interactions.\n"
     ]
    },
    {
     "name": "stderr",
     "output_type": "stream",
     "text": [
      " 89%|███████████████████████▉   | 2078/2346 [05:29<00:40,  6.58user/s]"
     ]
    },
    {
     "name": "stdout",
     "output_type": "stream",
     "text": [
      "user 2078 processed. 118 interactions.\n"
     ]
    },
    {
     "name": "stderr",
     "output_type": "stream",
     "text": [
      " 89%|███████████████████████▉   | 2081/2346 [05:29<00:48,  5.48user/s]"
     ]
    },
    {
     "name": "stdout",
     "output_type": "stream",
     "text": [
      "user 2079 processed. 461 interactions.\n",
      "user 2080 processed. 17 interactions.\n",
      "user 2081 processed. 148 interactions.\n"
     ]
    },
    {
     "name": "stderr",
     "output_type": "stream",
     "text": [
      " 89%|███████████████████████▉   | 2082/2346 [05:30<00:52,  4.99user/s]"
     ]
    },
    {
     "name": "stdout",
     "output_type": "stream",
     "text": [
      "user 2082 processed. 219 interactions.\n",
      "user 2083 processed. 56 interactions.\n",
      "user 2084 processed. 34 interactions.\n",
      "user 2085 processed. 12 interactions.\n",
      "user 2086 processed. 10 interactions.\n"
     ]
    },
    {
     "name": "stderr",
     "output_type": "stream",
     "text": [
      " 89%|████████████████████████   | 2091/2346 [05:30<00:21, 11.90user/s]"
     ]
    },
    {
     "name": "stdout",
     "output_type": "stream",
     "text": [
      "user 2087 processed. 162 interactions.\n",
      "user 2088 processed. 19 interactions.\n",
      "user 2089 processed. 25 interactions.\n",
      "user 2090 processed. 64 interactions.\n",
      "user 2091 processed. 24 interactions.\n",
      "user 2092 processed. 14 interactions.\n"
     ]
    },
    {
     "name": "stderr",
     "output_type": "stream",
     "text": [
      " 89%|████████████████████████   | 2094/2346 [05:30<00:17, 14.27user/s]"
     ]
    },
    {
     "name": "stdout",
     "output_type": "stream",
     "text": [
      "user 2093 processed. 75 interactions.\n",
      "user 2094 processed. 15 interactions.\n",
      "user 2095 processed. 18 interactions.\n",
      "user 2096 processed. 42 interactions.\n",
      "user 2097 processed. 21 interactions.\n",
      "user 2098 processed. 32 interactions.\n"
     ]
    },
    {
     "name": "stderr",
     "output_type": "stream",
     "text": [
      " 90%|████████████████████████▏  | 2104/2346 [05:31<00:15, 15.25user/s]"
     ]
    },
    {
     "name": "stdout",
     "output_type": "stream",
     "text": [
      "user 2099 processed. 390 interactions.\n",
      "user 2100 processed. 19 interactions.\n",
      "user 2101 processed. 11 interactions.\n",
      "user 2102 processed. 12 interactions.\n",
      "user 2103 processed. 65 interactions.\n",
      "user 2104 processed. 31 interactions.\n",
      "user 2105 processed. 321 interactions.\n"
     ]
    },
    {
     "name": "stderr",
     "output_type": "stream",
     "text": [
      " 90%|████████████████████████▎  | 2109/2346 [05:32<00:30,  7.88user/s]"
     ]
    },
    {
     "name": "stdout",
     "output_type": "stream",
     "text": [
      "user 2106 processed. 349 interactions.\n",
      "user 2107 processed. 13 interactions.\n",
      "user 2108 processed. 63 interactions.\n",
      "user 2109 processed. 47 interactions.\n"
     ]
    },
    {
     "name": "stderr",
     "output_type": "stream",
     "text": [
      " 90%|████████████████████████▎  | 2111/2346 [05:55<09:17,  2.37s/user]"
     ]
    },
    {
     "name": "stdout",
     "output_type": "stream",
     "text": [
      "user 2110 processed. 5891 interactions.\n",
      "user 2111 processed. 138 interactions.\n",
      "user 2112 processed. 66 interactions.\n"
     ]
    },
    {
     "name": "stderr",
     "output_type": "stream",
     "text": [
      " 90%|████████████████████████▎  | 2113/2346 [05:55<06:55,  1.78s/user]"
     ]
    },
    {
     "name": "stdout",
     "output_type": "stream",
     "text": [
      "user 2113 processed. 480 interactions.\n",
      "user 2114 processed. 15 interactions.\n",
      "user 2115 processed. 15 interactions.\n",
      "user 2116 processed. 46 interactions.\n"
     ]
    },
    {
     "name": "stderr",
     "output_type": "stream",
     "text": [
      " 90%|████████████████████████▎  | 2117/2346 [05:56<04:00,  1.05s/user]"
     ]
    },
    {
     "name": "stdout",
     "output_type": "stream",
     "text": [
      "user 2117 processed. 417 interactions.\n",
      "user 2118 processed. 31 interactions.\n",
      "user 2119 processed. 11 interactions.\n"
     ]
    },
    {
     "name": "stderr",
     "output_type": "stream",
     "text": [
      " 91%|████████████████████████▍  | 2124/2346 [05:56<01:41,  2.18user/s]"
     ]
    },
    {
     "name": "stdout",
     "output_type": "stream",
     "text": [
      "user 2120 processed. 154 interactions.\n",
      "user 2121 processed. 12 interactions.\n",
      "user 2122 processed. 67 interactions.\n",
      "user 2123 processed. 11 interactions.\n",
      "user 2124 processed. 37 interactions.\n",
      "user 2125 processed. 11 interactions.\n",
      "user 2126 processed. 22 interactions.\n",
      "user 2127 processed. 13 interactions.\n",
      "user 2128 processed. 15 interactions.\n",
      "user 2129 processed. 14 interactions.\n"
     ]
    },
    {
     "name": "stderr",
     "output_type": "stream",
     "text": [
      " 91%|████████████████████████▌  | 2133/2346 [05:57<00:45,  4.72user/s]"
     ]
    },
    {
     "name": "stdout",
     "output_type": "stream",
     "text": [
      "user 2130 processed. 43 interactions.\n",
      "user 2131 processed. 116 interactions.\n",
      "user 2132 processed. 24 interactions.\n",
      "user 2133 processed. 19 interactions.\n",
      "user 2134 processed. 64 interactions.\n"
     ]
    },
    {
     "name": "stderr",
     "output_type": "stream",
     "text": [
      " 91%|████████████████████████▌  | 2136/2346 [05:57<00:39,  5.27user/s]"
     ]
    },
    {
     "name": "stdout",
     "output_type": "stream",
     "text": [
      "user 2135 processed. 195 interactions.\n",
      "user 2136 processed. 16 interactions.\n",
      "user 2137 processed. 27 interactions.\n",
      "user 2138 processed. 22 interactions.\n",
      "user 2139 processed. 10 interactions.\n"
     ]
    },
    {
     "name": "stderr",
     "output_type": "stream",
     "text": [
      " 91%|████████████████████████▋  | 2140/2346 [05:57<00:30,  6.70user/s]"
     ]
    },
    {
     "name": "stdout",
     "output_type": "stream",
     "text": [
      "user 2140 processed. 124 interactions.\n",
      "user 2141 processed. 10 interactions.\n",
      "user 2142 processed. 24 interactions.\n"
     ]
    },
    {
     "name": "stderr",
     "output_type": "stream",
     "text": [
      " 91%|████████████████████████▋  | 2145/2346 [05:59<00:34,  5.78user/s]"
     ]
    },
    {
     "name": "stdout",
     "output_type": "stream",
     "text": [
      "user 2143 processed. 421 interactions.\n",
      "user 2144 processed. 96 interactions.\n",
      "user 2145 processed. 13 interactions.\n"
     ]
    },
    {
     "name": "stderr",
     "output_type": "stream",
     "text": [
      " 92%|████████████████████████▋  | 2147/2346 [05:59<00:31,  6.35user/s]"
     ]
    },
    {
     "name": "stdout",
     "output_type": "stream",
     "text": [
      "user 2146 processed. 99 interactions.\n",
      "user 2147 processed. 19 interactions.\n",
      "user 2148 processed. 51 interactions.\n",
      "user 2149 processed. 34 interactions.\n",
      "user 2150 processed. 27 interactions.\n"
     ]
    },
    {
     "name": "stderr",
     "output_type": "stream",
     "text": [
      " 92%|████████████████████████▊  | 2153/2346 [05:59<00:21,  9.01user/s]"
     ]
    },
    {
     "name": "stdout",
     "output_type": "stream",
     "text": [
      "user 2151 processed. 96 interactions.\n",
      "user 2152 processed. 16 interactions.\n",
      "user 2153 processed. 96 interactions.\n",
      "user 2154 processed. 17 interactions.\n"
     ]
    },
    {
     "name": "stderr",
     "output_type": "stream",
     "text": [
      " 92%|████████████████████████▊  | 2156/2346 [05:59<00:17, 10.63user/s]"
     ]
    },
    {
     "name": "stdout",
     "output_type": "stream",
     "text": [
      "user 2155 processed. 72 interactions.\n",
      "user 2156 processed. 74 interactions.\n"
     ]
    },
    {
     "name": "stderr",
     "output_type": "stream",
     "text": [
      " 92%|████████████████████████▊  | 2158/2346 [06:01<00:57,  3.26user/s]"
     ]
    },
    {
     "name": "stdout",
     "output_type": "stream",
     "text": [
      "user 2157 processed. 1246 interactions.\n",
      "user 2158 processed. 10 interactions.\n",
      "user 2159 processed. 35 interactions.\n",
      "user 2160 processed. 13 interactions.\n",
      "user 2161 processed. 19 interactions.\n"
     ]
    },
    {
     "name": "stderr",
     "output_type": "stream",
     "text": [
      " 92%|████████████████████████▉  | 2168/2346 [06:02<00:22,  7.94user/s]"
     ]
    },
    {
     "name": "stdout",
     "output_type": "stream",
     "text": [
      "user 2162 processed. 185 interactions.\n",
      "user 2163 processed. 12 interactions.\n",
      "user 2164 processed. 19 interactions.\n",
      "user 2165 processed. 21 interactions.\n",
      "user 2166 processed. 34 interactions.\n",
      "user 2167 processed. 16 interactions.\n",
      "user 2168 processed. 20 interactions.\n",
      "user 2169 processed. 20 interactions.\n",
      "user 2170 processed. 17 interactions.\n",
      "user 2171 processed. 20 interactions.\n"
     ]
    },
    {
     "name": "stderr",
     "output_type": "stream",
     "text": [
      " 93%|█████████████████████████  | 2177/2346 [06:02<00:12, 13.71user/s]"
     ]
    },
    {
     "name": "stdout",
     "output_type": "stream",
     "text": [
      "user 2172 processed. 43 interactions.\n",
      "user 2173 processed. 25 interactions.\n",
      "user 2174 processed. 25 interactions.\n",
      "user 2175 processed. 51 interactions.\n",
      "user 2176 processed. 14 interactions.\n",
      "user 2177 processed. 18 interactions.\n",
      "user 2178 processed. 83 interactions.\n",
      "user 2179 processed. 14 interactions.\n"
     ]
    },
    {
     "name": "stderr",
     "output_type": "stream",
     "text": [
      " 93%|█████████████████████████  | 2181/2346 [06:02<00:13, 11.92user/s]"
     ]
    },
    {
     "name": "stdout",
     "output_type": "stream",
     "text": [
      "user 2180 processed. 144 interactions.\n",
      "user 2181 processed. 105 interactions.\n",
      "user 2182 processed. 58 interactions.\n",
      "user 2183 processed. 60 interactions.\n"
     ]
    },
    {
     "name": "stderr",
     "output_type": "stream",
     "text": [
      " 93%|█████████████████████████▏ | 2188/2346 [06:03<00:12, 13.13user/s]"
     ]
    },
    {
     "name": "stdout",
     "output_type": "stream",
     "text": [
      "user 2184 processed. 289 interactions.\n",
      "user 2185 processed. 10 interactions.\n",
      "user 2186 processed. 13 interactions.\n",
      "user 2187 processed. 21 interactions.\n",
      "user 2188 processed. 72 interactions.\n",
      "user 2189 processed. 32 interactions.\n",
      "user 2190 processed. 12 interactions.\n",
      "user 2191 processed. 22 interactions.\n",
      "user 2192 processed. 23 interactions.\n",
      "user 2193 processed. 19 interactions.\n"
     ]
    },
    {
     "name": "stderr",
     "output_type": "stream",
     "text": [
      " 94%|█████████████████████████▎ | 2194/2346 [06:03<00:11, 13.81user/s]"
     ]
    },
    {
     "name": "stdout",
     "output_type": "stream",
     "text": [
      "user 2194 processed. 239 interactions.\n",
      "user 2195 processed. 54 interactions.\n"
     ]
    },
    {
     "name": "stderr",
     "output_type": "stream",
     "text": [
      " 94%|█████████████████████████▎ | 2201/2346 [06:04<00:09, 15.04user/s]"
     ]
    },
    {
     "name": "stdout",
     "output_type": "stream",
     "text": [
      "user 2196 processed. 169 interactions.\n",
      "user 2197 processed. 17 interactions.\n",
      "user 2198 processed. 20 interactions.\n",
      "user 2199 processed. 30 interactions.\n",
      "user 2200 processed. 10 interactions.\n",
      "user 2201 processed. 69 interactions.\n",
      "user 2202 processed. 11 interactions.\n"
     ]
    },
    {
     "name": "stderr",
     "output_type": "stream",
     "text": [
      " 94%|█████████████████████████▎ | 2204/2346 [06:05<00:23,  5.93user/s]"
     ]
    },
    {
     "name": "stdout",
     "output_type": "stream",
     "text": [
      "user 2203 processed. 947 interactions.\n",
      "user 2204 processed. 12 interactions.\n",
      "user 2205 processed. 72 interactions.\n",
      "user 2206 processed. 12 interactions.\n",
      "user 2207 processed. 12 interactions.\n"
     ]
    },
    {
     "name": "stderr",
     "output_type": "stream",
     "text": [
      " 94%|█████████████████████████▍ | 2208/2346 [06:06<00:18,  7.59user/s]"
     ]
    },
    {
     "name": "stdout",
     "output_type": "stream",
     "text": [
      "user 2208 processed. 98 interactions.\n",
      "user 2209 processed. 10 interactions.\n",
      "user 2210 processed. 19 interactions.\n",
      "user 2211 processed. 18 interactions.\n",
      "user 2212 processed. 19 interactions.\n"
     ]
    },
    {
     "name": "stderr",
     "output_type": "stream",
     "text": [
      " 94%|█████████████████████████▍ | 2213/2346 [06:06<00:15,  8.67user/s]"
     ]
    },
    {
     "name": "stdout",
     "output_type": "stream",
     "text": [
      "user 2213 processed. 227 interactions.\n"
     ]
    },
    {
     "name": "stderr",
     "output_type": "stream",
     "text": [
      " 95%|█████████████████████████▌ | 2218/2346 [06:07<00:17,  7.51user/s]"
     ]
    },
    {
     "name": "stdout",
     "output_type": "stream",
     "text": [
      "user 2214 processed. 509 interactions.\n",
      "user 2215 processed. 13 interactions.\n",
      "user 2216 processed. 11 interactions.\n",
      "user 2217 processed. 17 interactions.\n",
      "user 2218 processed. 84 interactions.\n"
     ]
    },
    {
     "name": "stderr",
     "output_type": "stream",
     "text": [
      " 95%|█████████████████████████▌ | 2220/2346 [06:08<00:28,  4.39user/s]"
     ]
    },
    {
     "name": "stdout",
     "output_type": "stream",
     "text": [
      "user 2219 processed. 670 interactions.\n",
      "user 2220 processed. 76 interactions.\n",
      "user 2221 processed. 13 interactions.\n",
      "user 2222 processed. 13 interactions.\n",
      "user 2223 processed. 25 interactions.\n",
      "user 2224 processed. 18 interactions.\n"
     ]
    },
    {
     "name": "stderr",
     "output_type": "stream",
     "text": [
      " 95%|█████████████████████████▋ | 2227/2346 [06:09<00:16,  7.29user/s]"
     ]
    },
    {
     "name": "stdout",
     "output_type": "stream",
     "text": [
      "user 2225 processed. 85 interactions.\n",
      "user 2226 processed. 17 interactions.\n",
      "user 2227 processed. 159 interactions.\n"
     ]
    },
    {
     "name": "stderr",
     "output_type": "stream",
     "text": [
      " 95%|█████████████████████████▋ | 2229/2346 [06:09<00:15,  7.52user/s]"
     ]
    },
    {
     "name": "stdout",
     "output_type": "stream",
     "text": [
      "user 2228 processed. 185 interactions.\n",
      "user 2229 processed. 21 interactions.\n",
      "user 2230 processed. 14 interactions.\n",
      "user 2231 processed. 29 interactions.\n"
     ]
    },
    {
     "name": "stderr",
     "output_type": "stream",
     "text": [
      " 95%|█████████████████████████▋ | 2235/2346 [06:09<00:11,  9.84user/s]"
     ]
    },
    {
     "name": "stdout",
     "output_type": "stream",
     "text": [
      "user 2232 processed. 214 interactions.\n",
      "user 2233 processed. 16 interactions.\n",
      "user 2234 processed. 24 interactions.\n",
      "user 2235 processed. 136 interactions.\n"
     ]
    },
    {
     "name": "stderr",
     "output_type": "stream",
     "text": [
      " 95%|█████████████████████████▋ | 2237/2346 [06:09<00:10, 10.54user/s]"
     ]
    },
    {
     "name": "stdout",
     "output_type": "stream",
     "text": [
      "user 2236 processed. 111 interactions.\n",
      "user 2237 processed. 11 interactions.\n",
      "user 2238 processed. 54 interactions.\n"
     ]
    },
    {
     "name": "stderr",
     "output_type": "stream",
     "text": [
      " 95%|█████████████████████████▊ | 2239/2346 [06:10<00:22,  4.84user/s]"
     ]
    },
    {
     "name": "stdout",
     "output_type": "stream",
     "text": [
      "user 2239 processed. 713 interactions.\n",
      "user 2240 processed. 22 interactions.\n",
      "user 2241 processed. 16 interactions.\n"
     ]
    },
    {
     "name": "stderr",
     "output_type": "stream",
     "text": [
      " 96%|█████████████████████████▊ | 2243/2346 [06:11<00:17,  5.78user/s]"
     ]
    },
    {
     "name": "stdout",
     "output_type": "stream",
     "text": [
      "user 2242 processed. 296 interactions.\n",
      "user 2243 processed. 122 interactions.\n",
      "user 2244 processed. 12 interactions.\n",
      "user 2245 processed. 12 interactions.\n",
      "user 2246 processed. 10 interactions.\n"
     ]
    },
    {
     "name": "stderr",
     "output_type": "stream",
     "text": [
      " 96%|█████████████████████████▉ | 2250/2346 [06:12<00:16,  5.81user/s]"
     ]
    },
    {
     "name": "stdout",
     "output_type": "stream",
     "text": [
      "user 2247 processed. 809 interactions.\n",
      "user 2248 processed. 38 interactions.\n",
      "user 2249 processed. 70 interactions.\n",
      "user 2250 processed. 13 interactions.\n",
      "user 2251 processed. 10 interactions.\n",
      "user 2252 processed. 32 interactions.\n",
      "user 2253 processed. 16 interactions.\n",
      "user 2254 processed. 28 interactions.\n",
      "user 2255 processed. 22 interactions.\n"
     ]
    },
    {
     "name": "stderr",
     "output_type": "stream",
     "text": [
      " 96%|█████████████████████████▉ | 2259/2346 [06:13<00:07, 11.13user/s]"
     ]
    },
    {
     "name": "stdout",
     "output_type": "stream",
     "text": [
      "user 2256 processed. 59 interactions.\n",
      "user 2257 processed. 139 interactions.\n",
      "user 2258 processed. 19 interactions.\n",
      "user 2259 processed. 12 interactions.\n",
      "user 2260 processed. 586 interactions.\n",
      "user 2261 processed. 25 interactions.\n"
     ]
    },
    {
     "name": "stderr",
     "output_type": "stream",
     "text": [
      " 96%|██████████████████████████ | 2262/2346 [06:14<00:14,  5.74user/s]"
     ]
    },
    {
     "name": "stdout",
     "output_type": "stream",
     "text": [
      "user 2262 processed. 55 interactions.\n"
     ]
    },
    {
     "name": "stderr",
     "output_type": "stream",
     "text": [
      " 97%|██████████████████████████ | 2264/2346 [06:14<00:14,  5.79user/s]"
     ]
    },
    {
     "name": "stdout",
     "output_type": "stream",
     "text": [
      "user 2263 processed. 121 interactions.\n",
      "user 2264 processed. 18 interactions.\n",
      "user 2265 processed. 45 interactions.\n"
     ]
    },
    {
     "name": "stderr",
     "output_type": "stream",
     "text": [
      " 97%|██████████████████████████ | 2266/2346 [06:15<00:18,  4.29user/s]"
     ]
    },
    {
     "name": "stdout",
     "output_type": "stream",
     "text": [
      "user 2266 processed. 556 interactions.\n",
      "user 2267 processed. 27 interactions.\n",
      "user 2268 processed. 55 interactions.\n",
      "user 2269 processed. 11 interactions.\n"
     ]
    },
    {
     "name": "stderr",
     "output_type": "stream",
     "text": [
      " 97%|██████████████████████████▏| 2271/2346 [06:16<00:13,  5.76user/s]"
     ]
    },
    {
     "name": "stdout",
     "output_type": "stream",
     "text": [
      "user 2270 processed. 216 interactions.\n",
      "user 2271 processed. 122 interactions.\n",
      "user 2272 processed. 20 interactions.\n",
      "user 2273 processed. 11 interactions.\n",
      "user 2274 processed. 26 interactions.\n"
     ]
    },
    {
     "name": "stderr",
     "output_type": "stream",
     "text": [
      " 97%|██████████████████████████▎| 2281/2346 [06:16<00:05, 10.90user/s]"
     ]
    },
    {
     "name": "stdout",
     "output_type": "stream",
     "text": [
      "user 2275 processed. 229 interactions.\n",
      "user 2276 processed. 15 interactions.\n",
      "user 2277 processed. 42 interactions.\n",
      "user 2278 processed. 10 interactions.\n",
      "user 2279 processed. 11 interactions.\n",
      "user 2280 processed. 16 interactions.\n",
      "user 2281 processed. 91 interactions.\n",
      "user 2282 processed. 30 interactions.\n",
      "user 2283 processed. 23 interactions.\n",
      "user 2284 processed. 30 interactions.\n"
     ]
    },
    {
     "name": "stderr",
     "output_type": "stream",
     "text": [
      " 97%|██████████████████████████▎| 2285/2346 [06:17<00:05, 10.26user/s]"
     ]
    },
    {
     "name": "stdout",
     "output_type": "stream",
     "text": [
      "user 2285 processed. 274 interactions.\n",
      "user 2286 processed. 105 interactions.\n"
     ]
    },
    {
     "name": "stderr",
     "output_type": "stream",
     "text": [
      " 98%|██████████████████████████▎| 2289/2346 [06:17<00:05, 10.16user/s]"
     ]
    },
    {
     "name": "stdout",
     "output_type": "stream",
     "text": [
      "user 2287 processed. 140 interactions.\n",
      "user 2288 processed. 17 interactions.\n",
      "user 2289 processed. 85 interactions.\n",
      "user 2290 processed. 10 interactions.\n",
      "user 2291 processed. 19 interactions.\n"
     ]
    },
    {
     "name": "stderr",
     "output_type": "stream",
     "text": [
      " 98%|██████████████████████████▍| 2294/2346 [06:17<00:04, 11.37user/s]"
     ]
    },
    {
     "name": "stdout",
     "output_type": "stream",
     "text": [
      "user 2292 processed. 137 interactions.\n",
      "user 2293 processed. 133 interactions.\n",
      "user 2294 processed. 21 interactions.\n"
     ]
    },
    {
     "name": "stderr",
     "output_type": "stream",
     "text": [
      " 98%|██████████████████████████▍| 2296/2346 [06:18<00:04, 11.66user/s]"
     ]
    },
    {
     "name": "stdout",
     "output_type": "stream",
     "text": [
      "user 2295 processed. 68 interactions.\n",
      "user 2296 processed. 78 interactions.\n",
      "user 2297 processed. 31 interactions.\n"
     ]
    },
    {
     "name": "stderr",
     "output_type": "stream",
     "text": [
      " 98%|██████████████████████████▍| 2298/2346 [06:18<00:04, 11.92user/s]"
     ]
    },
    {
     "name": "stdout",
     "output_type": "stream",
     "text": [
      "user 2298 processed. 86 interactions.\n",
      "user 2299 processed. 40 interactions.\n"
     ]
    },
    {
     "name": "stderr",
     "output_type": "stream",
     "text": [
      " 98%|██████████████████████████▌| 2304/2346 [06:18<00:03, 12.95user/s]"
     ]
    },
    {
     "name": "stdout",
     "output_type": "stream",
     "text": [
      "user 2300 processed. 226 interactions.\n",
      "user 2301 processed. 31 interactions.\n",
      "user 2302 processed. 55 interactions.\n",
      "user 2303 processed. 14 interactions.\n",
      "user 2304 processed. 37 interactions.\n",
      "user 2305 processed. 13 interactions.\n",
      "user 2306 processed. 10 interactions.\n",
      "user 2307 processed. 46 interactions.\n",
      "user 2308 processed. 18 interactions.\n"
     ]
    },
    {
     "name": "stderr",
     "output_type": "stream",
     "text": [
      " 98%|██████████████████████████▌| 2309/2346 [06:18<00:02, 17.05user/s]"
     ]
    },
    {
     "name": "stdout",
     "output_type": "stream",
     "text": [
      "user 2309 processed. 91 interactions.\n",
      "user 2310 processed. 55 interactions.\n"
     ]
    },
    {
     "name": "stderr",
     "output_type": "stream",
     "text": [
      " 99%|██████████████████████████▌| 2312/2346 [06:19<00:02, 14.05user/s]"
     ]
    },
    {
     "name": "stdout",
     "output_type": "stream",
     "text": [
      "user 2311 processed. 200 interactions.\n",
      "user 2312 processed. 69 interactions.\n",
      "user 2313 processed. 17 interactions.\n",
      "user 2314 processed. 10 interactions.\n",
      "user 2315 processed. 24 interactions.\n",
      "user 2316 processed. 10 interactions.\n"
     ]
    },
    {
     "name": "stderr",
     "output_type": "stream",
     "text": [
      " 99%|██████████████████████████▋| 2317/2346 [06:19<00:01, 16.20user/s]"
     ]
    },
    {
     "name": "stdout",
     "output_type": "stream",
     "text": [
      "user 2317 processed. 135 interactions.\n",
      "user 2318 processed. 15 interactions.\n",
      "user 2319 processed. 16 interactions.\n"
     ]
    },
    {
     "name": "stderr",
     "output_type": "stream",
     "text": [
      " 99%|██████████████████████████▋| 2320/2346 [06:19<00:01, 13.06user/s]"
     ]
    },
    {
     "name": "stdout",
     "output_type": "stream",
     "text": [
      "user 2320 processed. 288 interactions.\n",
      "user 2321 processed. 16 interactions.\n",
      "user 2322 processed. 11 interactions.\n"
     ]
    },
    {
     "name": "stderr",
     "output_type": "stream",
     "text": [
      " 99%|██████████████████████████▊| 2325/2346 [06:20<00:01, 12.63user/s]"
     ]
    },
    {
     "name": "stdout",
     "output_type": "stream",
     "text": [
      "user 2323 processed. 196 interactions.\n",
      "user 2324 processed. 88 interactions.\n",
      "user 2325 processed. 14 interactions.\n",
      "user 2326 processed. 25 interactions.\n"
     ]
    },
    {
     "name": "stderr",
     "output_type": "stream",
     "text": [
      " 99%|██████████████████████████▊| 2330/2346 [06:20<00:00, 18.08user/s]"
     ]
    },
    {
     "name": "stdout",
     "output_type": "stream",
     "text": [
      "user 2327 processed. 42 interactions.\n",
      "user 2328 processed. 19 interactions.\n",
      "user 2329 processed. 19 interactions.\n",
      "user 2330 processed. 14 interactions.\n",
      "user 2331 processed. 18 interactions.\n",
      "user 2332 processed. 31 interactions.\n",
      "user 2333 processed. 11 interactions.\n"
     ]
    },
    {
     "name": "stderr",
     "output_type": "stream",
     "text": [
      "100%|██████████████████████████▉| 2337/2346 [06:20<00:00, 19.02user/s]"
     ]
    },
    {
     "name": "stdout",
     "output_type": "stream",
     "text": [
      "user 2334 processed. 86 interactions.\n",
      "user 2335 processed. 88 interactions.\n",
      "user 2336 processed. 26 interactions.\n",
      "user 2337 processed. 47 interactions.\n",
      "user 2338 processed. 410 interactions.\n"
     ]
    },
    {
     "name": "stderr",
     "output_type": "stream",
     "text": [
      "100%|██████████████████████████▉| 2340/2346 [06:21<00:00,  8.85user/s]"
     ]
    },
    {
     "name": "stdout",
     "output_type": "stream",
     "text": [
      "user 2339 processed. 267 interactions.\n",
      "user 2340 processed. 73 interactions.\n"
     ]
    },
    {
     "name": "stderr",
     "output_type": "stream",
     "text": [
      "100%|██████████████████████████▉| 2342/2346 [06:22<00:00,  7.03user/s]"
     ]
    },
    {
     "name": "stdout",
     "output_type": "stream",
     "text": [
      "user 2341 processed. 353 interactions.\n",
      "user 2342 processed. 54 interactions.\n",
      "user 2343 processed. 67 interactions.\n",
      "user 2344 processed. 27 interactions.\n"
     ]
    },
    {
     "name": "stderr",
     "output_type": "stream",
     "text": [
      "                                                                      "
     ]
    },
    {
     "name": "stdout",
     "output_type": "stream",
     "text": [
      "user 2345 processed. 503 interactions.\n",
      "user 2346 processed. 146 interactions.\n"
     ]
    },
    {
     "name": "stderr",
     "output_type": "stream",
     "text": [
      "\r"
     ]
    },
    {
     "name": "stdout",
     "output_type": "stream",
     "text": [
      "Serendipity comparison saved\n"
     ]
    }
   ],
   "source": [
    "model.evaluate_serendipity(dataset=data)"
   ]
  }
 ],
 "metadata": {
  "kernelspec": {
   "display_name": "Python 3 (ipykernel)",
   "language": "python",
   "name": "python3"
  },
  "language_info": {
   "codemirror_mode": {
    "name": "ipython",
    "version": 3
   },
   "file_extension": ".py",
   "mimetype": "text/x-python",
   "name": "python",
   "nbconvert_exporter": "python",
   "pygments_lexer": "ipython3",
   "version": "3.9.19"
  }
 },
 "nbformat": 4,
 "nbformat_minor": 5
}
