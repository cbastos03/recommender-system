{
 "cells": [
  {
   "cell_type": "code",
   "execution_count": 1,
   "id": "f099cbe8",
   "metadata": {},
   "outputs": [
    {
     "name": "stdout",
     "output_type": "stream",
     "text": [
      "System version: 3.9.19 (main, Mar 21 2024, 17:21:27) [MSC v.1916 64 bit (AMD64)]\n",
      "Tensorflow version: 2.12.0\n"
     ]
    }
   ],
   "source": [
    "import sys\n",
    "import os\n",
    "import pandas as pd \n",
    "import tensorflow as tf\n",
    "tf.get_logger().setLevel('ERROR')\n",
    "\n",
    "from recommenders.datasets.amazon_reviews import get_review_data\n",
    "from recommenders.datasets.split_utils import filter_k_core\n",
    "from recommenders.models.sasrec.model import SASREC\n",
    "from recommenders.models.sasrec.ssept import SSEPT\n",
    "from recommenders.models.sasrec.sampler import WarpSampler\n",
    "from recommenders.models.sasrec.util import SASRecDataSet\n",
    "from recommenders.utils.notebook_utils import store_metadata\n",
    "from recommenders.utils.timer import Timer\n",
    "\n",
    "\n",
    "print(f\"System version: {sys.version}\")\n",
    "print(f\"Tensorflow version: {tf.__version__}\")"
   ]
  },
  {
   "cell_type": "code",
   "execution_count": 2,
   "id": "945ebede",
   "metadata": {},
   "outputs": [],
   "source": [
    "data_dir = os.path.join(\"./\")\n",
    "\n",
    "# SerenLens modified\n",
    "dataset = \"reviews_Books_5_full\""
   ]
  },
  {
   "cell_type": "code",
   "execution_count": 3,
   "id": "7ac27684",
   "metadata": {},
   "outputs": [],
   "source": [
    "outfile = dataset + '.txt'"
   ]
  },
  {
   "cell_type": "code",
   "execution_count": 9,
   "id": "3093a57d-e43d-45b1-bec9-a2f47cc42d3c",
   "metadata": {},
   "outputs": [
    {
     "data": {
      "text/html": [
       "<div>\n",
       "<style scoped>\n",
       "    .dataframe tbody tr th:only-of-type {\n",
       "        vertical-align: middle;\n",
       "    }\n",
       "\n",
       "    .dataframe tbody tr th {\n",
       "        vertical-align: top;\n",
       "    }\n",
       "\n",
       "    .dataframe thead th {\n",
       "        text-align: right;\n",
       "    }\n",
       "</style>\n",
       "<table border=\"1\" class=\"dataframe\">\n",
       "  <thead>\n",
       "    <tr style=\"text-align: right;\">\n",
       "      <th></th>\n",
       "      <th>user_id</th>\n",
       "      <th>item_id</th>\n",
       "      <th>timestamp</th>\n",
       "      <th>review</th>\n",
       "      <th>rating</th>\n",
       "      <th>label</th>\n",
       "    </tr>\n",
       "  </thead>\n",
       "  <tbody>\n",
       "    <tr>\n",
       "      <th>0</th>\n",
       "      <td>a10e3f50diujee</td>\n",
       "      <td>0061148512</td>\n",
       "      <td>1196899200</td>\n",
       "      <td>i have always loved this book.  plath's litera...</td>\n",
       "      <td>5.0</td>\n",
       "      <td>0.0</td>\n",
       "    </tr>\n",
       "    <tr>\n",
       "      <th>1</th>\n",
       "      <td>a10e3f50diujee</td>\n",
       "      <td>0786718617</td>\n",
       "      <td>1199750400</td>\n",
       "      <td>assia is infamous for being the woman who ende...</td>\n",
       "      <td>4.0</td>\n",
       "      <td>0.0</td>\n",
       "    </tr>\n",
       "    <tr>\n",
       "      <th>2</th>\n",
       "      <td>a10e3f50diujee</td>\n",
       "      <td>0446617687</td>\n",
       "      <td>1212624000</td>\n",
       "      <td>because i am a fan of the show, i sought out t...</td>\n",
       "      <td>3.0</td>\n",
       "      <td>0.0</td>\n",
       "    </tr>\n",
       "    <tr>\n",
       "      <th>3</th>\n",
       "      <td>a10e3f50diujee</td>\n",
       "      <td>0375725601</td>\n",
       "      <td>1212969600</td>\n",
       "      <td>erik larson took on quite a task with this wor...</td>\n",
       "      <td>5.0</td>\n",
       "      <td>0.0</td>\n",
       "    </tr>\n",
       "    <tr>\n",
       "      <th>4</th>\n",
       "      <td>a10e3f50diujee</td>\n",
       "      <td>0141800356</td>\n",
       "      <td>1215043200</td>\n",
       "      <td>although there are hundreds of reviews, i had ...</td>\n",
       "      <td>5.0</td>\n",
       "      <td>0.0</td>\n",
       "    </tr>\n",
       "  </tbody>\n",
       "</table>\n",
       "</div>"
      ],
      "text/plain": [
       "          user_id     item_id   timestamp  \\\n",
       "0  a10e3f50diujee  0061148512  1196899200   \n",
       "1  a10e3f50diujee  0786718617  1199750400   \n",
       "2  a10e3f50diujee  0446617687  1212624000   \n",
       "3  a10e3f50diujee  0375725601  1212969600   \n",
       "4  a10e3f50diujee  0141800356  1215043200   \n",
       "\n",
       "                                              review  rating  label  \n",
       "0  i have always loved this book.  plath's litera...     5.0    0.0  \n",
       "1  assia is infamous for being the woman who ende...     4.0    0.0  \n",
       "2  because i am a fan of the show, i sought out t...     3.0    0.0  \n",
       "3  erik larson took on quite a task with this wor...     5.0    0.0  \n",
       "4  although there are hundreds of reviews, i had ...     5.0    0.0  "
      ]
     },
     "execution_count": 9,
     "metadata": {},
     "output_type": "execute_result"
    }
   ],
   "source": [
    "df = pd.read_csv(\"../Data/SerenLens_Books.csv\")\n",
    "df.head()"
   ]
  },
  {
   "cell_type": "code",
   "execution_count": 10,
   "id": "cc626d21-fcdf-41c4-a888-7fd8d6c180d3",
   "metadata": {},
   "outputs": [
    {
     "data": {
      "text/html": [
       "<div>\n",
       "<style scoped>\n",
       "    .dataframe tbody tr th:only-of-type {\n",
       "        vertical-align: middle;\n",
       "    }\n",
       "\n",
       "    .dataframe tbody tr th {\n",
       "        vertical-align: top;\n",
       "    }\n",
       "\n",
       "    .dataframe thead th {\n",
       "        text-align: right;\n",
       "    }\n",
       "</style>\n",
       "<table border=\"1\" class=\"dataframe\">\n",
       "  <thead>\n",
       "    <tr style=\"text-align: right;\">\n",
       "      <th></th>\n",
       "      <th>userID</th>\n",
       "      <th>itemID</th>\n",
       "      <th>time</th>\n",
       "      <th>label</th>\n",
       "    </tr>\n",
       "  </thead>\n",
       "  <tbody>\n",
       "    <tr>\n",
       "      <th>0</th>\n",
       "      <td>a10e3f50diujee</td>\n",
       "      <td>0061148512</td>\n",
       "      <td>1196899200</td>\n",
       "      <td>0.0</td>\n",
       "    </tr>\n",
       "    <tr>\n",
       "      <th>1</th>\n",
       "      <td>a10e3f50diujee</td>\n",
       "      <td>0786718617</td>\n",
       "      <td>1199750400</td>\n",
       "      <td>0.0</td>\n",
       "    </tr>\n",
       "    <tr>\n",
       "      <th>2</th>\n",
       "      <td>a10e3f50diujee</td>\n",
       "      <td>0446617687</td>\n",
       "      <td>1212624000</td>\n",
       "      <td>0.0</td>\n",
       "    </tr>\n",
       "    <tr>\n",
       "      <th>3</th>\n",
       "      <td>a10e3f50diujee</td>\n",
       "      <td>0375725601</td>\n",
       "      <td>1212969600</td>\n",
       "      <td>0.0</td>\n",
       "    </tr>\n",
       "    <tr>\n",
       "      <th>4</th>\n",
       "      <td>a10e3f50diujee</td>\n",
       "      <td>0141800356</td>\n",
       "      <td>1215043200</td>\n",
       "      <td>0.0</td>\n",
       "    </tr>\n",
       "  </tbody>\n",
       "</table>\n",
       "</div>"
      ],
      "text/plain": [
       "           userID      itemID        time  label\n",
       "0  a10e3f50diujee  0061148512  1196899200    0.0\n",
       "1  a10e3f50diujee  0786718617  1199750400    0.0\n",
       "2  a10e3f50diujee  0446617687  1212624000    0.0\n",
       "3  a10e3f50diujee  0375725601  1212969600    0.0\n",
       "4  a10e3f50diujee  0141800356  1215043200    0.0"
      ]
     },
     "execution_count": 10,
     "metadata": {},
     "output_type": "execute_result"
    }
   ],
   "source": [
    "df['userID'] = df['user_id'].str.lower()\n",
    "df['itemID'] = df['item_id'].str.lower()\n",
    "df['time'] = df['timestamp']\n",
    "\n",
    "df=df[['userID','itemID', 'time', 'label']]\n",
    "\n",
    "df.head()"
   ]
  },
  {
   "cell_type": "code",
   "execution_count": 11,
   "id": "c37e0e8f-3d90-4578-9d0a-8c7f7d847d0e",
   "metadata": {},
   "outputs": [],
   "source": [
    "user_set, item_set = set(df['userID'].unique()), set(df['itemID'].unique())\n",
    "user_map = dict()\n",
    "item_map = dict()\n",
    "for u, user in enumerate(user_set):\n",
    "    user_map[user] = u+1\n",
    "for i, item in enumerate(item_set):\n",
    "    item_map[item] = i+1\n",
    "\n",
    "df[\"userID\"] = df[\"userID\"].apply(lambda x: user_map[x])\n",
    "df[\"itemID\"] = df[\"itemID\"].apply(lambda x: item_map[x])\n",
    "df = df.sort_values(by=[\"userID\", \"time\"])\n",
    "df.drop(columns=[\"time\"], inplace=True)"
   ]
  },
  {
   "cell_type": "code",
   "execution_count": 12,
   "id": "de6e30cc-712a-4619-8ece-1cfa5871d810",
   "metadata": {},
   "outputs": [
    {
     "name": "stdout",
     "output_type": "stream",
     "text": [
      "Número de entradas com label igual a 1.0 seren: 2557\n"
     ]
    }
   ],
   "source": [
    "count_label_1_seren = df[df['label'] == 1.0].shape[0]\n",
    "\n",
    "\n",
    "# Exibindo o resultado\n",
    "print(\"Número de entradas com label igual a 1.0 seren:\", count_label_1_seren)"
   ]
  },
  {
   "cell_type": "code",
   "execution_count": 13,
   "id": "2828f301-0987-442e-bef1-01aab113df13",
   "metadata": {},
   "outputs": [],
   "source": [
    "df.to_csv(os.path.join(data_dir, outfile), sep=\"\\t\", header=False, index=False)"
   ]
  },
  {
   "cell_type": "code",
   "execution_count": null,
   "id": "55c5271d-80da-4b6a-927b-082d754e371d",
   "metadata": {},
   "outputs": [],
   "source": []
  }
 ],
 "metadata": {
  "kernelspec": {
   "display_name": "Python 3 (ipykernel)",
   "language": "python",
   "name": "python3"
  },
  "language_info": {
   "codemirror_mode": {
    "name": "ipython",
    "version": 3
   },
   "file_extension": ".py",
   "mimetype": "text/x-python",
   "name": "python",
   "nbconvert_exporter": "python",
   "pygments_lexer": "ipython3",
   "version": "3.9.19"
  }
 },
 "nbformat": 4,
 "nbformat_minor": 5
}
