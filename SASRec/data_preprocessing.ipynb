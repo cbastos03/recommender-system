{
 "cells": [
  {
   "cell_type": "code",
   "execution_count": 1,
   "id": "f099cbe8",
   "metadata": {},
   "outputs": [
    {
     "name": "stdout",
     "output_type": "stream",
     "text": [
      "System version: 3.9.19 (main, Mar 21 2024, 17:21:27) [MSC v.1916 64 bit (AMD64)]\n",
      "Tensorflow version: 2.12.0\n"
     ]
    }
   ],
   "source": [
    "import sys\n",
    "import os\n",
    "import pandas as pd \n",
    "import tensorflow as tf\n",
    "tf.get_logger().setLevel('ERROR')\n",
    "\n",
    "from recommenders.datasets.amazon_reviews import get_review_data\n",
    "from recommenders.datasets.split_utils import filter_k_core\n",
    "from recommenders.models.sasrec.model import SASREC\n",
    "from recommenders.models.sasrec.ssept import SSEPT\n",
    "from recommenders.models.sasrec.sampler import WarpSampler\n",
    "from recommenders.models.sasrec.util import SASRecDataSet\n",
    "from recommenders.utils.notebook_utils import store_metadata\n",
    "from recommenders.utils.timer import Timer\n",
    "\n",
    "\n",
    "print(f\"System version: {sys.version}\")\n",
    "print(f\"Tensorflow version: {tf.__version__}\")"
   ]
  },
  {
   "cell_type": "code",
   "execution_count": 2,
   "id": "945ebede",
   "metadata": {},
   "outputs": [],
   "source": [
    "data_dir = os.path.join(\"./\")\n",
    "\n",
    "# SerenLens modified\n",
    "dataset = \"reviews_Books_5\""
   ]
  },
  {
   "cell_type": "code",
   "execution_count": 3,
   "id": "7ac27684",
   "metadata": {},
   "outputs": [],
   "source": [
    "outfile = dataset + '.txt'"
   ]
  },
  {
   "cell_type": "code",
   "execution_count": 11,
   "id": "3093a57d-e43d-45b1-bec9-a2f47cc42d3c",
   "metadata": {},
   "outputs": [
    {
     "data": {
      "text/html": [
       "<div>\n",
       "<style scoped>\n",
       "    .dataframe tbody tr th:only-of-type {\n",
       "        vertical-align: middle;\n",
       "    }\n",
       "\n",
       "    .dataframe tbody tr th {\n",
       "        vertical-align: top;\n",
       "    }\n",
       "\n",
       "    .dataframe thead th {\n",
       "        text-align: right;\n",
       "    }\n",
       "</style>\n",
       "<table border=\"1\" class=\"dataframe\">\n",
       "  <thead>\n",
       "    <tr style=\"text-align: right;\">\n",
       "      <th></th>\n",
       "      <th>user_id</th>\n",
       "      <th>item_id</th>\n",
       "      <th>timestamp</th>\n",
       "      <th>rating</th>\n",
       "      <th>serendipity</th>\n",
       "      <th>title</th>\n",
       "      <th>description</th>\n",
       "      <th>features</th>\n",
       "    </tr>\n",
       "  </thead>\n",
       "  <tbody>\n",
       "    <tr>\n",
       "      <th>0</th>\n",
       "      <td>a10f5lmypxqydf</td>\n",
       "      <td>380761319</td>\n",
       "      <td>1140048000</td>\n",
       "      <td>5</td>\n",
       "      <td>0</td>\n",
       "      <td>the shadow and the star</td>\n",
       "      <td>from publishers weekly, kinsale  the prince of...</td>\n",
       "      <td>from nationally acclaimed bestselling author l...</td>\n",
       "    </tr>\n",
       "    <tr>\n",
       "      <th>1</th>\n",
       "      <td>a10f5lmypxqydf</td>\n",
       "      <td>373294395</td>\n",
       "      <td>1173484800</td>\n",
       "      <td>4</td>\n",
       "      <td>0</td>\n",
       "      <td>beau crusoe</td>\n",
       "      <td>about the author, i started writing regencies ...</td>\n",
       "      <td>shipwrecked!stranded alone on a desert island,...</td>\n",
       "    </tr>\n",
       "    <tr>\n",
       "      <th>2</th>\n",
       "      <td>a10f5lmypxqydf</td>\n",
       "      <td>60090383</td>\n",
       "      <td>1176595200</td>\n",
       "      <td>5</td>\n",
       "      <td>1</td>\n",
       "      <td>rachels holiday</td>\n",
       "      <td>about the author, marian keyes is the author o...</td>\n",
       "      <td>the fast lane is much too slow for rachel wals...</td>\n",
       "    </tr>\n",
       "    <tr>\n",
       "      <th>3</th>\n",
       "      <td>a10f5lmypxqydf</td>\n",
       "      <td>60724560</td>\n",
       "      <td>1183852800</td>\n",
       "      <td>3</td>\n",
       "      <td>0</td>\n",
       "      <td>princess on the brink princess diaries, vol. 8</td>\n",
       "      <td>from, booklist, princess mia, now a highschool...</td>\n",
       "      <td>at last, mia is a junior. an upperclassperson....</td>\n",
       "    </tr>\n",
       "    <tr>\n",
       "      <th>4</th>\n",
       "      <td>a10f8dlu94ackp</td>\n",
       "      <td>545123283</td>\n",
       "      <td>1302048000</td>\n",
       "      <td>4</td>\n",
       "      <td>0</td>\n",
       "      <td>linger</td>\n",
       "      <td>amazon.com review, amazon exclusive a qa with ...</td>\n",
       "      <td>in maggie stiefvaters shiver, grace and sam fo...</td>\n",
       "    </tr>\n",
       "  </tbody>\n",
       "</table>\n",
       "</div>"
      ],
      "text/plain": [
       "          user_id    item_id   timestamp  rating  serendipity  \\\n",
       "0  a10f5lmypxqydf  380761319  1140048000       5            0   \n",
       "1  a10f5lmypxqydf  373294395  1173484800       4            0   \n",
       "2  a10f5lmypxqydf   60090383  1176595200       5            1   \n",
       "3  a10f5lmypxqydf   60724560  1183852800       3            0   \n",
       "4  a10f8dlu94ackp  545123283  1302048000       4            0   \n",
       "\n",
       "                                            title  \\\n",
       "0                         the shadow and the star   \n",
       "1                                     beau crusoe   \n",
       "2                                 rachels holiday   \n",
       "3  princess on the brink princess diaries, vol. 8   \n",
       "4                                          linger   \n",
       "\n",
       "                                         description  \\\n",
       "0  from publishers weekly, kinsale  the prince of...   \n",
       "1  about the author, i started writing regencies ...   \n",
       "2  about the author, marian keyes is the author o...   \n",
       "3  from, booklist, princess mia, now a highschool...   \n",
       "4  amazon.com review, amazon exclusive a qa with ...   \n",
       "\n",
       "                                            features  \n",
       "0  from nationally acclaimed bestselling author l...  \n",
       "1  shipwrecked!stranded alone on a desert island,...  \n",
       "2  the fast lane is much too slow for rachel wals...  \n",
       "3  at last, mia is a junior. an upperclassperson....  \n",
       "4  in maggie stiefvaters shiver, grace and sam fo...  "
      ]
     },
     "execution_count": 11,
     "metadata": {},
     "output_type": "execute_result"
    }
   ],
   "source": [
    "df = pd.read_csv(\"../Data/serenlens_with_features_cleaned_filtered.csv\", dtype={'item_id': str}, sep=\";\")\n",
    "df.head()"
   ]
  },
  {
   "cell_type": "code",
   "execution_count": 12,
   "id": "cc626d21-fcdf-41c4-a888-7fd8d6c180d3",
   "metadata": {},
   "outputs": [
    {
     "data": {
      "text/html": [
       "<div>\n",
       "<style scoped>\n",
       "    .dataframe tbody tr th:only-of-type {\n",
       "        vertical-align: middle;\n",
       "    }\n",
       "\n",
       "    .dataframe tbody tr th {\n",
       "        vertical-align: top;\n",
       "    }\n",
       "\n",
       "    .dataframe thead th {\n",
       "        text-align: right;\n",
       "    }\n",
       "</style>\n",
       "<table border=\"1\" class=\"dataframe\">\n",
       "  <thead>\n",
       "    <tr style=\"text-align: right;\">\n",
       "      <th></th>\n",
       "      <th>userID</th>\n",
       "      <th>itemID</th>\n",
       "      <th>time</th>\n",
       "      <th>label</th>\n",
       "    </tr>\n",
       "  </thead>\n",
       "  <tbody>\n",
       "    <tr>\n",
       "      <th>0</th>\n",
       "      <td>a10f5lmypxqydf</td>\n",
       "      <td>380761319</td>\n",
       "      <td>1140048000</td>\n",
       "      <td>0</td>\n",
       "    </tr>\n",
       "    <tr>\n",
       "      <th>1</th>\n",
       "      <td>a10f5lmypxqydf</td>\n",
       "      <td>373294395</td>\n",
       "      <td>1173484800</td>\n",
       "      <td>0</td>\n",
       "    </tr>\n",
       "    <tr>\n",
       "      <th>2</th>\n",
       "      <td>a10f5lmypxqydf</td>\n",
       "      <td>60090383</td>\n",
       "      <td>1176595200</td>\n",
       "      <td>1</td>\n",
       "    </tr>\n",
       "    <tr>\n",
       "      <th>3</th>\n",
       "      <td>a10f5lmypxqydf</td>\n",
       "      <td>60724560</td>\n",
       "      <td>1183852800</td>\n",
       "      <td>0</td>\n",
       "    </tr>\n",
       "    <tr>\n",
       "      <th>4</th>\n",
       "      <td>a10f8dlu94ackp</td>\n",
       "      <td>545123283</td>\n",
       "      <td>1302048000</td>\n",
       "      <td>0</td>\n",
       "    </tr>\n",
       "  </tbody>\n",
       "</table>\n",
       "</div>"
      ],
      "text/plain": [
       "           userID     itemID        time  label\n",
       "0  a10f5lmypxqydf  380761319  1140048000      0\n",
       "1  a10f5lmypxqydf  373294395  1173484800      0\n",
       "2  a10f5lmypxqydf   60090383  1176595200      1\n",
       "3  a10f5lmypxqydf   60724560  1183852800      0\n",
       "4  a10f8dlu94ackp  545123283  1302048000      0"
      ]
     },
     "execution_count": 12,
     "metadata": {},
     "output_type": "execute_result"
    }
   ],
   "source": [
    "df['userID'] = df['user_id'].str.lower()\n",
    "df['itemID'] = df['item_id'].str.lower()\n",
    "df['time'] = df['timestamp']\n",
    "df['label'] = df['serendipity']\n",
    "\n",
    "df.drop(columns=['user_id','item_id','timestamp','serendipity','title','features','description', 'rating'], inplace=True)\n",
    "df.head()"
   ]
  },
  {
   "cell_type": "code",
   "execution_count": 13,
   "id": "c37e0e8f-3d90-4578-9d0a-8c7f7d847d0e",
   "metadata": {},
   "outputs": [],
   "source": [
    "user_set, item_set = set(df['userID'].unique()), set(df['itemID'].unique())\n",
    "user_map = dict()\n",
    "item_map = dict()\n",
    "for u, user in enumerate(user_set):\n",
    "    user_map[user] = u+1\n",
    "for i, item in enumerate(item_set):\n",
    "    item_map[item] = i+1\n",
    "\n",
    "df[\"userID\"] = df[\"userID\"].apply(lambda x: user_map[x])\n",
    "df[\"itemID\"] = df[\"itemID\"].apply(lambda x: item_map[x])\n",
    "df = df.sort_values(by=[\"userID\", \"time\"])\n",
    "df.drop(columns=[\"time\"], inplace=True)"
   ]
  },
  {
   "cell_type": "code",
   "execution_count": 15,
   "id": "de6e30cc-712a-4619-8ece-1cfa5871d810",
   "metadata": {},
   "outputs": [
    {
     "name": "stdout",
     "output_type": "stream",
     "text": [
      "Número de entradas com label igual a 1.0 seren: 494\n"
     ]
    }
   ],
   "source": [
    "count_label_1_seren = df[df['label'] == 1.0].shape[0]\n",
    "\n",
    "\n",
    "# Exibindo o resultado\n",
    "print(\"Número de entradas com label igual a 1.0 seren:\", count_label_1_seren)"
   ]
  },
  {
   "cell_type": "code",
   "execution_count": 16,
   "id": "2828f301-0987-442e-bef1-01aab113df13",
   "metadata": {},
   "outputs": [],
   "source": [
    "df.to_csv(os.path.join(data_dir, outfile), sep=\"\\t\", header=False, index=False)"
   ]
  },
  {
   "cell_type": "code",
   "execution_count": null,
   "id": "55c5271d-80da-4b6a-927b-082d754e371d",
   "metadata": {},
   "outputs": [],
   "source": []
  }
 ],
 "metadata": {
  "kernelspec": {
   "display_name": "Python 3 (ipykernel)",
   "language": "python",
   "name": "python3"
  },
  "language_info": {
   "codemirror_mode": {
    "name": "ipython",
    "version": 3
   },
   "file_extension": ".py",
   "mimetype": "text/x-python",
   "name": "python",
   "nbconvert_exporter": "python",
   "pygments_lexer": "ipython3",
   "version": "3.9.19"
  }
 },
 "nbformat": 4,
 "nbformat_minor": 5
}
