{
 "cells": [
  {
   "cell_type": "code",
   "execution_count": 1,
   "id": "f099cbe8",
   "metadata": {},
   "outputs": [
    {
     "name": "stdout",
     "output_type": "stream",
     "text": [
      "System version: 3.9.19 (main, Mar 21 2024, 17:21:27) [MSC v.1916 64 bit (AMD64)]\n",
      "Tensorflow version: 2.12.0\n"
     ]
    }
   ],
   "source": [
    "import sys\n",
    "import os\n",
    "import pandas as pd \n",
    "import tensorflow as tf\n",
    "tf.get_logger().setLevel('ERROR') # only show error messages\n",
    "\n",
    "from recommenders.datasets.amazon_reviews import get_review_data\n",
    "from recommenders.models.sasrec.ssept import SSEPT\n",
    "from recommenders.models.sasrec.sampler import WarpSampler\n",
    "from util_seren import SASRecDataSet\n",
    "from recommenders.utils.notebook_utils import store_metadata\n",
    "from recommenders.utils.timer import Timer\n",
    "\n",
    "from model_seren import SASREC \n",
    "\n",
    "print(f\"System version: {sys.version}\")\n",
    "print(f\"Tensorflow version: {tf.__version__}\")"
   ]
  },
  {
   "cell_type": "code",
   "execution_count": 2,
   "id": "945ebede",
   "metadata": {},
   "outputs": [],
   "source": [
    "num_epochs = 10\n",
    "batch_size = 128\n",
    "seed = 100  # Set None for non-deterministic result\n",
    "\n",
    "# data_dir = os.path.join(\"tests\", \"recsys_data\", \"RecSys\", \"SASRec-tf2\", \"data\")\n",
    "data_dir = os.path.join(\"./\")\n",
    "\n",
    "# Amazon Electronics Data\n",
    "dataset = \"reviews_Books_5\"\n",
    "\n",
    "lr = 0.0001  # learning rate\n",
    "maxlen = 150  # maximum sequence length for each user\n",
    "num_blocks = 3  # number of transformer blocks\n",
    "hidden_units = 128  # number of units in the attention calculation\n",
    "num_heads = 2  # number of attention heads\n",
    "dropout_rate = 0.2  # dropout rate\n",
    "l2_emb = 0.001  # L2 regularization coefficient (adjusted to 0.001)\n",
    "num_neg_test = 20  # number of negative examples per positive example\n",
    "model_name = 'sasrec'  # 'sasrec' or 'ssept'"
   ]
  },
  {
   "cell_type": "code",
   "execution_count": 3,
   "id": "de6e30cc-712a-4619-8ece-1cfa5871d810",
   "metadata": {},
   "outputs": [
    {
     "name": "stdout",
     "output_type": "stream",
     "text": [
      "./reviews_Books_5.txt\n",
      "477 Users and 8023 items\n",
      "average sequence length: 23.43\n"
     ]
    }
   ],
   "source": [
    "inp_file = os.path.join(data_dir, dataset + \".txt\")\n",
    "print(inp_file)\n",
    "\n",
    "# initiate a dataset class \n",
    "data = SASRecDataSet(filename=inp_file, col_sep=\"\\t\")\n",
    "\n",
    "# create train, validation and test splits\n",
    "data.split()\n",
    "\n",
    "# some statistics\n",
    "num_steps = int(len(data.user_train) / batch_size)\n",
    "cc = 0.0\n",
    "for u in data.user_train:\n",
    "    cc += len(data.user_train[u])\n",
    "print('%g Users and %g items' % (data.usernum, data.itemnum))\n",
    "print('average sequence length: %.2f' % (cc / len(data.user_train)))"
   ]
  },
  {
   "cell_type": "code",
   "execution_count": 4,
   "id": "b0f12f34-4bf8-4797-a63e-be354f859fff",
   "metadata": {},
   "outputs": [],
   "source": [
    "model = SASREC(item_num=data.itemnum,\n",
    "               seq_max_len=maxlen,\n",
    "               num_blocks=num_blocks,\n",
    "               embedding_dim=hidden_units,\n",
    "               attention_dim=hidden_units,\n",
    "               attention_num_heads=num_heads,\n",
    "               dropout_rate=dropout_rate,\n",
    "               conv_dims = [128, 128],\n",
    "               l2_reg=l2_emb,\n",
    "               num_neg_test=num_neg_test\n",
    ")\n",
    "\n",
    "optimizer = tf.keras.optimizers.Adam(learning_rate=lr)\n",
    "model.compile(optimizer=optimizer)"
   ]
  },
  {
   "cell_type": "code",
   "execution_count": 5,
   "id": "20b55063-49f4-4bf1-af51-fa4bce77fef4",
   "metadata": {},
   "outputs": [],
   "source": [
    "sampler = WarpSampler(data.user_train, data.usernum, data.itemnum, batch_size=batch_size, maxlen=maxlen, n_workers=3)\n"
   ]
  },
  {
   "cell_type": "code",
   "execution_count": 6,
   "id": "7f7b78ed-2c56-4a36-a818-afaed4e3c551",
   "metadata": {},
   "outputs": [
    {
     "name": "stderr",
     "output_type": "stream",
     "text": [
      "                                                                      \r"
     ]
    },
    {
     "name": "stdout",
     "output_type": "stream",
     "text": [
      "Evaluating...\n"
     ]
    },
    {
     "name": "stderr",
     "output_type": "stream",
     "text": [
      "                                                                      \r"
     ]
    },
    {
     "name": "stdout",
     "output_type": "stream",
     "text": [
      "\n",
      "epoch: 10, time: 31.6305741, valid: {'HT': {5: 0.2194513715710723, 10: 0.3740648379052369}, 'NDCG': {5: 0.1452883917793154, 10: 0.19499106050741455}, 'HRseren': {5: 0.35294117647058826, 10: 0.47058823529411764}, 'NDCGseren': {5: 0.23090301793552098, 10: 0.2706653561904578}})\n",
      "epoch: 10, time: 31.6305741,  test: {'HT': {5: 0.20448877805486285, 10: 0.3491271820448878}, 'NDCG': {5: 0.13453178233227422, 10: 0.18068590493865896}, 'HRseren': {5: 0.14285714285714285, 10: 0.3142857142857143}, 'NDCGseren': {5: 0.0862223588801714, 10: 0.13847915471110858}})\n"
     ]
    },
    {
     "name": "stderr",
     "output_type": "stream",
     "text": [
      "                                                                      \r"
     ]
    },
    {
     "name": "stdout",
     "output_type": "stream",
     "text": [
      "Results:\n",
      "HT@5: 0.20448877805486285\n",
      "HT@10: 0.34413965087281795\n",
      "NDCG@5: 0.13680388537582902\n",
      "NDCG@10: 0.18128716603501868\n",
      "HRseren@5: 0.14285714285714285\n",
      "HRseren@10: 0.34285714285714286\n",
      "NDCGseren@5: 0.09405799069200511\n",
      "NDCGseren@10: 0.16074126623180052\n",
      "Time cost for training is 1.30 mins\n"
     ]
    }
   ],
   "source": [
    "with Timer() as train_time:\n",
    "    results = model.train(data, sampler, num_epochs=num_epochs, batch_size=batch_size, lr=lr, val_epoch=10)\n",
    "\n",
    "print('Time cost for training is {0:.2f} mins'.format(train_time.interval/60.0))"
   ]
  },
  {
   "cell_type": "code",
   "execution_count": 7,
   "id": "015df5fd-fc11-47a4-9d6b-d7369b16612e",
   "metadata": {
    "scrolled": true
   },
   "outputs": [
    {
     "name": "stdout",
     "output_type": "stream",
     "text": [
      "{'HT': {5: 0.20448877805486285, 10: 0.34413965087281795}, 'NDCG': {5: 0.13680388537582902, 10: 0.18128716603501868}, 'HRseren': {5: 0.14285714285714285, 10: 0.34285714285714286}, 'NDCGseren': {5: 0.09405799069200511, 10: 0.16074126623180052}}\n"
     ]
    }
   ],
   "source": [
    "print(results)"
   ]
  },
  {
   "cell_type": "code",
   "execution_count": 8,
   "id": "665c712c-d0a9-42cd-9c47-e0eadc5d222c",
   "metadata": {},
   "outputs": [
    {
     "name": "stderr",
     "output_type": "stream",
     "text": [
      "  0%|                               | 1/477 [00:00<01:04,  7.41user/s]"
     ]
    },
    {
     "name": "stdout",
     "output_type": "stream",
     "text": [
      "user 1 processed. 80 interactions.\n",
      "user 2 processed. 7 interactions.\n",
      "user 3 processed. 10 interactions.\n",
      "user 4 processed. 4 interactions.\n",
      "user 5 processed. 22 interactions.\n",
      "user 6 processed. 3 interactions.\n"
     ]
    },
    {
     "name": "stderr",
     "output_type": "stream",
     "text": [
      "  3%|▊                             | 12/477 [00:00<00:08, 54.35user/s]"
     ]
    },
    {
     "name": "stdout",
     "output_type": "stream",
     "text": [
      "user 7 processed. 18 interactions.\n",
      "user 8 processed. 4 interactions.\n",
      "user 9 processed. 3 interactions.\n",
      "user 10 processed. 21 interactions.\n",
      "user 11 processed. 2 interactions.\n",
      "user 12 processed. 38 interactions.\n",
      "user 13 processed. 1 interactions.\n",
      "user 14 processed. 15 interactions.\n"
     ]
    },
    {
     "name": "stderr",
     "output_type": "stream",
     "text": [
      "  5%|█▍                            | 23/477 [00:00<00:10, 41.68user/s]"
     ]
    },
    {
     "name": "stdout",
     "output_type": "stream",
     "text": [
      "user 15 processed. 105 interactions.\n",
      "user 16 processed. 15 interactions.\n",
      "user 17 processed. 17 interactions.\n",
      "user 18 processed. 1 interactions.\n",
      "user 19 processed. 85 interactions.\n",
      "user 20 processed. 6 interactions.\n",
      "user 21 processed. 5 interactions.\n",
      "user 22 processed. 6 interactions.\n",
      "user 23 processed. 7 interactions.\n"
     ]
    },
    {
     "name": "stderr",
     "output_type": "stream",
     "text": [
      "  6%|█▊                            | 28/477 [00:00<00:12, 36.30user/s]"
     ]
    },
    {
     "name": "stdout",
     "output_type": "stream",
     "text": [
      "user 24 processed. 94 interactions.\n",
      "user 25 processed. 25 interactions.\n",
      "user 26 processed. 24 interactions.\n",
      "user 27 processed. 1 interactions.\n",
      "user 28 processed. 4 interactions.\n",
      "user 29 processed. 7 interactions.\n"
     ]
    },
    {
     "name": "stderr",
     "output_type": "stream",
     "text": [
      "  7%|██                            | 32/477 [00:01<00:17, 25.83user/s]"
     ]
    },
    {
     "name": "stdout",
     "output_type": "stream",
     "text": [
      "user 30 processed. 121 interactions.\n",
      "user 31 processed. 2 interactions.\n",
      "user 32 processed. 109 interactions.\n",
      "user 33 processed. 1 interactions.\n",
      "user 34 processed. 10 interactions.\n",
      "user 35 processed. 34 interactions.\n"
     ]
    },
    {
     "name": "stderr",
     "output_type": "stream",
     "text": [
      " 10%|██▉                           | 46/477 [00:01<00:10, 41.91user/s]"
     ]
    },
    {
     "name": "stdout",
     "output_type": "stream",
     "text": [
      "user 36 processed. 51 interactions.\n",
      "user 37 processed. 4 interactions.\n",
      "user 38 processed. 22 interactions.\n",
      "user 39 processed. 7 interactions.\n",
      "user 40 processed. 16 interactions.\n",
      "user 41 processed. 15 interactions.\n",
      "user 42 processed. 1 interactions.\n",
      "user 43 processed. 15 interactions.\n",
      "user 44 processed. 7 interactions.\n",
      "user 45 processed. 46 interactions.\n",
      "user 46 processed. 17 interactions.\n",
      "user 47 processed. 24 interactions.\n",
      "user 48 processed. 40 interactions.\n",
      "user 49 processed. 10 interactions.\n",
      "user 50 processed. 1 interactions.\n",
      "user 51 processed. 4 interactions.\n"
     ]
    },
    {
     "name": "stderr",
     "output_type": "stream",
     "text": [
      " 13%|███▊                          | 60/477 [00:01<00:09, 44.07user/s]"
     ]
    },
    {
     "name": "stdout",
     "output_type": "stream",
     "text": [
      "user 52 processed. 92 interactions.\n",
      "user 53 processed. 6 interactions.\n",
      "user 54 processed. 18 interactions.\n",
      "user 55 processed. 3 interactions.\n",
      "user 56 processed. 21 interactions.\n",
      "user 57 processed. 6 interactions.\n",
      "user 58 processed. 8 interactions.\n",
      "user 59 processed. 6 interactions.\n",
      "user 60 processed. 9 interactions.\n",
      "user 61 processed. 1 interactions.\n",
      "user 62 processed. 22 interactions.\n",
      "user 63 processed. 41 interactions.\n",
      "user 64 processed. 4 interactions.\n",
      "user 65 processed. 13 interactions.\n",
      "user 66 processed. 2 interactions.\n",
      "user 67 processed. 4 interactions.\n",
      "user 68 processed. 4 interactions.\n",
      "user 69 processed. 4 interactions.\n"
     ]
    },
    {
     "name": "stderr",
     "output_type": "stream",
     "text": [
      " 15%|████▍                         | 71/477 [00:01<00:06, 58.75user/s]"
     ]
    },
    {
     "name": "stdout",
     "output_type": "stream",
     "text": [
      "user 70 processed. 10 interactions.\n",
      "user 71 processed. 2 interactions.\n",
      "user 72 processed. 88 interactions.\n",
      "user 73 processed. 4 interactions.\n",
      "user 74 processed. 4 interactions.\n",
      "user 75 processed. 57 interactions.\n",
      "user 76 processed. 4 interactions.\n",
      "user 77 processed. 16 interactions.\n"
     ]
    },
    {
     "name": "stderr",
     "output_type": "stream",
     "text": [
      " 18%|█████▎                        | 84/477 [00:02<00:10, 38.36user/s]"
     ]
    },
    {
     "name": "stdout",
     "output_type": "stream",
     "text": [
      "user 78 processed. 107 interactions.\n",
      "user 79 processed. 11 interactions.\n",
      "user 80 processed. 6 interactions.\n",
      "user 81 processed. 85 interactions.\n",
      "user 82 processed. 2 interactions.\n",
      "user 83 processed. 1 interactions.\n",
      "user 84 processed. 56 interactions.\n"
     ]
    },
    {
     "name": "stderr",
     "output_type": "stream",
     "text": [
      " 19%|█████▋                        | 91/477 [00:02<00:09, 41.09user/s]"
     ]
    },
    {
     "name": "stdout",
     "output_type": "stream",
     "text": [
      "user 85 processed. 3 interactions.\n",
      "user 86 processed. 6 interactions.\n",
      "user 87 processed. 17 interactions.\n",
      "user 88 processed. 10 interactions.\n",
      "user 89 processed. 7 interactions.\n",
      "user 90 processed. 18 interactions.\n",
      "user 91 processed. 60 interactions.\n",
      "user 92 processed. 18 interactions.\n",
      "user 93 processed. 6 interactions.\n",
      "user 94 processed. 1 interactions.\n",
      "user 95 processed. 2 interactions.\n",
      "user 96 processed. 4 interactions.\n",
      "user 97 processed. 6 interactions.\n",
      "user 98 processed. 7 interactions.\n",
      "user 99 processed. 4 interactions.\n"
     ]
    },
    {
     "name": "stderr",
     "output_type": "stream",
     "text": [
      " 21%|██████▏                      | 102/477 [00:02<00:07, 53.54user/s]"
     ]
    },
    {
     "name": "stdout",
     "output_type": "stream",
     "text": [
      "user 100 processed. 4 interactions.\n",
      "user 101 processed. 42 interactions.\n",
      "user 102 processed. 6 interactions.\n",
      "user 103 processed. 6 interactions.\n",
      "user 104 processed. 271 interactions.\n"
     ]
    },
    {
     "name": "stderr",
     "output_type": "stream",
     "text": [
      " 23%|██████▋                      | 109/477 [00:03<00:15, 23.17user/s]"
     ]
    },
    {
     "name": "stdout",
     "output_type": "stream",
     "text": [
      "user 105 processed. 147 interactions.\n",
      "user 106 processed. 13 interactions.\n",
      "user 107 processed. 34 interactions.\n",
      "user 108 processed. 51 interactions.\n",
      "user 109 processed. 5 interactions.\n"
     ]
    },
    {
     "name": "stderr",
     "output_type": "stream",
     "text": [
      " 26%|███████▍                     | 122/477 [00:03<00:10, 32.79user/s]"
     ]
    },
    {
     "name": "stdout",
     "output_type": "stream",
     "text": [
      "user 110 processed. 63 interactions.\n",
      "user 111 processed. 6 interactions.\n",
      "user 112 processed. 4 interactions.\n",
      "user 113 processed. 3 interactions.\n",
      "user 114 processed. 50 interactions.\n",
      "user 115 processed. 2 interactions.\n",
      "user 116 processed. 3 interactions.\n",
      "user 117 processed. 23 interactions.\n",
      "user 118 processed. 3 interactions.\n",
      "user 119 processed. 3 interactions.\n",
      "user 120 processed. 4 interactions.\n",
      "user 121 processed. 1 interactions.\n",
      "user 122 processed. 24 interactions.\n",
      "user 123 processed. 14 interactions.\n"
     ]
    },
    {
     "name": "stderr",
     "output_type": "stream",
     "text": [
      " 27%|███████▊                     | 128/477 [00:03<00:09, 36.54user/s]"
     ]
    },
    {
     "name": "stdout",
     "output_type": "stream",
     "text": [
      "user 124 processed. 28 interactions.\n",
      "user 125 processed. 16 interactions.\n",
      "user 126 processed. 6 interactions.\n",
      "user 127 processed. 1 interactions.\n",
      "user 128 processed. 2 interactions.\n",
      "user 129 processed. 23 interactions.\n",
      "user 130 processed. 13 interactions.\n",
      "user 131 processed. 6 interactions.\n",
      "user 132 processed. 2 interactions.\n",
      "user 133 processed. 2 interactions.\n",
      "user 134 processed. 4 interactions.\n"
     ]
    },
    {
     "name": "stderr",
     "output_type": "stream",
     "text": [
      " 29%|████████▌                    | 140/477 [00:04<00:18, 18.67user/s]"
     ]
    },
    {
     "name": "stdout",
     "output_type": "stream",
     "text": [
      "user 135 processed. 421 interactions.\n",
      "user 136 processed. 8 interactions.\n",
      "user 137 processed. 75 interactions.\n",
      "user 138 processed. 16 interactions.\n",
      "user 139 processed. 4 interactions.\n",
      "user 140 processed. 41 interactions.\n",
      "user 141 processed. 18 interactions.\n",
      "user 142 processed. 9 interactions.\n",
      "user 143 processed. 5 interactions.\n",
      "user 144 processed. 4 interactions.\n",
      "user 145 processed. 10 interactions.\n"
     ]
    },
    {
     "name": "stderr",
     "output_type": "stream",
     "text": [
      " 31%|████████▉                    | 147/477 [00:04<00:14, 23.29user/s]"
     ]
    },
    {
     "name": "stdout",
     "output_type": "stream",
     "text": [
      "user 146 processed. 8 interactions.\n",
      "user 147 processed. 67 interactions.\n",
      "user 148 processed. 13 interactions.\n",
      "user 149 processed. 3 interactions.\n",
      "user 150 processed. 5 interactions.\n",
      "user 151 processed. 2 interactions.\n",
      "user 152 processed. 10 interactions.\n",
      "user 153 processed. 1 interactions.\n",
      "user 154 processed. 3 interactions.\n",
      "user 155 processed. 7 interactions.\n",
      "user 156 processed. 1 interactions.\n",
      "user 157 processed. 17 interactions.\n",
      "user 158 processed. 5 interactions.\n",
      "user 159 processed. 4 interactions.\n"
     ]
    },
    {
     "name": "stderr",
     "output_type": "stream",
     "text": [
      " 35%|██████████▏                  | 167/477 [00:05<00:07, 40.43user/s]"
     ]
    },
    {
     "name": "stdout",
     "output_type": "stream",
     "text": [
      "user 160 processed. 8 interactions.\n",
      "user 161 processed. 5 interactions.\n",
      "user 162 processed. 18 interactions.\n",
      "user 163 processed. 3 interactions.\n",
      "user 164 processed. 9 interactions.\n",
      "user 165 processed. 26 interactions.\n",
      "user 166 processed. 61 interactions.\n",
      "user 167 processed. 1 interactions.\n",
      "user 168 processed. 18 interactions.\n",
      "user 169 processed. 14 interactions.\n"
     ]
    },
    {
     "name": "stderr",
     "output_type": "stream",
     "text": [
      " 38%|██████████▉                  | 179/477 [00:06<00:13, 21.84user/s]"
     ]
    },
    {
     "name": "stdout",
     "output_type": "stream",
     "text": [
      "user 170 processed. 467 interactions.\n",
      "user 171 processed. 2 interactions.\n",
      "user 172 processed. 8 interactions.\n",
      "user 173 processed. 5 interactions.\n",
      "user 174 processed. 21 interactions.\n",
      "user 175 processed. 22 interactions.\n",
      "user 176 processed. 2 interactions.\n",
      "user 177 processed. 65 interactions.\n",
      "user 178 processed. 4 interactions.\n",
      "user 179 processed. 39 interactions.\n",
      "user 180 processed. 13 interactions.\n",
      "user 181 processed. 4 interactions.\n",
      "user 182 processed. 2 interactions.\n",
      "user 183 processed. 12 interactions.\n",
      "user 184 processed. 1 interactions.\n"
     ]
    },
    {
     "name": "stderr",
     "output_type": "stream",
     "text": [
      " 41%|███████████▊                 | 194/477 [00:06<00:10, 27.76user/s]"
     ]
    },
    {
     "name": "stdout",
     "output_type": "stream",
     "text": [
      "user 185 processed. 147 interactions.\n",
      "user 186 processed. 4 interactions.\n",
      "user 187 processed. 19 interactions.\n",
      "user 188 processed. 18 interactions.\n",
      "user 189 processed. 10 interactions.\n",
      "user 190 processed. 3 interactions.\n",
      "user 191 processed. 2 interactions.\n",
      "user 192 processed. 2 interactions.\n",
      "user 193 processed. 8 interactions.\n",
      "user 194 processed. 105 interactions.\n"
     ]
    },
    {
     "name": "stderr",
     "output_type": "stream",
     "text": [
      " 42%|████████████▏                | 200/477 [00:06<00:08, 32.24user/s]"
     ]
    },
    {
     "name": "stdout",
     "output_type": "stream",
     "text": [
      "user 195 processed. 3 interactions.\n",
      "user 196 processed. 61 interactions.\n",
      "user 197 processed. 28 interactions.\n",
      "user 198 processed. 4 interactions.\n",
      "user 199 processed. 15 interactions.\n",
      "user 200 processed. 20 interactions.\n",
      "user 201 processed. 3 interactions.\n",
      "user 202 processed. 9 interactions.\n",
      "user 203 processed. 17 interactions.\n",
      "user 204 processed. 8 interactions.\n",
      "user 205 processed. 2 interactions.\n",
      "user 206 processed. 28 interactions.\n",
      "user 207 processed. 9 interactions.\n",
      "user 208 processed. 6 interactions.\n"
     ]
    },
    {
     "name": "stderr",
     "output_type": "stream",
     "text": [
      " 44%|████████████▋                | 209/477 [00:06<00:06, 41.15user/s]"
     ]
    },
    {
     "name": "stdout",
     "output_type": "stream",
     "text": [
      "user 209 processed. 44 interactions.\n"
     ]
    },
    {
     "name": "stderr",
     "output_type": "stream",
     "text": [
      " 45%|█████████████                | 215/477 [00:06<00:08, 32.46user/s]"
     ]
    },
    {
     "name": "stdout",
     "output_type": "stream",
     "text": [
      "user 210 processed. 190 interactions.\n",
      "user 211 processed. 61 interactions.\n",
      "user 212 processed. 1 interactions.\n",
      "user 213 processed. 12 interactions.\n",
      "user 214 processed. 3 interactions.\n",
      "user 215 processed. 4 interactions.\n",
      "user 216 processed. 3 interactions.\n",
      "user 217 processed. 2 interactions.\n",
      "user 218 processed. 72 interactions.\n",
      "user 219 processed. 2 interactions.\n",
      "user 220 processed. 13 interactions.\n",
      "user 221 processed. 5 interactions.\n"
     ]
    },
    {
     "name": "stderr",
     "output_type": "stream",
     "text": [
      " 47%|█████████████▍               | 222/477 [00:07<00:07, 34.33user/s]"
     ]
    },
    {
     "name": "stdout",
     "output_type": "stream",
     "text": [
      "user 222 processed. 93 interactions.\n",
      "user 223 processed. 8 interactions.\n",
      "user 224 processed. 103 interactions.\n"
     ]
    },
    {
     "name": "stderr",
     "output_type": "stream",
     "text": [
      " 49%|██████████████▎              | 236/477 [00:07<00:06, 34.75user/s]"
     ]
    },
    {
     "name": "stdout",
     "output_type": "stream",
     "text": [
      "user 225 processed. 114 interactions.\n",
      "user 226 processed. 2 interactions.\n",
      "user 227 processed. 7 interactions.\n",
      "user 228 processed. 11 interactions.\n",
      "user 229 processed. 8 interactions.\n",
      "user 230 processed. 20 interactions.\n",
      "user 231 processed. 3 interactions.\n",
      "user 232 processed. 1 interactions.\n",
      "user 233 processed. 10 interactions.\n",
      "user 234 processed. 7 interactions.\n",
      "user 235 processed. 14 interactions.\n",
      "user 236 processed. 115 interactions.\n",
      "user 237 processed. 8 interactions.\n",
      "user 238 processed. 4 interactions.\n",
      "user 239 processed. 3 interactions.\n"
     ]
    },
    {
     "name": "stderr",
     "output_type": "stream",
     "text": [
      " 53%|███████████████▎             | 252/477 [00:07<00:04, 55.24user/s]"
     ]
    },
    {
     "name": "stdout",
     "output_type": "stream",
     "text": [
      "user 240 processed. 18 interactions.\n",
      "user 241 processed. 20 interactions.\n",
      "user 242 processed. 1 interactions.\n",
      "user 243 processed. 3 interactions.\n",
      "user 244 processed. 5 interactions.\n",
      "user 245 processed. 18 interactions.\n",
      "user 246 processed. 5 interactions.\n",
      "user 247 processed. 2 interactions.\n",
      "user 248 processed. 10 interactions.\n",
      "user 249 processed. 8 interactions.\n",
      "user 250 processed. 4 interactions.\n",
      "user 251 processed. 3 interactions.\n",
      "user 252 processed. 6 interactions.\n",
      "user 253 processed. 18 interactions.\n",
      "user 254 processed. 2 interactions.\n",
      "user 255 processed. 2 interactions.\n",
      "user 256 processed. 4 interactions.\n",
      "user 257 processed. 2 interactions.\n",
      "user 258 processed. 4 interactions.\n",
      "user 259 processed. 14 interactions.\n",
      "user 260 processed. 63 interactions.\n",
      "user 261 processed. 1 interactions.\n"
     ]
    },
    {
     "name": "stderr",
     "output_type": "stream",
     "text": [
      " 55%|███████████████▉             | 262/477 [00:07<00:03, 54.94user/s]"
     ]
    },
    {
     "name": "stdout",
     "output_type": "stream",
     "text": [
      "user 262 processed. 77 interactions.\n",
      "user 263 processed. 2 interactions.\n",
      "user 264 processed. 48 interactions.\n",
      "user 265 processed. 4 interactions.\n",
      "user 266 processed. 8 interactions.\n",
      "user 267 processed. 68 interactions.\n",
      "user 268 processed. 2 interactions.\n"
     ]
    },
    {
     "name": "stderr",
     "output_type": "stream",
     "text": [
      " 60%|█████████████████▎           | 284/477 [00:08<00:04, 46.14user/s]"
     ]
    },
    {
     "name": "stdout",
     "output_type": "stream",
     "text": [
      "user 269 processed. 251 interactions.\n",
      "user 270 processed. 5 interactions.\n",
      "user 271 processed. 1 interactions.\n",
      "user 272 processed. 4 interactions.\n",
      "user 273 processed. 5 interactions.\n",
      "user 274 processed. 4 interactions.\n",
      "user 275 processed. 3 interactions.\n",
      "user 276 processed. 15 interactions.\n",
      "user 277 processed. 21 interactions.\n",
      "user 278 processed. 2 interactions.\n",
      "user 279 processed. 1 interactions.\n",
      "user 280 processed. 4 interactions.\n",
      "user 281 processed. 1 interactions.\n",
      "user 282 processed. 2 interactions.\n",
      "user 283 processed. 9 interactions.\n",
      "user 284 processed. 73 interactions.\n",
      "user 285 processed. 1 interactions.\n"
     ]
    },
    {
     "name": "stderr",
     "output_type": "stream",
     "text": [
      " 61%|█████████████████▋           | 291/477 [00:08<00:04, 46.32user/s]"
     ]
    },
    {
     "name": "stdout",
     "output_type": "stream",
     "text": [
      "user 286 processed. 55 interactions.\n",
      "user 287 processed. 4 interactions.\n",
      "user 288 processed. 41 interactions.\n",
      "user 289 processed. 5 interactions.\n",
      "user 290 processed. 7 interactions.\n",
      "user 291 processed. 5 interactions.\n",
      "user 292 processed. 1 interactions.\n",
      "user 293 processed. 2 interactions.\n",
      "user 294 processed. 94 interactions.\n",
      "user 295 processed. 12 interactions.\n",
      "user 296 processed. 3 interactions.\n"
     ]
    },
    {
     "name": "stderr",
     "output_type": "stream",
     "text": [
      " 65%|██████████████████▉          | 311/477 [00:08<00:02, 59.09user/s]"
     ]
    },
    {
     "name": "stdout",
     "output_type": "stream",
     "text": [
      "user 297 processed. 11 interactions.\n",
      "user 298 processed. 3 interactions.\n",
      "user 299 processed. 9 interactions.\n",
      "user 300 processed. 3 interactions.\n",
      "user 301 processed. 12 interactions.\n",
      "user 302 processed. 2 interactions.\n",
      "user 303 processed. 3 interactions.\n",
      "user 304 processed. 38 interactions.\n",
      "user 305 processed. 5 interactions.\n",
      "user 306 processed. 1 interactions.\n",
      "user 307 processed. 5 interactions.\n",
      "user 308 processed. 38 interactions.\n",
      "user 309 processed. 4 interactions.\n",
      "user 310 processed. 6 interactions.\n",
      "user 311 processed. 43 interactions.\n",
      "user 312 processed. 9 interactions.\n",
      "user 313 processed. 2 interactions.\n",
      "user 314 processed. 19 interactions.\n",
      "user 315 processed. 2 interactions.\n",
      "user 316 processed. 52 interactions.\n",
      "user 317 processed. 6 interactions.\n"
     ]
    },
    {
     "name": "stderr",
     "output_type": "stream",
     "text": [
      " 67%|███████████████████▎         | 318/477 [00:09<00:02, 58.32user/s]"
     ]
    },
    {
     "name": "stdout",
     "output_type": "stream",
     "text": [
      "user 318 processed. 70 interactions.\n",
      "user 319 processed. 2 interactions.\n",
      "user 320 processed. 5 interactions.\n",
      "user 321 processed. 2 interactions.\n",
      "user 322 processed. 3 interactions.\n",
      "user 323 processed. 4 interactions.\n",
      "user 324 processed. 3 interactions.\n",
      "user 325 processed. 5 interactions.\n",
      "user 326 processed. 13 interactions.\n"
     ]
    },
    {
     "name": "stderr",
     "output_type": "stream",
     "text": [
      " 69%|███████████████████▉         | 327/477 [00:09<00:02, 51.69user/s]"
     ]
    },
    {
     "name": "stdout",
     "output_type": "stream",
     "text": [
      "user 327 processed. 165 interactions.\n",
      "user 328 processed. 19 interactions.\n",
      "user 329 processed. 12 interactions.\n",
      "user 330 processed. 4 interactions.\n"
     ]
    },
    {
     "name": "stderr",
     "output_type": "stream",
     "text": [
      " 70%|████████████████████▏        | 333/477 [00:09<00:03, 42.10user/s]"
     ]
    },
    {
     "name": "stdout",
     "output_type": "stream",
     "text": [
      "user 331 processed. 174 interactions.\n",
      "user 332 processed. 4 interactions.\n",
      "user 333 processed. 5 interactions.\n",
      "user 334 processed. 29 interactions.\n",
      "user 335 processed. 5 interactions.\n",
      "user 336 processed. 4 interactions.\n",
      "user 337 processed. 5 interactions.\n",
      "user 338 processed. 13 interactions.\n",
      "user 339 processed. 5 interactions.\n",
      "user 340 processed. 9 interactions.\n",
      "user 341 processed. 5 interactions.\n",
      "user 342 processed. 18 interactions.\n"
     ]
    },
    {
     "name": "stderr",
     "output_type": "stream",
     "text": [
      " 72%|████████████████████▊        | 343/477 [00:09<00:04, 31.71user/s]"
     ]
    },
    {
     "name": "stdout",
     "output_type": "stream",
     "text": [
      "user 343 processed. 273 interactions.\n",
      "user 344 processed. 15 interactions.\n",
      "user 345 processed. 3 interactions.\n",
      "user 346 processed. 14 interactions.\n",
      "user 347 processed. 32 interactions.\n"
     ]
    },
    {
     "name": "stderr",
     "output_type": "stream",
     "text": [
      " 73%|█████████████████████▏       | 348/477 [00:10<00:04, 28.56user/s]"
     ]
    },
    {
     "name": "stdout",
     "output_type": "stream",
     "text": [
      "user 348 processed. 144 interactions.\n",
      "user 349 processed. 102 interactions.\n"
     ]
    },
    {
     "name": "stderr",
     "output_type": "stream",
     "text": [
      " 75%|█████████████████████▉       | 360/477 [00:10<00:03, 31.51user/s]"
     ]
    },
    {
     "name": "stdout",
     "output_type": "stream",
     "text": [
      "user 350 processed. 84 interactions.\n",
      "user 351 processed. 15 interactions.\n",
      "user 352 processed. 3 interactions.\n",
      "user 353 processed. 4 interactions.\n",
      "user 354 processed. 6 interactions.\n",
      "user 355 processed. 35 interactions.\n",
      "user 356 processed. 3 interactions.\n",
      "user 357 processed. 4 interactions.\n",
      "user 358 processed. 5 interactions.\n",
      "user 359 processed. 7 interactions.\n",
      "user 360 processed. 30 interactions.\n",
      "user 361 processed. 41 interactions.\n",
      "user 362 processed. 15 interactions.\n",
      "user 363 processed. 2 interactions.\n"
     ]
    },
    {
     "name": "stderr",
     "output_type": "stream",
     "text": [
      " 78%|██████████████████████▍      | 370/477 [00:10<00:03, 32.42user/s]"
     ]
    },
    {
     "name": "stdout",
     "output_type": "stream",
     "text": [
      "user 364 processed. 66 interactions.\n",
      "user 365 processed. 5 interactions.\n",
      "user 366 processed. 2 interactions.\n",
      "user 367 processed. 8 interactions.\n",
      "user 368 processed. 42 interactions.\n",
      "user 369 processed. 114 interactions.\n",
      "user 370 processed. 6 interactions.\n",
      "user 371 processed. 3 interactions.\n",
      "user 372 processed. 2 interactions.\n",
      "user 373 processed. 2 interactions.\n"
     ]
    },
    {
     "name": "stderr",
     "output_type": "stream",
     "text": [
      " 79%|██████████████████████▊      | 375/477 [00:10<00:02, 35.71user/s]"
     ]
    },
    {
     "name": "stdout",
     "output_type": "stream",
     "text": [
      "user 374 processed. 80 interactions.\n",
      "user 375 processed. 11 interactions.\n",
      "user 376 processed. 3 interactions.\n"
     ]
    },
    {
     "name": "stderr",
     "output_type": "stream",
     "text": [
      " 80%|███████████████████████      | 380/477 [00:11<00:04, 23.05user/s]"
     ]
    },
    {
     "name": "stdout",
     "output_type": "stream",
     "text": [
      "user 377 processed. 340 interactions.\n",
      "user 378 processed. 7 interactions.\n",
      "user 379 processed. 3 interactions.\n",
      "user 380 processed. 4 interactions.\n",
      "user 381 processed. 72 interactions.\n",
      "user 382 processed. 26 interactions.\n",
      "user 383 processed. 3 interactions.\n",
      "user 384 processed. 4 interactions.\n",
      "user 385 processed. 20 interactions.\n"
     ]
    },
    {
     "name": "stderr",
     "output_type": "stream",
     "text": [
      " 81%|███████████████████████▍     | 386/477 [00:11<00:03, 25.34user/s]"
     ]
    },
    {
     "name": "stdout",
     "output_type": "stream",
     "text": [
      "user 386 processed. 76 interactions.\n",
      "user 387 processed. 12 interactions.\n",
      "user 388 processed. 12 interactions.\n",
      "user 389 processed. 136 interactions.\n"
     ]
    },
    {
     "name": "stderr",
     "output_type": "stream",
     "text": [
      " 82%|███████████████████████▉     | 393/477 [00:11<00:03, 23.72user/s]"
     ]
    },
    {
     "name": "stdout",
     "output_type": "stream",
     "text": [
      "user 390 processed. 4 interactions.\n",
      "user 391 processed. 1 interactions.\n",
      "user 392 processed. 78 interactions.\n",
      "user 393 processed. 6 interactions.\n",
      "user 394 processed. 5 interactions.\n",
      "user 395 processed. 1 interactions.\n"
     ]
    },
    {
     "name": "stderr",
     "output_type": "stream",
     "text": [
      " 83%|████████████████████████     | 396/477 [00:12<00:03, 23.12user/s]"
     ]
    },
    {
     "name": "stdout",
     "output_type": "stream",
     "text": [
      "user 396 processed. 93 interactions.\n",
      "user 397 processed. 2 interactions.\n",
      "user 398 processed. 28 interactions.\n",
      "user 399 processed. 6 interactions.\n",
      "user 400 processed. 3 interactions.\n",
      "user 401 processed. 4 interactions.\n",
      "user 402 processed. 4 interactions.\n",
      "user 403 processed. 15 interactions.\n",
      "user 404 processed. 1 interactions.\n",
      "user 405 processed. 2 interactions.\n"
     ]
    },
    {
     "name": "stderr",
     "output_type": "stream",
     "text": [
      " 86%|████████████████████████▉    | 411/477 [00:12<00:02, 32.00user/s]"
     ]
    },
    {
     "name": "stdout",
     "output_type": "stream",
     "text": [
      "user 406 processed. 128 interactions.\n",
      "user 407 processed. 57 interactions.\n",
      "user 408 processed. 5 interactions.\n",
      "user 409 processed. 4 interactions.\n",
      "user 410 processed. 7 interactions.\n",
      "user 411 processed. 55 interactions.\n",
      "user 412 processed. 19 interactions.\n"
     ]
    },
    {
     "name": "stderr",
     "output_type": "stream",
     "text": [
      " 88%|█████████████████████████▌   | 421/477 [00:12<00:01, 35.54user/s]"
     ]
    },
    {
     "name": "stdout",
     "output_type": "stream",
     "text": [
      "user 413 processed. 38 interactions.\n",
      "user 414 processed. 3 interactions.\n",
      "user 415 processed. 5 interactions.\n",
      "user 416 processed. 8 interactions.\n",
      "user 417 processed. 17 interactions.\n",
      "user 418 processed. 43 interactions.\n",
      "user 419 processed. 85 interactions.\n",
      "user 420 processed. 2 interactions.\n",
      "user 421 processed. 13 interactions.\n",
      "user 422 processed. 2 interactions.\n",
      "user 423 processed. 9 interactions.\n",
      "user 424 processed. 12 interactions.\n",
      "user 425 processed. 6 interactions.\n",
      "user 426 processed. 5 interactions.\n",
      "user 427 processed. 12 interactions.\n",
      "user 428 processed. 5 interactions.\n",
      "user 429 processed. 2 interactions.\n",
      "user 430 processed. 1 interactions.\n",
      "user 431 processed. 4 interactions.\n",
      "user 432 processed. 6 interactions.\n",
      "user 433 processed. 1 interactions.\n",
      "user 434 processed. 3 interactions.\n"
     ]
    },
    {
     "name": "stderr",
     "output_type": "stream",
     "text": [
      " 94%|███████████████████████████▏ | 448/477 [00:13<00:00, 54.61user/s]"
     ]
    },
    {
     "name": "stdout",
     "output_type": "stream",
     "text": [
      "user 435 processed. 181 interactions.\n",
      "user 436 processed. 3 interactions.\n",
      "user 437 processed. 4 interactions.\n",
      "user 438 processed. 11 interactions.\n",
      "user 439 processed. 5 interactions.\n",
      "user 440 processed. 2 interactions.\n",
      "user 441 processed. 6 interactions.\n",
      "user 442 processed. 28 interactions.\n",
      "user 443 processed. 4 interactions.\n",
      "user 444 processed. 39 interactions.\n",
      "user 445 processed. 7 interactions.\n",
      "user 446 processed. 3 interactions.\n",
      "user 447 processed. 4 interactions.\n",
      "user 448 processed. 19 interactions.\n",
      "user 449 processed. 65 interactions.\n",
      "user 450 processed. 16 interactions.\n"
     ]
    },
    {
     "name": "stderr",
     "output_type": "stream",
     "text": [
      " 95%|███████████████████████████▌ | 454/477 [00:13<00:00, 51.28user/s]"
     ]
    },
    {
     "name": "stdout",
     "output_type": "stream",
     "text": [
      "user 451 processed. 4 interactions.\n",
      "user 452 processed. 36 interactions.\n",
      "user 453 processed. 36 interactions.\n",
      "user 454 processed. 11 interactions.\n",
      "user 455 processed. 119 interactions.\n",
      "user 456 processed. 6 interactions.\n",
      "user 457 processed. 56 interactions.\n",
      "user 458 processed. 74 interactions.\n",
      "user 459 processed. 2 interactions.\n"
     ]
    },
    {
     "name": "stderr",
     "output_type": "stream",
     "text": [
      " 97%|████████████████████████████▎| 465/477 [00:13<00:00, 31.56user/s]"
     ]
    },
    {
     "name": "stdout",
     "output_type": "stream",
     "text": [
      "user 460 processed. 152 interactions.\n",
      "user 461 processed. 4 interactions.\n",
      "user 462 processed. 5 interactions.\n",
      "user 463 processed. 3 interactions.\n",
      "user 464 processed. 101 interactions.\n",
      "user 465 processed. 3 interactions.\n"
     ]
    },
    {
     "name": "stderr",
     "output_type": "stream",
     "text": [
      " 99%|████████████████████████████▌| 470/477 [00:13<00:00, 30.89user/s]"
     ]
    },
    {
     "name": "stdout",
     "output_type": "stream",
     "text": [
      "user 466 processed. 111 interactions.\n",
      "user 467 processed. 17 interactions.\n",
      "user 468 processed. 5 interactions.\n",
      "user 469 processed. 3 interactions.\n",
      "user 470 processed. 28 interactions.\n",
      "user 471 processed. 2 interactions.\n",
      "user 472 processed. 5 interactions.\n",
      "user 473 processed. 5 interactions.\n"
     ]
    },
    {
     "name": "stderr",
     "output_type": "stream",
     "text": [
      "                                                                      "
     ]
    },
    {
     "name": "stdout",
     "output_type": "stream",
     "text": [
      "user 474 processed. 125 interactions.\n",
      "user 475 processed. 15 interactions.\n",
      "user 476 processed. 3 interactions.\n",
      "user 477 processed. 15 interactions.\n",
      "Serendipity comparison saved\n"
     ]
    },
    {
     "name": "stderr",
     "output_type": "stream",
     "text": [
      "\r"
     ]
    }
   ],
   "source": [
    "model.evaluate_serendipity(dataset=data)"
   ]
  }
 ],
 "metadata": {
  "kernelspec": {
   "display_name": "Python 3 (ipykernel)",
   "language": "python",
   "name": "python3"
  },
  "language_info": {
   "codemirror_mode": {
    "name": "ipython",
    "version": 3
   },
   "file_extension": ".py",
   "mimetype": "text/x-python",
   "name": "python",
   "nbconvert_exporter": "python",
   "pygments_lexer": "ipython3",
   "version": "3.9.19"
  }
 },
 "nbformat": 4,
 "nbformat_minor": 5
}
